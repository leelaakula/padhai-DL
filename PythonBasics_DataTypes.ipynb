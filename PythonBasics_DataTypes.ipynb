{
  "nbformat": 4,
  "nbformat_minor": 0,
  "metadata": {
    "colab": {
      "name": "PythonBasics_DataTypes.ipynb",
      "version": "0.3.2",
      "provenance": [],
      "collapsed_sections": [
        "pjAi-4om7dUI",
        "oSkeuJkZ7nbS",
        "B_4qyrgc7urC",
        "72Eu9fED7XrC",
        "mld2f21RAyM9"
      ],
      "toc_visible": true,
      "include_colab_link": true
    },
    "kernelspec": {
      "name": "python3",
      "display_name": "Python 3"
    }
  },
  "cells": [
    {
      "cell_type": "markdown",
      "metadata": {
        "id": "view-in-github",
        "colab_type": "text"
      },
      "source": [
        "<a href=\"https://colab.research.google.com/github/leelaakula/padhai-dl/blob/master/PythonBasics_DataTypes.ipynb\" target=\"_parent\"><img src=\"https://colab.research.google.com/assets/colab-badge.svg\" alt=\"Open In Colab\"/></a>"
      ]
    },
    {
      "metadata": {
        "id": "pjAi-4om7dUI",
        "colab_type": "text"
      },
      "cell_type": "markdown",
      "source": [
        "# DataType Declarations"
      ]
    },
    {
      "metadata": {
        "id": "oU4lVNdK1MqA",
        "colab_type": "code",
        "colab": {}
      },
      "cell_type": "code",
      "source": [
        "name ='This is Oneplus'"
      ],
      "execution_count": 0,
      "outputs": []
    },
    {
      "metadata": {
        "id": "CS4f40Ij2Mku",
        "colab_type": "code",
        "colab": {
          "base_uri": "https://localhost:8080/",
          "height": 34
        },
        "outputId": "237f87a3-ac25-4e45-f07b-161e2578e0d7"
      },
      "cell_type": "code",
      "source": [
        "type(name)"
      ],
      "execution_count": 2,
      "outputs": [
        {
          "output_type": "execute_result",
          "data": {
            "text/plain": [
              "str"
            ]
          },
          "metadata": {
            "tags": []
          },
          "execution_count": 2
        }
      ]
    },
    {
      "metadata": {
        "id": "l_d8PCyU2PjG",
        "colab_type": "code",
        "colab": {
          "base_uri": "https://localhost:8080/",
          "height": 34
        },
        "outputId": "9045dfad-0e8b-497f-8fe0-d2ebeb04cd0a"
      },
      "cell_type": "code",
      "source": [
        "print(name)"
      ],
      "execution_count": 3,
      "outputs": [
        {
          "output_type": "stream",
          "text": [
            "This is Oneplus\n"
          ],
          "name": "stdout"
        }
      ]
    },
    {
      "metadata": {
        "id": "oGYHoLeY2Vt7",
        "colab_type": "code",
        "colab": {}
      },
      "cell_type": "code",
      "source": [
        "phone_size =6.1"
      ],
      "execution_count": 0,
      "outputs": []
    },
    {
      "metadata": {
        "id": "Fjujwmqw2cN9",
        "colab_type": "code",
        "colab": {
          "base_uri": "https://localhost:8080/",
          "height": 34
        },
        "outputId": "d6fb2ece-73da-4399-897f-95bc0ebe9fa2"
      },
      "cell_type": "code",
      "source": [
        "type(phone_size)"
      ],
      "execution_count": 6,
      "outputs": [
        {
          "output_type": "execute_result",
          "data": {
            "text/plain": [
              "float"
            ]
          },
          "metadata": {
            "tags": []
          },
          "execution_count": 6
        }
      ]
    },
    {
      "metadata": {
        "id": "oSkeuJkZ7nbS",
        "colab_type": "text"
      },
      "cell_type": "markdown",
      "source": [
        "# Conditional operators"
      ]
    },
    {
      "metadata": {
        "id": "O5tm-M0b3B6K",
        "colab_type": "code",
        "colab": {
          "base_uri": "https://localhost:8080/",
          "height": 34
        },
        "outputId": "0379b2ff-b038-499e-9fd7-b46654d9530d"
      },
      "cell_type": "code",
      "source": [
        "if phone_size >6:\n",
        "  print(name + ' not an iPhone')"
      ],
      "execution_count": 8,
      "outputs": [
        {
          "output_type": "stream",
          "text": [
            "This is Oneplus not an iPhone\n"
          ],
          "name": "stdout"
        }
      ]
    },
    {
      "metadata": {
        "id": "eCRUiNYh37k0",
        "colab_type": "code",
        "colab": {
          "base_uri": "https://localhost:8080/",
          "height": 103
        },
        "outputId": "2d732d9a-2407-42c6-b62a-6ab57d522d57"
      },
      "cell_type": "code",
      "source": [
        "for i in range(5):\n",
        "  print (i)"
      ],
      "execution_count": 9,
      "outputs": [
        {
          "output_type": "stream",
          "text": [
            "0\n",
            "1\n",
            "2\n",
            "3\n",
            "4\n"
          ],
          "name": "stdout"
        }
      ]
    },
    {
      "metadata": {
        "id": "lv_xH_rj4HWZ",
        "colab_type": "code",
        "colab": {
          "base_uri": "https://localhost:8080/",
          "height": 103
        },
        "outputId": "fc692efd-2ca4-44ef-c546-76c1afad30c0"
      },
      "cell_type": "code",
      "source": [
        "i=0;\n",
        "while(i<5):\n",
        "  print(i)\n",
        "  i+=1"
      ],
      "execution_count": 12,
      "outputs": [
        {
          "output_type": "stream",
          "text": [
            "0\n",
            "1\n",
            "2\n",
            "3\n",
            "4\n"
          ],
          "name": "stdout"
        }
      ]
    },
    {
      "metadata": {
        "id": "B_4qyrgc7urC",
        "colab_type": "text"
      },
      "cell_type": "markdown",
      "source": [
        "# Functions"
      ]
    },
    {
      "metadata": {
        "id": "CW0JTWJI4RrZ",
        "colab_type": "code",
        "colab": {}
      },
      "cell_type": "code",
      "source": [
        "def first_func(val):\n",
        "  for i in range(val):\n",
        "    print(i, i** 2)"
      ],
      "execution_count": 0,
      "outputs": []
    },
    {
      "metadata": {
        "id": "sgNWNPN14v1d",
        "colab_type": "code",
        "colab": {
          "base_uri": "https://localhost:8080/",
          "height": 69
        },
        "outputId": "8d938236-46f2-4c70-fb23-1e5a0b771c5f"
      },
      "cell_type": "code",
      "source": [
        "first_func(3)"
      ],
      "execution_count": 14,
      "outputs": [
        {
          "output_type": "stream",
          "text": [
            "0 0\n",
            "1 1\n",
            "2 4\n"
          ],
          "name": "stdout"
        }
      ]
    },
    {
      "metadata": {
        "id": "biK4bGth4y_q",
        "colab_type": "code",
        "colab": {}
      },
      "cell_type": "code",
      "source": [
        "def func_with_start_stop(stop,start_val=0):\n",
        "  for i in range(start_val, stop):\n",
        "    print(i, i**2)"
      ],
      "execution_count": 0,
      "outputs": []
    },
    {
      "metadata": {
        "id": "dzeCTEwp5_II",
        "colab_type": "code",
        "colab": {
          "base_uri": "https://localhost:8080/",
          "height": 86
        },
        "outputId": "b1b3be18-2e62-42ea-fea0-50118b0eb461"
      },
      "cell_type": "code",
      "source": [
        "func_with_start_stop(5,1)"
      ],
      "execution_count": 26,
      "outputs": [
        {
          "output_type": "stream",
          "text": [
            "1 1\n",
            "2 4\n",
            "3 9\n",
            "4 16\n"
          ],
          "name": "stdout"
        }
      ]
    },
    {
      "metadata": {
        "id": "D93xy0mk6CqQ",
        "colab_type": "code",
        "colab": {}
      },
      "cell_type": "code",
      "source": [
        ""
      ],
      "execution_count": 0,
      "outputs": []
    },
    {
      "metadata": {
        "id": "72Eu9fED7XrC",
        "colab_type": "text"
      },
      "cell_type": "markdown",
      "source": [
        "# List"
      ]
    },
    {
      "metadata": {
        "id": "d-aAp3nJ7awT",
        "colab_type": "code",
        "colab": {
          "base_uri": "https://localhost:8080/",
          "height": 34
        },
        "outputId": "1e5c39bd-341d-46fd-b7e7-ce6db036c133"
      },
      "cell_type": "code",
      "source": [
        "my_phone = [name, phone_size]\n",
        "print(my_phone)"
      ],
      "execution_count": 28,
      "outputs": [
        {
          "output_type": "stream",
          "text": [
            "['This is Oneplus', 6.1]\n"
          ],
          "name": "stdout"
        }
      ]
    },
    {
      "metadata": {
        "id": "10bUNp-B8LxU",
        "colab_type": "code",
        "colab": {
          "base_uri": "https://localhost:8080/",
          "height": 34
        },
        "outputId": "a2e4c944-b223-4419-d522-fc754ed9c1aa"
      },
      "cell_type": "code",
      "source": [
        "my_phone.append('android')\n",
        "pass_by_ref = my_phone\n",
        "print(pass_by_ref)"
      ],
      "execution_count": 31,
      "outputs": [
        {
          "output_type": "stream",
          "text": [
            "['This is Oneplus', 6.1, 'android']\n"
          ],
          "name": "stdout"
        }
      ]
    },
    {
      "metadata": {
        "id": "56LHEeUu98P3",
        "colab_type": "code",
        "colab": {}
      },
      "cell_type": "code",
      "source": [
        "pass_by_ref[2]='notAndroid'"
      ],
      "execution_count": 0,
      "outputs": []
    },
    {
      "metadata": {
        "id": "8ELKTIPz-Q7i",
        "colab_type": "code",
        "colab": {
          "base_uri": "https://localhost:8080/",
          "height": 34
        },
        "outputId": "52ef15f8-281f-41de-893c-de98e2383513"
      },
      "cell_type": "code",
      "source": [
        "print(pass_by_ref, my_phone)"
      ],
      "execution_count": 36,
      "outputs": [
        {
          "output_type": "stream",
          "text": [
            "['This is Oneplus', 6.1, 'Andriod'] ['This is Oneplus', 6.1, 'Andriod']\n"
          ],
          "name": "stdout"
        }
      ]
    },
    {
      "metadata": {
        "id": "dLgn2ASK-V27",
        "colab_type": "code",
        "colab": {}
      },
      "cell_type": "code",
      "source": [
        "pass_by_value = list(my_phone)"
      ],
      "execution_count": 0,
      "outputs": []
    },
    {
      "metadata": {
        "id": "-nACnmEC-a0L",
        "colab_type": "code",
        "colab": {}
      },
      "cell_type": "code",
      "source": [
        "my_phone[2]='Andriod'"
      ],
      "execution_count": 0,
      "outputs": []
    },
    {
      "metadata": {
        "id": "pIXJgc5x-fN1",
        "colab_type": "code",
        "colab": {
          "base_uri": "https://localhost:8080/",
          "height": 34
        },
        "outputId": "c077519f-5c80-420c-afb7-17b46ada77b3"
      },
      "cell_type": "code",
      "source": [
        "print(my_phone, pass_by_ref, pass_by_value)"
      ],
      "execution_count": 38,
      "outputs": [
        {
          "output_type": "stream",
          "text": [
            "['This is Oneplus', 6.1, 'Andriod'] ['This is Oneplus', 6.1, 'Andriod'] ['This is Oneplus', 6.1, 'notAndroid']\n"
          ],
          "name": "stdout"
        }
      ]
    },
    {
      "metadata": {
        "id": "V0338ui2-1TB",
        "colab_type": "code",
        "colab": {
          "base_uri": "https://localhost:8080/",
          "height": 34
        },
        "outputId": "76f69884-0ec1-4086-ff65-fa50ffa154d2"
      },
      "cell_type": "code",
      "source": [
        "a=list(range(5))\n",
        "print(a)"
      ],
      "execution_count": 39,
      "outputs": [
        {
          "output_type": "stream",
          "text": [
            "[0, 1, 2, 3, 4]\n"
          ],
          "name": "stdout"
        }
      ]
    },
    {
      "metadata": {
        "id": "WlNwdyLz_QdN",
        "colab_type": "code",
        "colab": {
          "base_uri": "https://localhost:8080/",
          "height": 34
        },
        "outputId": "b97aa6df-ff0c-4cfd-a8a4-82e75a4c50c1"
      },
      "cell_type": "code",
      "source": [
        "b=list(map(lambda x:x**2,a))\n",
        "print(b)"
      ],
      "execution_count": 40,
      "outputs": [
        {
          "output_type": "stream",
          "text": [
            "[0, 1, 4, 9, 16]\n"
          ],
          "name": "stdout"
        }
      ]
    },
    {
      "metadata": {
        "id": "rJggYchy_eDd",
        "colab_type": "code",
        "colab": {
          "base_uri": "https://localhost:8080/",
          "height": 34
        },
        "outputId": "cb252bea-37f3-4521-c5ee-63e4f2d3315e"
      },
      "cell_type": "code",
      "source": [
        "c=list(filter(lambda x:x%2==0,b))\n",
        "print(c)"
      ],
      "execution_count": 41,
      "outputs": [
        {
          "output_type": "stream",
          "text": [
            "[0, 4, 16]\n"
          ],
          "name": "stdout"
        }
      ]
    },
    {
      "metadata": {
        "id": "mld2f21RAyM9",
        "colab_type": "text"
      },
      "cell_type": "markdown",
      "source": [
        "# Tuple, Set, Dictionary"
      ]
    },
    {
      "metadata": {
        "id": "mvy_NAXyA1Xk",
        "colab_type": "code",
        "colab": {
          "base_uri": "https://localhost:8080/",
          "height": 51
        },
        "outputId": "1737cc0b-1069-42a7-9196-53bf2ea29aa9"
      },
      "cell_type": "code",
      "source": [
        "my_phone_tuple =('OnePlus 6', True,  6.1)\n",
        "print(my_phone_tuple)\n",
        "type(my_phone_tuple)"
      ],
      "execution_count": 43,
      "outputs": [
        {
          "output_type": "stream",
          "text": [
            "('OnePlus 6', True, 6.1)\n"
          ],
          "name": "stdout"
        },
        {
          "output_type": "execute_result",
          "data": {
            "text/plain": [
              "tuple"
            ]
          },
          "metadata": {
            "tags": []
          },
          "execution_count": 43
        }
      ]
    },
    {
      "metadata": {
        "id": "QvL43_JPBDAC",
        "colab_type": "code",
        "colab": {
          "base_uri": "https://localhost:8080/",
          "height": 165
        },
        "outputId": "4197a01f-7e8c-42f3-bc2c-a7820f7d963a"
      },
      "cell_type": "code",
      "source": [
        "my_phone_tuple[2]=6.3"
      ],
      "execution_count": 44,
      "outputs": [
        {
          "output_type": "error",
          "ename": "TypeError",
          "evalue": "ignored",
          "traceback": [
            "\u001b[0;31m---------------------------------------------------------------------------\u001b[0m",
            "\u001b[0;31mTypeError\u001b[0m                                 Traceback (most recent call last)",
            "\u001b[0;32m<ipython-input-44-6d54e76888c1>\u001b[0m in \u001b[0;36m<module>\u001b[0;34m()\u001b[0m\n\u001b[0;32m----> 1\u001b[0;31m \u001b[0mmy_phone_tuple\u001b[0m\u001b[0;34m[\u001b[0m\u001b[0;36m2\u001b[0m\u001b[0;34m]\u001b[0m\u001b[0;34m=\u001b[0m\u001b[0;36m6.3\u001b[0m\u001b[0;34m\u001b[0m\u001b[0;34m\u001b[0m\u001b[0m\n\u001b[0m",
            "\u001b[0;31mTypeError\u001b[0m: 'tuple' object does not support item assignment"
          ]
        }
      ]
    },
    {
      "metadata": {
        "id": "hprEEtUVGYpR",
        "colab_type": "code",
        "colab": {}
      },
      "cell_type": "code",
      "source": [
        "import time"
      ],
      "execution_count": 0,
      "outputs": []
    },
    {
      "metadata": {
        "id": "x8AiD9DcBNsP",
        "colab_type": "code",
        "colab": {
          "base_uri": "https://localhost:8080/",
          "height": 34
        },
        "outputId": "c8512229-0fa4-4436-cef3-c3e66dc0150c"
      },
      "cell_type": "code",
      "source": [
        "my_list=list(range(1000000))\n",
        "tick=time.time()\n",
        "my_sqrd_list=map(lambda x:x**2,my_list)\n",
        "tock =time.time()\n",
        "print('Time in Secs', tock - tick)"
      ],
      "execution_count": 56,
      "outputs": [
        {
          "output_type": "stream",
          "text": [
            "Time in Secs 0.023334741592407227\n"
          ],
          "name": "stdout"
        }
      ]
    },
    {
      "metadata": {
        "id": "yyuO2Q7uF0GQ",
        "colab_type": "code",
        "colab": {
          "base_uri": "https://localhost:8080/",
          "height": 34
        },
        "outputId": "3facf26a-f059-418a-cea2-081d9625bcd4"
      },
      "cell_type": "code",
      "source": [
        "my_tuple=list(range(1000000))\n",
        "tick = time.time()\n",
        "my_sqrd_tuple=map(lambda x:x**2,my_tuple)\n",
        "tock = time.time()\n",
        "print('Time in Secs', tock - tick)"
      ],
      "execution_count": 55,
      "outputs": [
        {
          "output_type": "stream",
          "text": [
            "Time in Secs 0.021239280700683594\n"
          ],
          "name": "stdout"
        }
      ]
    },
    {
      "metadata": {
        "id": "rBLKXhslGWRS",
        "colab_type": "code",
        "colab": {
          "base_uri": "https://localhost:8080/",
          "height": 69
        },
        "outputId": "557ac9bb-568e-4757-f752-86f974706ca1"
      },
      "cell_type": "code",
      "source": [
        "my_set = set(range(1000000))\n",
        "tick = time.time()\n",
        "print(111 in my_set)\n",
        "print(11111111111111111 in my_set)\n",
        "tock = time.time()\n",
        "print('Time in secs', tock -tick)"
      ],
      "execution_count": 57,
      "outputs": [
        {
          "output_type": "stream",
          "text": [
            "True\n",
            "False\n",
            "Time in secs 0.001720428466796875\n"
          ],
          "name": "stdout"
        }
      ]
    },
    {
      "metadata": {
        "id": "tKMwWwVjH7Ub",
        "colab_type": "code",
        "colab": {}
      },
      "cell_type": "code",
      "source": [
        "my_list_dict = {}"
      ],
      "execution_count": 0,
      "outputs": []
    },
    {
      "metadata": {
        "id": "F-_oVUC8IbBo",
        "colab_type": "code",
        "colab": {
          "base_uri": "https://localhost:8080/",
          "height": 34
        },
        "outputId": "6d7715b7-87d3-4fb4-bb76-dc94215da436"
      },
      "cell_type": "code",
      "source": [
        "type(my_list_dict)"
      ],
      "execution_count": 59,
      "outputs": [
        {
          "output_type": "execute_result",
          "data": {
            "text/plain": [
              "dict"
            ]
          },
          "metadata": {
            "tags": []
          },
          "execution_count": 59
        }
      ]
    },
    {
      "metadata": {
        "id": "EFh9_mL0IdN7",
        "colab_type": "code",
        "colab": {
          "base_uri": "https://localhost:8080/",
          "height": 34
        },
        "outputId": "42310416-7f5f-401c-d287-145a5778bc54"
      },
      "cell_type": "code",
      "source": [
        "my_list_dict['name']='Anuroop'\n",
        "my_list_dict['age']=25\n",
        "print(my_list_dict)"
      ],
      "execution_count": 60,
      "outputs": [
        {
          "output_type": "stream",
          "text": [
            "{'name': 'Anuroop', 'age': 25}\n"
          ],
          "name": "stdout"
        }
      ]
    },
    {
      "metadata": {
        "id": "rTgb2IQiIqjV",
        "colab_type": "code",
        "colab": {
          "base_uri": "https://localhost:8080/",
          "height": 69
        },
        "outputId": "2cb7e463-958f-4d44-fd7f-b936a1ebb296"
      },
      "cell_type": "code",
      "source": [
        "print(my_list_dict.keys())\n",
        "print(my_list_dict.values())\n",
        "print(my_list_dict.items())"
      ],
      "execution_count": 63,
      "outputs": [
        {
          "output_type": "stream",
          "text": [
            "dict_keys(['name', 'age'])\n",
            "dict_values(['Anuroop', 25])\n",
            "dict_items([('name', 'Anuroop'), ('age', 25)])\n"
          ],
          "name": "stdout"
        }
      ]
    },
    {
      "metadata": {
        "id": "75q6yT9qIzNY",
        "colab_type": "code",
        "colab": {
          "base_uri": "https://localhost:8080/",
          "height": 51
        },
        "outputId": "57d7508e-da1b-4381-e158-055ad4d265ee"
      },
      "cell_type": "code",
      "source": [
        "for key in my_list_dict.keys():\n",
        "  print(key,':', my_list_dict[key])"
      ],
      "execution_count": 77,
      "outputs": [
        {
          "output_type": "stream",
          "text": [
            "name : Anuroop\n",
            "age : 25\n"
          ],
          "name": "stdout"
        }
      ]
    },
    {
      "metadata": {
        "id": "hR70i3hMKwXp",
        "colab_type": "text"
      },
      "cell_type": "markdown",
      "source": [
        "# Python Packages"
      ]
    },
    {
      "metadata": {
        "id": "0sUU6-HwJWKn",
        "colab_type": "code",
        "colab": {}
      },
      "cell_type": "code",
      "source": [
        "!echo 'def hello():' >my_first_module.py\n",
        "!echo '    print(\"hello world, this is evil morty\")' >> my_first_module.py"
      ],
      "execution_count": 0,
      "outputs": []
    },
    {
      "metadata": {
        "id": "vKT-bSaPNtzs",
        "colab_type": "code",
        "colab": {
          "base_uri": "https://localhost:8080/",
          "height": 51
        },
        "outputId": "41d6acca-5059-4f12-a8f9-0637d0854698"
      },
      "cell_type": "code",
      "source": [
        "!cat my_first_module.py"
      ],
      "execution_count": 86,
      "outputs": [
        {
          "output_type": "stream",
          "text": [
            "def hello():\n",
            "    print(\"hello world, this is evil morty\")\n"
          ],
          "name": "stdout"
        }
      ]
    },
    {
      "metadata": {
        "id": "pZnewVL_N5Op",
        "colab_type": "code",
        "colab": {}
      },
      "cell_type": "code",
      "source": [
        "import my_first_module"
      ],
      "execution_count": 0,
      "outputs": []
    },
    {
      "metadata": {
        "id": "2NwO5Fe-Okog",
        "colab_type": "code",
        "colab": {
          "base_uri": "https://localhost:8080/",
          "height": 165
        },
        "outputId": "f9621f1d-4bc4-4a1c-cf68-dd4775d96917"
      },
      "cell_type": "code",
      "source": [
        "hello()"
      ],
      "execution_count": 89,
      "outputs": [
        {
          "output_type": "error",
          "ename": "NameError",
          "evalue": "ignored",
          "traceback": [
            "\u001b[0;31m---------------------------------------------------------------------------\u001b[0m",
            "\u001b[0;31mNameError\u001b[0m                                 Traceback (most recent call last)",
            "\u001b[0;32m<ipython-input-89-a75d7781aaeb>\u001b[0m in \u001b[0;36m<module>\u001b[0;34m()\u001b[0m\n\u001b[0;32m----> 1\u001b[0;31m \u001b[0mhello\u001b[0m\u001b[0;34m(\u001b[0m\u001b[0;34m)\u001b[0m\u001b[0;34m\u001b[0m\u001b[0;34m\u001b[0m\u001b[0m\n\u001b[0m",
            "\u001b[0;31mNameError\u001b[0m: name 'hello' is not defined"
          ]
        }
      ]
    },
    {
      "metadata": {
        "id": "kBlEf6QRPj0C",
        "colab_type": "code",
        "colab": {
          "base_uri": "https://localhost:8080/",
          "height": 34
        },
        "outputId": "bd8743ee-d494-4f29-965d-14443d28be06"
      },
      "cell_type": "code",
      "source": [
        "my_first_module.hello()"
      ],
      "execution_count": 90,
      "outputs": [
        {
          "output_type": "stream",
          "text": [
            "hello world, this is evil morty\n"
          ],
          "name": "stdout"
        }
      ]
    },
    {
      "metadata": {
        "id": "3szZF1OtPpMb",
        "colab_type": "code",
        "colab": {}
      },
      "cell_type": "code",
      "source": [
        "from my_first_module import hello "
      ],
      "execution_count": 0,
      "outputs": []
    },
    {
      "metadata": {
        "id": "71LWi9GqPtb1",
        "colab_type": "code",
        "colab": {
          "base_uri": "https://localhost:8080/",
          "height": 34
        },
        "outputId": "495b5334-76d2-4b55-d399-63d63b8239e1"
      },
      "cell_type": "code",
      "source": [
        "hello()"
      ],
      "execution_count": 94,
      "outputs": [
        {
          "output_type": "stream",
          "text": [
            "hello world, this is evil morty\n"
          ],
          "name": "stdout"
        }
      ]
    },
    {
      "metadata": {
        "id": "k-6ruyS6P7Xl",
        "colab_type": "code",
        "colab": {}
      },
      "cell_type": "code",
      "source": [
        ""
      ],
      "execution_count": 0,
      "outputs": []
    }
  ]
}