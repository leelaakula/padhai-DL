{
  "nbformat": 4,
  "nbformat_minor": 0,
  "metadata": {
    "colab": {
      "name": "MPNeuronAndPerceptron.ipynb",
      "version": "0.3.2",
      "provenance": [],
      "collapsed_sections": [
        "4ozIQlgA9TDt",
        "ZfCFb9puCa6G",
        "XZv2uqIVKHQh",
        "LATRkcXgwAkm"
      ],
      "include_colab_link": true
    },
    "kernelspec": {
      "name": "python3",
      "display_name": "Python 3"
    }
  },
  "cells": [
    {
      "cell_type": "markdown",
      "metadata": {
        "id": "view-in-github",
        "colab_type": "text"
      },
      "source": [
        "<a href=\"https://colab.research.google.com/github/leelaakula/padhai-dl/blob/master/MPNeuronAndPerceptron.ipynb\" target=\"_parent\"><img src=\"https://colab.research.google.com/assets/colab-badge.svg\" alt=\"Open In Colab\"/></a>"
      ]
    },
    {
      "metadata": {
        "id": "4ozIQlgA9TDt",
        "colab_type": "text"
      },
      "cell_type": "markdown",
      "source": [
        "# Loading DataSet\n"
      ]
    },
    {
      "metadata": {
        "id": "cyZS0o9h9EIh",
        "colab_type": "code",
        "colab": {}
      },
      "cell_type": "code",
      "source": [
        "import sklearn.datasets\n",
        "import numpy as np"
      ],
      "execution_count": 0,
      "outputs": []
    },
    {
      "metadata": {
        "id": "KzabargA9Z1v",
        "colab_type": "code",
        "colab": {}
      },
      "cell_type": "code",
      "source": [
        "breast_cancer = sklearn.datasets.load_breast_cancer()"
      ],
      "execution_count": 0,
      "outputs": []
    },
    {
      "metadata": {
        "id": "d8Hg3dgl9rWc",
        "colab_type": "code",
        "colab": {}
      },
      "cell_type": "code",
      "source": [
        "X = breast_cancer.data\n",
        "Y = breast_cancer.target"
      ],
      "execution_count": 0,
      "outputs": []
    },
    {
      "metadata": {
        "id": "erXlMq8X-K9O",
        "colab_type": "code",
        "outputId": "5eb8dd56-fc68-434c-9f1b-cd1ecace3cbb",
        "colab": {
          "base_uri": "https://localhost:8080/",
          "height": 54
        }
      },
      "cell_type": "code",
      "source": [
        "print(X.shape, Y.shape)"
      ],
      "execution_count": 75,
      "outputs": [
        {
          "output_type": "stream",
          "text": [
            "(569, 30) (569,)\n"
          ],
          "name": "stdout"
        }
      ]
    },
    {
      "metadata": {
        "id": "HW5K7y_L-Nxf",
        "colab_type": "code",
        "colab": {}
      },
      "cell_type": "code",
      "source": [
        "import pandas as pd"
      ],
      "execution_count": 0,
      "outputs": []
    },
    {
      "metadata": {
        "id": "onDoaW__-qOe",
        "colab_type": "code",
        "colab": {}
      },
      "cell_type": "code",
      "source": [
        "# This is to visualize data in a tabular view\n",
        "data = pd.DataFrame(breast_cancer.data, columns=breast_cancer.feature_names)"
      ],
      "execution_count": 0,
      "outputs": []
    },
    {
      "metadata": {
        "id": "8P3KQ0AI_ACA",
        "colab_type": "code",
        "colab": {}
      },
      "cell_type": "code",
      "source": [
        "# Adding our output column to the table\n",
        "data['class']= breast_cancer.target"
      ],
      "execution_count": 0,
      "outputs": []
    },
    {
      "metadata": {
        "id": "AFu-nEQU_E-h",
        "colab_type": "code",
        "outputId": "995fcba7-53b0-4355-af2a-5c209bf92b1f",
        "colab": {
          "base_uri": "https://localhost:8080/",
          "height": 355
        }
      },
      "cell_type": "code",
      "source": [
        "# To view our data in table format\n",
        "data.head()"
      ],
      "execution_count": 79,
      "outputs": [
        {
          "output_type": "execute_result",
          "data": {
            "text/html": [
              "<div>\n",
              "<style scoped>\n",
              "    .dataframe tbody tr th:only-of-type {\n",
              "        vertical-align: middle;\n",
              "    }\n",
              "\n",
              "    .dataframe tbody tr th {\n",
              "        vertical-align: top;\n",
              "    }\n",
              "\n",
              "    .dataframe thead th {\n",
              "        text-align: right;\n",
              "    }\n",
              "</style>\n",
              "<table border=\"1\" class=\"dataframe\">\n",
              "  <thead>\n",
              "    <tr style=\"text-align: right;\">\n",
              "      <th></th>\n",
              "      <th>mean radius</th>\n",
              "      <th>mean texture</th>\n",
              "      <th>mean perimeter</th>\n",
              "      <th>mean area</th>\n",
              "      <th>mean smoothness</th>\n",
              "      <th>mean compactness</th>\n",
              "      <th>mean concavity</th>\n",
              "      <th>mean concave points</th>\n",
              "      <th>mean symmetry</th>\n",
              "      <th>mean fractal dimension</th>\n",
              "      <th>...</th>\n",
              "      <th>worst texture</th>\n",
              "      <th>worst perimeter</th>\n",
              "      <th>worst area</th>\n",
              "      <th>worst smoothness</th>\n",
              "      <th>worst compactness</th>\n",
              "      <th>worst concavity</th>\n",
              "      <th>worst concave points</th>\n",
              "      <th>worst symmetry</th>\n",
              "      <th>worst fractal dimension</th>\n",
              "      <th>class</th>\n",
              "    </tr>\n",
              "  </thead>\n",
              "  <tbody>\n",
              "    <tr>\n",
              "      <th>0</th>\n",
              "      <td>17.99</td>\n",
              "      <td>10.38</td>\n",
              "      <td>122.80</td>\n",
              "      <td>1001.0</td>\n",
              "      <td>0.11840</td>\n",
              "      <td>0.27760</td>\n",
              "      <td>0.3001</td>\n",
              "      <td>0.14710</td>\n",
              "      <td>0.2419</td>\n",
              "      <td>0.07871</td>\n",
              "      <td>...</td>\n",
              "      <td>17.33</td>\n",
              "      <td>184.60</td>\n",
              "      <td>2019.0</td>\n",
              "      <td>0.1622</td>\n",
              "      <td>0.6656</td>\n",
              "      <td>0.7119</td>\n",
              "      <td>0.2654</td>\n",
              "      <td>0.4601</td>\n",
              "      <td>0.11890</td>\n",
              "      <td>0</td>\n",
              "    </tr>\n",
              "    <tr>\n",
              "      <th>1</th>\n",
              "      <td>20.57</td>\n",
              "      <td>17.77</td>\n",
              "      <td>132.90</td>\n",
              "      <td>1326.0</td>\n",
              "      <td>0.08474</td>\n",
              "      <td>0.07864</td>\n",
              "      <td>0.0869</td>\n",
              "      <td>0.07017</td>\n",
              "      <td>0.1812</td>\n",
              "      <td>0.05667</td>\n",
              "      <td>...</td>\n",
              "      <td>23.41</td>\n",
              "      <td>158.80</td>\n",
              "      <td>1956.0</td>\n",
              "      <td>0.1238</td>\n",
              "      <td>0.1866</td>\n",
              "      <td>0.2416</td>\n",
              "      <td>0.1860</td>\n",
              "      <td>0.2750</td>\n",
              "      <td>0.08902</td>\n",
              "      <td>0</td>\n",
              "    </tr>\n",
              "    <tr>\n",
              "      <th>2</th>\n",
              "      <td>19.69</td>\n",
              "      <td>21.25</td>\n",
              "      <td>130.00</td>\n",
              "      <td>1203.0</td>\n",
              "      <td>0.10960</td>\n",
              "      <td>0.15990</td>\n",
              "      <td>0.1974</td>\n",
              "      <td>0.12790</td>\n",
              "      <td>0.2069</td>\n",
              "      <td>0.05999</td>\n",
              "      <td>...</td>\n",
              "      <td>25.53</td>\n",
              "      <td>152.50</td>\n",
              "      <td>1709.0</td>\n",
              "      <td>0.1444</td>\n",
              "      <td>0.4245</td>\n",
              "      <td>0.4504</td>\n",
              "      <td>0.2430</td>\n",
              "      <td>0.3613</td>\n",
              "      <td>0.08758</td>\n",
              "      <td>0</td>\n",
              "    </tr>\n",
              "    <tr>\n",
              "      <th>3</th>\n",
              "      <td>11.42</td>\n",
              "      <td>20.38</td>\n",
              "      <td>77.58</td>\n",
              "      <td>386.1</td>\n",
              "      <td>0.14250</td>\n",
              "      <td>0.28390</td>\n",
              "      <td>0.2414</td>\n",
              "      <td>0.10520</td>\n",
              "      <td>0.2597</td>\n",
              "      <td>0.09744</td>\n",
              "      <td>...</td>\n",
              "      <td>26.50</td>\n",
              "      <td>98.87</td>\n",
              "      <td>567.7</td>\n",
              "      <td>0.2098</td>\n",
              "      <td>0.8663</td>\n",
              "      <td>0.6869</td>\n",
              "      <td>0.2575</td>\n",
              "      <td>0.6638</td>\n",
              "      <td>0.17300</td>\n",
              "      <td>0</td>\n",
              "    </tr>\n",
              "    <tr>\n",
              "      <th>4</th>\n",
              "      <td>20.29</td>\n",
              "      <td>14.34</td>\n",
              "      <td>135.10</td>\n",
              "      <td>1297.0</td>\n",
              "      <td>0.10030</td>\n",
              "      <td>0.13280</td>\n",
              "      <td>0.1980</td>\n",
              "      <td>0.10430</td>\n",
              "      <td>0.1809</td>\n",
              "      <td>0.05883</td>\n",
              "      <td>...</td>\n",
              "      <td>16.67</td>\n",
              "      <td>152.20</td>\n",
              "      <td>1575.0</td>\n",
              "      <td>0.1374</td>\n",
              "      <td>0.2050</td>\n",
              "      <td>0.4000</td>\n",
              "      <td>0.1625</td>\n",
              "      <td>0.2364</td>\n",
              "      <td>0.07678</td>\n",
              "      <td>0</td>\n",
              "    </tr>\n",
              "  </tbody>\n",
              "</table>\n",
              "<p>5 rows × 31 columns</p>\n",
              "</div>"
            ],
            "text/plain": [
              "   mean radius  mean texture  mean perimeter  mean area  mean smoothness  \\\n",
              "0        17.99         10.38          122.80     1001.0          0.11840   \n",
              "1        20.57         17.77          132.90     1326.0          0.08474   \n",
              "2        19.69         21.25          130.00     1203.0          0.10960   \n",
              "3        11.42         20.38           77.58      386.1          0.14250   \n",
              "4        20.29         14.34          135.10     1297.0          0.10030   \n",
              "\n",
              "   mean compactness  mean concavity  mean concave points  mean symmetry  \\\n",
              "0           0.27760          0.3001              0.14710         0.2419   \n",
              "1           0.07864          0.0869              0.07017         0.1812   \n",
              "2           0.15990          0.1974              0.12790         0.2069   \n",
              "3           0.28390          0.2414              0.10520         0.2597   \n",
              "4           0.13280          0.1980              0.10430         0.1809   \n",
              "\n",
              "   mean fractal dimension  ...    worst texture  worst perimeter  worst area  \\\n",
              "0                 0.07871  ...            17.33           184.60      2019.0   \n",
              "1                 0.05667  ...            23.41           158.80      1956.0   \n",
              "2                 0.05999  ...            25.53           152.50      1709.0   \n",
              "3                 0.09744  ...            26.50            98.87       567.7   \n",
              "4                 0.05883  ...            16.67           152.20      1575.0   \n",
              "\n",
              "   worst smoothness  worst compactness  worst concavity  worst concave points  \\\n",
              "0            0.1622             0.6656           0.7119                0.2654   \n",
              "1            0.1238             0.1866           0.2416                0.1860   \n",
              "2            0.1444             0.4245           0.4504                0.2430   \n",
              "3            0.2098             0.8663           0.6869                0.2575   \n",
              "4            0.1374             0.2050           0.4000                0.1625   \n",
              "\n",
              "   worst symmetry  worst fractal dimension  class  \n",
              "0          0.4601                  0.11890      0  \n",
              "1          0.2750                  0.08902      0  \n",
              "2          0.3613                  0.08758      0  \n",
              "3          0.6638                  0.17300      0  \n",
              "4          0.2364                  0.07678      0  \n",
              "\n",
              "[5 rows x 31 columns]"
            ]
          },
          "metadata": {
            "tags": []
          },
          "execution_count": 79
        }
      ]
    },
    {
      "metadata": {
        "id": "9WuH5wBQ_ON6",
        "colab_type": "code",
        "outputId": "ab5b77a7-4ce0-4440-b4cd-205b292d6622",
        "colab": {
          "base_uri": "https://localhost:8080/",
          "height": 447
        }
      },
      "cell_type": "code",
      "source": [
        "# To view details of each feature\n",
        "data.describe()"
      ],
      "execution_count": 80,
      "outputs": [
        {
          "output_type": "execute_result",
          "data": {
            "text/html": [
              "<div>\n",
              "<style scoped>\n",
              "    .dataframe tbody tr th:only-of-type {\n",
              "        vertical-align: middle;\n",
              "    }\n",
              "\n",
              "    .dataframe tbody tr th {\n",
              "        vertical-align: top;\n",
              "    }\n",
              "\n",
              "    .dataframe thead th {\n",
              "        text-align: right;\n",
              "    }\n",
              "</style>\n",
              "<table border=\"1\" class=\"dataframe\">\n",
              "  <thead>\n",
              "    <tr style=\"text-align: right;\">\n",
              "      <th></th>\n",
              "      <th>mean radius</th>\n",
              "      <th>mean texture</th>\n",
              "      <th>mean perimeter</th>\n",
              "      <th>mean area</th>\n",
              "      <th>mean smoothness</th>\n",
              "      <th>mean compactness</th>\n",
              "      <th>mean concavity</th>\n",
              "      <th>mean concave points</th>\n",
              "      <th>mean symmetry</th>\n",
              "      <th>mean fractal dimension</th>\n",
              "      <th>...</th>\n",
              "      <th>worst texture</th>\n",
              "      <th>worst perimeter</th>\n",
              "      <th>worst area</th>\n",
              "      <th>worst smoothness</th>\n",
              "      <th>worst compactness</th>\n",
              "      <th>worst concavity</th>\n",
              "      <th>worst concave points</th>\n",
              "      <th>worst symmetry</th>\n",
              "      <th>worst fractal dimension</th>\n",
              "      <th>class</th>\n",
              "    </tr>\n",
              "  </thead>\n",
              "  <tbody>\n",
              "    <tr>\n",
              "      <th>count</th>\n",
              "      <td>569.000000</td>\n",
              "      <td>569.000000</td>\n",
              "      <td>569.000000</td>\n",
              "      <td>569.000000</td>\n",
              "      <td>569.000000</td>\n",
              "      <td>569.000000</td>\n",
              "      <td>569.000000</td>\n",
              "      <td>569.000000</td>\n",
              "      <td>569.000000</td>\n",
              "      <td>569.000000</td>\n",
              "      <td>...</td>\n",
              "      <td>569.000000</td>\n",
              "      <td>569.000000</td>\n",
              "      <td>569.000000</td>\n",
              "      <td>569.000000</td>\n",
              "      <td>569.000000</td>\n",
              "      <td>569.000000</td>\n",
              "      <td>569.000000</td>\n",
              "      <td>569.000000</td>\n",
              "      <td>569.000000</td>\n",
              "      <td>569.000000</td>\n",
              "    </tr>\n",
              "    <tr>\n",
              "      <th>mean</th>\n",
              "      <td>14.127292</td>\n",
              "      <td>19.289649</td>\n",
              "      <td>91.969033</td>\n",
              "      <td>654.889104</td>\n",
              "      <td>0.096360</td>\n",
              "      <td>0.104341</td>\n",
              "      <td>0.088799</td>\n",
              "      <td>0.048919</td>\n",
              "      <td>0.181162</td>\n",
              "      <td>0.062798</td>\n",
              "      <td>...</td>\n",
              "      <td>25.677223</td>\n",
              "      <td>107.261213</td>\n",
              "      <td>880.583128</td>\n",
              "      <td>0.132369</td>\n",
              "      <td>0.254265</td>\n",
              "      <td>0.272188</td>\n",
              "      <td>0.114606</td>\n",
              "      <td>0.290076</td>\n",
              "      <td>0.083946</td>\n",
              "      <td>0.627417</td>\n",
              "    </tr>\n",
              "    <tr>\n",
              "      <th>std</th>\n",
              "      <td>3.524049</td>\n",
              "      <td>4.301036</td>\n",
              "      <td>24.298981</td>\n",
              "      <td>351.914129</td>\n",
              "      <td>0.014064</td>\n",
              "      <td>0.052813</td>\n",
              "      <td>0.079720</td>\n",
              "      <td>0.038803</td>\n",
              "      <td>0.027414</td>\n",
              "      <td>0.007060</td>\n",
              "      <td>...</td>\n",
              "      <td>6.146258</td>\n",
              "      <td>33.602542</td>\n",
              "      <td>569.356993</td>\n",
              "      <td>0.022832</td>\n",
              "      <td>0.157336</td>\n",
              "      <td>0.208624</td>\n",
              "      <td>0.065732</td>\n",
              "      <td>0.061867</td>\n",
              "      <td>0.018061</td>\n",
              "      <td>0.483918</td>\n",
              "    </tr>\n",
              "    <tr>\n",
              "      <th>min</th>\n",
              "      <td>6.981000</td>\n",
              "      <td>9.710000</td>\n",
              "      <td>43.790000</td>\n",
              "      <td>143.500000</td>\n",
              "      <td>0.052630</td>\n",
              "      <td>0.019380</td>\n",
              "      <td>0.000000</td>\n",
              "      <td>0.000000</td>\n",
              "      <td>0.106000</td>\n",
              "      <td>0.049960</td>\n",
              "      <td>...</td>\n",
              "      <td>12.020000</td>\n",
              "      <td>50.410000</td>\n",
              "      <td>185.200000</td>\n",
              "      <td>0.071170</td>\n",
              "      <td>0.027290</td>\n",
              "      <td>0.000000</td>\n",
              "      <td>0.000000</td>\n",
              "      <td>0.156500</td>\n",
              "      <td>0.055040</td>\n",
              "      <td>0.000000</td>\n",
              "    </tr>\n",
              "    <tr>\n",
              "      <th>25%</th>\n",
              "      <td>11.700000</td>\n",
              "      <td>16.170000</td>\n",
              "      <td>75.170000</td>\n",
              "      <td>420.300000</td>\n",
              "      <td>0.086370</td>\n",
              "      <td>0.064920</td>\n",
              "      <td>0.029560</td>\n",
              "      <td>0.020310</td>\n",
              "      <td>0.161900</td>\n",
              "      <td>0.057700</td>\n",
              "      <td>...</td>\n",
              "      <td>21.080000</td>\n",
              "      <td>84.110000</td>\n",
              "      <td>515.300000</td>\n",
              "      <td>0.116600</td>\n",
              "      <td>0.147200</td>\n",
              "      <td>0.114500</td>\n",
              "      <td>0.064930</td>\n",
              "      <td>0.250400</td>\n",
              "      <td>0.071460</td>\n",
              "      <td>0.000000</td>\n",
              "    </tr>\n",
              "    <tr>\n",
              "      <th>50%</th>\n",
              "      <td>13.370000</td>\n",
              "      <td>18.840000</td>\n",
              "      <td>86.240000</td>\n",
              "      <td>551.100000</td>\n",
              "      <td>0.095870</td>\n",
              "      <td>0.092630</td>\n",
              "      <td>0.061540</td>\n",
              "      <td>0.033500</td>\n",
              "      <td>0.179200</td>\n",
              "      <td>0.061540</td>\n",
              "      <td>...</td>\n",
              "      <td>25.410000</td>\n",
              "      <td>97.660000</td>\n",
              "      <td>686.500000</td>\n",
              "      <td>0.131300</td>\n",
              "      <td>0.211900</td>\n",
              "      <td>0.226700</td>\n",
              "      <td>0.099930</td>\n",
              "      <td>0.282200</td>\n",
              "      <td>0.080040</td>\n",
              "      <td>1.000000</td>\n",
              "    </tr>\n",
              "    <tr>\n",
              "      <th>75%</th>\n",
              "      <td>15.780000</td>\n",
              "      <td>21.800000</td>\n",
              "      <td>104.100000</td>\n",
              "      <td>782.700000</td>\n",
              "      <td>0.105300</td>\n",
              "      <td>0.130400</td>\n",
              "      <td>0.130700</td>\n",
              "      <td>0.074000</td>\n",
              "      <td>0.195700</td>\n",
              "      <td>0.066120</td>\n",
              "      <td>...</td>\n",
              "      <td>29.720000</td>\n",
              "      <td>125.400000</td>\n",
              "      <td>1084.000000</td>\n",
              "      <td>0.146000</td>\n",
              "      <td>0.339100</td>\n",
              "      <td>0.382900</td>\n",
              "      <td>0.161400</td>\n",
              "      <td>0.317900</td>\n",
              "      <td>0.092080</td>\n",
              "      <td>1.000000</td>\n",
              "    </tr>\n",
              "    <tr>\n",
              "      <th>max</th>\n",
              "      <td>28.110000</td>\n",
              "      <td>39.280000</td>\n",
              "      <td>188.500000</td>\n",
              "      <td>2501.000000</td>\n",
              "      <td>0.163400</td>\n",
              "      <td>0.345400</td>\n",
              "      <td>0.426800</td>\n",
              "      <td>0.201200</td>\n",
              "      <td>0.304000</td>\n",
              "      <td>0.097440</td>\n",
              "      <td>...</td>\n",
              "      <td>49.540000</td>\n",
              "      <td>251.200000</td>\n",
              "      <td>4254.000000</td>\n",
              "      <td>0.222600</td>\n",
              "      <td>1.058000</td>\n",
              "      <td>1.252000</td>\n",
              "      <td>0.291000</td>\n",
              "      <td>0.663800</td>\n",
              "      <td>0.207500</td>\n",
              "      <td>1.000000</td>\n",
              "    </tr>\n",
              "  </tbody>\n",
              "</table>\n",
              "<p>8 rows × 31 columns</p>\n",
              "</div>"
            ],
            "text/plain": [
              "       mean radius  mean texture  mean perimeter    mean area  \\\n",
              "count   569.000000    569.000000      569.000000   569.000000   \n",
              "mean     14.127292     19.289649       91.969033   654.889104   \n",
              "std       3.524049      4.301036       24.298981   351.914129   \n",
              "min       6.981000      9.710000       43.790000   143.500000   \n",
              "25%      11.700000     16.170000       75.170000   420.300000   \n",
              "50%      13.370000     18.840000       86.240000   551.100000   \n",
              "75%      15.780000     21.800000      104.100000   782.700000   \n",
              "max      28.110000     39.280000      188.500000  2501.000000   \n",
              "\n",
              "       mean smoothness  mean compactness  mean concavity  mean concave points  \\\n",
              "count       569.000000        569.000000      569.000000           569.000000   \n",
              "mean          0.096360          0.104341        0.088799             0.048919   \n",
              "std           0.014064          0.052813        0.079720             0.038803   \n",
              "min           0.052630          0.019380        0.000000             0.000000   \n",
              "25%           0.086370          0.064920        0.029560             0.020310   \n",
              "50%           0.095870          0.092630        0.061540             0.033500   \n",
              "75%           0.105300          0.130400        0.130700             0.074000   \n",
              "max           0.163400          0.345400        0.426800             0.201200   \n",
              "\n",
              "       mean symmetry  mean fractal dimension     ...      worst texture  \\\n",
              "count     569.000000              569.000000     ...         569.000000   \n",
              "mean        0.181162                0.062798     ...          25.677223   \n",
              "std         0.027414                0.007060     ...           6.146258   \n",
              "min         0.106000                0.049960     ...          12.020000   \n",
              "25%         0.161900                0.057700     ...          21.080000   \n",
              "50%         0.179200                0.061540     ...          25.410000   \n",
              "75%         0.195700                0.066120     ...          29.720000   \n",
              "max         0.304000                0.097440     ...          49.540000   \n",
              "\n",
              "       worst perimeter   worst area  worst smoothness  worst compactness  \\\n",
              "count       569.000000   569.000000        569.000000         569.000000   \n",
              "mean        107.261213   880.583128          0.132369           0.254265   \n",
              "std          33.602542   569.356993          0.022832           0.157336   \n",
              "min          50.410000   185.200000          0.071170           0.027290   \n",
              "25%          84.110000   515.300000          0.116600           0.147200   \n",
              "50%          97.660000   686.500000          0.131300           0.211900   \n",
              "75%         125.400000  1084.000000          0.146000           0.339100   \n",
              "max         251.200000  4254.000000          0.222600           1.058000   \n",
              "\n",
              "       worst concavity  worst concave points  worst symmetry  \\\n",
              "count       569.000000            569.000000      569.000000   \n",
              "mean          0.272188              0.114606        0.290076   \n",
              "std           0.208624              0.065732        0.061867   \n",
              "min           0.000000              0.000000        0.156500   \n",
              "25%           0.114500              0.064930        0.250400   \n",
              "50%           0.226700              0.099930        0.282200   \n",
              "75%           0.382900              0.161400        0.317900   \n",
              "max           1.252000              0.291000        0.663800   \n",
              "\n",
              "       worst fractal dimension       class  \n",
              "count               569.000000  569.000000  \n",
              "mean                  0.083946    0.627417  \n",
              "std                   0.018061    0.483918  \n",
              "min                   0.055040    0.000000  \n",
              "25%                   0.071460    0.000000  \n",
              "50%                   0.080040    1.000000  \n",
              "75%                   0.092080    1.000000  \n",
              "max                   0.207500    1.000000  \n",
              "\n",
              "[8 rows x 31 columns]"
            ]
          },
          "metadata": {
            "tags": []
          },
          "execution_count": 80
        }
      ]
    },
    {
      "metadata": {
        "id": "bIG6tThQ_fW-",
        "colab_type": "code",
        "outputId": "5e10dd0c-8a12-4030-ed07-5a6a4b6414c9",
        "colab": {
          "base_uri": "https://localhost:8080/",
          "height": 89
        }
      },
      "cell_type": "code",
      "source": [
        "# To view number of value counts of any feature (to get count of values)\n",
        "print(data['class'].value_counts())"
      ],
      "execution_count": 81,
      "outputs": [
        {
          "output_type": "stream",
          "text": [
            "1    357\n",
            "0    212\n",
            "Name: class, dtype: int64\n"
          ],
          "name": "stdout"
        }
      ]
    },
    {
      "metadata": {
        "id": "w-uek1v1_3v2",
        "colab_type": "code",
        "outputId": "b0130666-8038-4e14-8b53-4ef8e37a1730",
        "colab": {
          "base_uri": "https://localhost:8080/",
          "height": 54
        }
      },
      "cell_type": "code",
      "source": [
        "# to view our output names (aganist what we are going to check)\n",
        "print(breast_cancer.target_names)"
      ],
      "execution_count": 82,
      "outputs": [
        {
          "output_type": "stream",
          "text": [
            "['malignant' 'benign']\n"
          ],
          "name": "stdout"
        }
      ]
    },
    {
      "metadata": {
        "id": "7PMoNoAnAXmL",
        "colab_type": "code",
        "outputId": "ea269cbf-bc83-481f-f643-a18b4c17aa0e",
        "colab": {
          "base_uri": "https://localhost:8080/",
          "height": 293
        }
      },
      "cell_type": "code",
      "source": [
        "# To view output value wise mean details\n",
        "data.groupby('class').mean()"
      ],
      "execution_count": 83,
      "outputs": [
        {
          "output_type": "execute_result",
          "data": {
            "text/html": [
              "<div>\n",
              "<style scoped>\n",
              "    .dataframe tbody tr th:only-of-type {\n",
              "        vertical-align: middle;\n",
              "    }\n",
              "\n",
              "    .dataframe tbody tr th {\n",
              "        vertical-align: top;\n",
              "    }\n",
              "\n",
              "    .dataframe thead th {\n",
              "        text-align: right;\n",
              "    }\n",
              "</style>\n",
              "<table border=\"1\" class=\"dataframe\">\n",
              "  <thead>\n",
              "    <tr style=\"text-align: right;\">\n",
              "      <th></th>\n",
              "      <th>mean radius</th>\n",
              "      <th>mean texture</th>\n",
              "      <th>mean perimeter</th>\n",
              "      <th>mean area</th>\n",
              "      <th>mean smoothness</th>\n",
              "      <th>mean compactness</th>\n",
              "      <th>mean concavity</th>\n",
              "      <th>mean concave points</th>\n",
              "      <th>mean symmetry</th>\n",
              "      <th>mean fractal dimension</th>\n",
              "      <th>...</th>\n",
              "      <th>worst radius</th>\n",
              "      <th>worst texture</th>\n",
              "      <th>worst perimeter</th>\n",
              "      <th>worst area</th>\n",
              "      <th>worst smoothness</th>\n",
              "      <th>worst compactness</th>\n",
              "      <th>worst concavity</th>\n",
              "      <th>worst concave points</th>\n",
              "      <th>worst symmetry</th>\n",
              "      <th>worst fractal dimension</th>\n",
              "    </tr>\n",
              "    <tr>\n",
              "      <th>class</th>\n",
              "      <th></th>\n",
              "      <th></th>\n",
              "      <th></th>\n",
              "      <th></th>\n",
              "      <th></th>\n",
              "      <th></th>\n",
              "      <th></th>\n",
              "      <th></th>\n",
              "      <th></th>\n",
              "      <th></th>\n",
              "      <th></th>\n",
              "      <th></th>\n",
              "      <th></th>\n",
              "      <th></th>\n",
              "      <th></th>\n",
              "      <th></th>\n",
              "      <th></th>\n",
              "      <th></th>\n",
              "      <th></th>\n",
              "      <th></th>\n",
              "      <th></th>\n",
              "    </tr>\n",
              "  </thead>\n",
              "  <tbody>\n",
              "    <tr>\n",
              "      <th>0</th>\n",
              "      <td>17.462830</td>\n",
              "      <td>21.604906</td>\n",
              "      <td>115.365377</td>\n",
              "      <td>978.376415</td>\n",
              "      <td>0.102898</td>\n",
              "      <td>0.145188</td>\n",
              "      <td>0.160775</td>\n",
              "      <td>0.087990</td>\n",
              "      <td>0.192909</td>\n",
              "      <td>0.062680</td>\n",
              "      <td>...</td>\n",
              "      <td>21.134811</td>\n",
              "      <td>29.318208</td>\n",
              "      <td>141.370330</td>\n",
              "      <td>1422.286321</td>\n",
              "      <td>0.144845</td>\n",
              "      <td>0.374824</td>\n",
              "      <td>0.450606</td>\n",
              "      <td>0.182237</td>\n",
              "      <td>0.323468</td>\n",
              "      <td>0.091530</td>\n",
              "    </tr>\n",
              "    <tr>\n",
              "      <th>1</th>\n",
              "      <td>12.146524</td>\n",
              "      <td>17.914762</td>\n",
              "      <td>78.075406</td>\n",
              "      <td>462.790196</td>\n",
              "      <td>0.092478</td>\n",
              "      <td>0.080085</td>\n",
              "      <td>0.046058</td>\n",
              "      <td>0.025717</td>\n",
              "      <td>0.174186</td>\n",
              "      <td>0.062867</td>\n",
              "      <td>...</td>\n",
              "      <td>13.379801</td>\n",
              "      <td>23.515070</td>\n",
              "      <td>87.005938</td>\n",
              "      <td>558.899440</td>\n",
              "      <td>0.124959</td>\n",
              "      <td>0.182673</td>\n",
              "      <td>0.166238</td>\n",
              "      <td>0.074444</td>\n",
              "      <td>0.270246</td>\n",
              "      <td>0.079442</td>\n",
              "    </tr>\n",
              "  </tbody>\n",
              "</table>\n",
              "<p>2 rows × 30 columns</p>\n",
              "</div>"
            ],
            "text/plain": [
              "       mean radius  mean texture  mean perimeter   mean area  mean smoothness  \\\n",
              "class                                                                           \n",
              "0        17.462830     21.604906      115.365377  978.376415         0.102898   \n",
              "1        12.146524     17.914762       78.075406  462.790196         0.092478   \n",
              "\n",
              "       mean compactness  mean concavity  mean concave points  mean symmetry  \\\n",
              "class                                                                         \n",
              "0              0.145188        0.160775             0.087990       0.192909   \n",
              "1              0.080085        0.046058             0.025717       0.174186   \n",
              "\n",
              "       mean fractal dimension           ...             worst radius  \\\n",
              "class                                   ...                            \n",
              "0                    0.062680           ...                21.134811   \n",
              "1                    0.062867           ...                13.379801   \n",
              "\n",
              "       worst texture  worst perimeter   worst area  worst smoothness  \\\n",
              "class                                                                  \n",
              "0          29.318208       141.370330  1422.286321          0.144845   \n",
              "1          23.515070        87.005938   558.899440          0.124959   \n",
              "\n",
              "       worst compactness  worst concavity  worst concave points  \\\n",
              "class                                                             \n",
              "0               0.374824         0.450606              0.182237   \n",
              "1               0.182673         0.166238              0.074444   \n",
              "\n",
              "       worst symmetry  worst fractal dimension  \n",
              "class                                           \n",
              "0            0.323468                 0.091530  \n",
              "1            0.270246                 0.079442  \n",
              "\n",
              "[2 rows x 30 columns]"
            ]
          },
          "metadata": {
            "tags": []
          },
          "execution_count": 83
        }
      ]
    },
    {
      "metadata": {
        "id": "yULXq0D6BJ5E",
        "colab_type": "code",
        "outputId": "a5fb7e55-7e8c-474a-a01c-3eb9bfc2d879",
        "colab": {
          "base_uri": "https://localhost:8080/",
          "height": 307
        }
      },
      "cell_type": "code",
      "source": [
        "# to view output value wise details like mean, avg, max etc\n",
        "data.groupby('class').describe()"
      ],
      "execution_count": 84,
      "outputs": [
        {
          "output_type": "execute_result",
          "data": {
            "text/html": [
              "<div>\n",
              "<style scoped>\n",
              "    .dataframe tbody tr th:only-of-type {\n",
              "        vertical-align: middle;\n",
              "    }\n",
              "\n",
              "    .dataframe tbody tr th {\n",
              "        vertical-align: top;\n",
              "    }\n",
              "\n",
              "    .dataframe thead tr th {\n",
              "        text-align: left;\n",
              "    }\n",
              "\n",
              "    .dataframe thead tr:last-of-type th {\n",
              "        text-align: right;\n",
              "    }\n",
              "</style>\n",
              "<table border=\"1\" class=\"dataframe\">\n",
              "  <thead>\n",
              "    <tr>\n",
              "      <th></th>\n",
              "      <th colspan=\"8\" halign=\"left\">area error</th>\n",
              "      <th colspan=\"2\" halign=\"left\">compactness error</th>\n",
              "      <th>...</th>\n",
              "      <th colspan=\"2\" halign=\"left\">worst symmetry</th>\n",
              "      <th colspan=\"8\" halign=\"left\">worst texture</th>\n",
              "    </tr>\n",
              "    <tr>\n",
              "      <th></th>\n",
              "      <th>count</th>\n",
              "      <th>mean</th>\n",
              "      <th>std</th>\n",
              "      <th>min</th>\n",
              "      <th>25%</th>\n",
              "      <th>50%</th>\n",
              "      <th>75%</th>\n",
              "      <th>max</th>\n",
              "      <th>count</th>\n",
              "      <th>mean</th>\n",
              "      <th>...</th>\n",
              "      <th>75%</th>\n",
              "      <th>max</th>\n",
              "      <th>count</th>\n",
              "      <th>mean</th>\n",
              "      <th>std</th>\n",
              "      <th>min</th>\n",
              "      <th>25%</th>\n",
              "      <th>50%</th>\n",
              "      <th>75%</th>\n",
              "      <th>max</th>\n",
              "    </tr>\n",
              "    <tr>\n",
              "      <th>class</th>\n",
              "      <th></th>\n",
              "      <th></th>\n",
              "      <th></th>\n",
              "      <th></th>\n",
              "      <th></th>\n",
              "      <th></th>\n",
              "      <th></th>\n",
              "      <th></th>\n",
              "      <th></th>\n",
              "      <th></th>\n",
              "      <th></th>\n",
              "      <th></th>\n",
              "      <th></th>\n",
              "      <th></th>\n",
              "      <th></th>\n",
              "      <th></th>\n",
              "      <th></th>\n",
              "      <th></th>\n",
              "      <th></th>\n",
              "      <th></th>\n",
              "      <th></th>\n",
              "    </tr>\n",
              "  </thead>\n",
              "  <tbody>\n",
              "    <tr>\n",
              "      <th>0</th>\n",
              "      <td>212.0</td>\n",
              "      <td>72.672406</td>\n",
              "      <td>61.355268</td>\n",
              "      <td>13.990</td>\n",
              "      <td>35.7625</td>\n",
              "      <td>58.455</td>\n",
              "      <td>94.00</td>\n",
              "      <td>542.20</td>\n",
              "      <td>212.0</td>\n",
              "      <td>0.032281</td>\n",
              "      <td>...</td>\n",
              "      <td>0.359225</td>\n",
              "      <td>0.6638</td>\n",
              "      <td>212.0</td>\n",
              "      <td>29.318208</td>\n",
              "      <td>5.434804</td>\n",
              "      <td>16.67</td>\n",
              "      <td>25.7825</td>\n",
              "      <td>28.945</td>\n",
              "      <td>32.69</td>\n",
              "      <td>49.54</td>\n",
              "    </tr>\n",
              "    <tr>\n",
              "      <th>1</th>\n",
              "      <td>357.0</td>\n",
              "      <td>21.135148</td>\n",
              "      <td>8.843472</td>\n",
              "      <td>6.802</td>\n",
              "      <td>15.2600</td>\n",
              "      <td>19.630</td>\n",
              "      <td>25.03</td>\n",
              "      <td>77.11</td>\n",
              "      <td>357.0</td>\n",
              "      <td>0.021438</td>\n",
              "      <td>...</td>\n",
              "      <td>0.298300</td>\n",
              "      <td>0.4228</td>\n",
              "      <td>357.0</td>\n",
              "      <td>23.515070</td>\n",
              "      <td>5.493955</td>\n",
              "      <td>12.02</td>\n",
              "      <td>19.5800</td>\n",
              "      <td>22.820</td>\n",
              "      <td>26.51</td>\n",
              "      <td>41.78</td>\n",
              "    </tr>\n",
              "  </tbody>\n",
              "</table>\n",
              "<p>2 rows × 240 columns</p>\n",
              "</div>"
            ],
            "text/plain": [
              "      area error                                                        \\\n",
              "           count       mean        std     min      25%     50%    75%   \n",
              "class                                                                    \n",
              "0          212.0  72.672406  61.355268  13.990  35.7625  58.455  94.00   \n",
              "1          357.0  21.135148   8.843472   6.802  15.2600  19.630  25.03   \n",
              "\n",
              "              compactness error            ...   worst symmetry          \\\n",
              "          max             count      mean  ...              75%     max   \n",
              "class                                      ...                            \n",
              "0      542.20             212.0  0.032281  ...         0.359225  0.6638   \n",
              "1       77.11             357.0  0.021438  ...         0.298300  0.4228   \n",
              "\n",
              "      worst texture                                                             \n",
              "              count       mean       std    min      25%     50%    75%    max  \n",
              "class                                                                           \n",
              "0             212.0  29.318208  5.434804  16.67  25.7825  28.945  32.69  49.54  \n",
              "1             357.0  23.515070  5.493955  12.02  19.5800  22.820  26.51  41.78  \n",
              "\n",
              "[2 rows x 240 columns]"
            ]
          },
          "metadata": {
            "tags": []
          },
          "execution_count": 84
        }
      ]
    },
    {
      "metadata": {
        "id": "ZfCFb9puCa6G",
        "colab_type": "text"
      },
      "cell_type": "markdown",
      "source": [
        "# Train Test Split"
      ]
    },
    {
      "metadata": {
        "id": "7o8JdDZpBasE",
        "colab_type": "code",
        "colab": {}
      },
      "cell_type": "code",
      "source": [
        "from sklearn.model_selection import train_test_split"
      ],
      "execution_count": 0,
      "outputs": []
    },
    {
      "metadata": {
        "id": "jIXpg_zZDCEq",
        "colab_type": "code",
        "colab": {}
      },
      "cell_type": "code",
      "source": [
        "# we are removing the output column from our panda table axis = 1 is column, axis =0 is row\n",
        "X = data.drop('class', axis=1)"
      ],
      "execution_count": 0,
      "outputs": []
    },
    {
      "metadata": {
        "id": "Ls9ongJODjGj",
        "colab_type": "code",
        "colab": {}
      },
      "cell_type": "code",
      "source": [
        "Y = data['class']"
      ],
      "execution_count": 0,
      "outputs": []
    },
    {
      "metadata": {
        "id": "afExz1wzDn-8",
        "colab_type": "code",
        "outputId": "c854a432-b03c-453c-9a16-5308690c9138",
        "colab": {
          "base_uri": "https://localhost:8080/",
          "height": 54
        }
      },
      "cell_type": "code",
      "source": [
        "type(Y)"
      ],
      "execution_count": 88,
      "outputs": [
        {
          "output_type": "execute_result",
          "data": {
            "text/plain": [
              "pandas.core.series.Series"
            ]
          },
          "metadata": {
            "tags": []
          },
          "execution_count": 88
        }
      ]
    },
    {
      "metadata": {
        "id": "gMC_d2sgDt5q",
        "colab_type": "code",
        "outputId": "64594f28-8739-4c96-f654-783416f7683b",
        "colab": {
          "base_uri": "https://localhost:8080/",
          "height": 54
        }
      },
      "cell_type": "code",
      "source": [
        "type(X)"
      ],
      "execution_count": 89,
      "outputs": [
        {
          "output_type": "execute_result",
          "data": {
            "text/plain": [
              "pandas.core.frame.DataFrame"
            ]
          },
          "metadata": {
            "tags": []
          },
          "execution_count": 89
        }
      ]
    },
    {
      "metadata": {
        "id": "MKrv_7zHDw9f",
        "colab_type": "code",
        "colab": {}
      },
      "cell_type": "code",
      "source": [
        "# this is to split the total available data into our traing data & test data without spliting from original dataSet \n",
        "X_train, X_test, Y_train, Y_test = train_test_split(X,Y)"
      ],
      "execution_count": 0,
      "outputs": []
    },
    {
      "metadata": {
        "id": "UKMOgxPdEjco",
        "colab_type": "code",
        "outputId": "e9e69367-5cd9-4758-c3a8-23c1e0d47914",
        "colab": {
          "base_uri": "https://localhost:8080/",
          "height": 54
        }
      },
      "cell_type": "code",
      "source": [
        "# by this we can see that our 569 rows are divided into 426 training and 143 testing data\n",
        "# this is default split by 80 - 20 \n",
        "print(X.shape, X_train.shape, X_test.shape)"
      ],
      "execution_count": 91,
      "outputs": [
        {
          "output_type": "stream",
          "text": [
            "(569, 30) (426, 30) (143, 30)\n"
          ],
          "name": "stdout"
        }
      ]
    },
    {
      "metadata": {
        "id": "pWaA6KC2Eyjg",
        "colab_type": "code",
        "colab": {}
      },
      "cell_type": "code",
      "source": [
        "# splitting can be changed by the following command \n",
        "X_train, X_test, Y_train, Y_test = train_test_split(X,Y, test_size=0.1)"
      ],
      "execution_count": 0,
      "outputs": []
    },
    {
      "metadata": {
        "id": "degZQULmFQAx",
        "colab_type": "code",
        "outputId": "de0d9ac5-7095-4d11-b8aa-9ef29f544117",
        "colab": {
          "base_uri": "https://localhost:8080/",
          "height": 54
        }
      },
      "cell_type": "code",
      "source": [
        "# our test size was changed from 20 to 10\n",
        "print(X.shape, X_train.shape, X_test.shape)"
      ],
      "execution_count": 93,
      "outputs": [
        {
          "output_type": "stream",
          "text": [
            "(569, 30) (512, 30) (57, 30)\n"
          ],
          "name": "stdout"
        }
      ]
    },
    {
      "metadata": {
        "id": "nY9e9oNVFhI3",
        "colab_type": "code",
        "outputId": "6e64ebb9-3c37-46eb-a1a0-53904ac11e6f",
        "colab": {
          "base_uri": "https://localhost:8080/",
          "height": 54
        }
      },
      "cell_type": "code",
      "source": [
        "# we are getting the data mean and it is not be aligned to Y\n",
        "print(Y.mean(), Y_train.mean(), Y_test.mean())"
      ],
      "execution_count": 94,
      "outputs": [
        {
          "output_type": "stream",
          "text": [
            "0.6274165202108963 0.615234375 0.7368421052631579\n"
          ],
          "name": "stdout"
        }
      ]
    },
    {
      "metadata": {
        "id": "wpMNsU_DGeiQ",
        "colab_type": "code",
        "colab": {}
      },
      "cell_type": "code",
      "source": [
        "# this will have our data more near to the actual dataset using stratify aganist Y which is our class (target, output which has 1 and 0 for cancer)\n",
        "X_train, X_test, Y_train, Y_test = train_test_split(X,Y, test_size=0.1,stratify=Y)"
      ],
      "execution_count": 0,
      "outputs": []
    },
    {
      "metadata": {
        "id": "o7FejRAQG3Ia",
        "colab_type": "code",
        "outputId": "acf31db9-f637-46a9-cea8-95900af36c69",
        "colab": {
          "base_uri": "https://localhost:8080/",
          "height": 54
        }
      },
      "cell_type": "code",
      "source": [
        "print(Y.mean(), Y_train.mean(), Y_test.mean())"
      ],
      "execution_count": 96,
      "outputs": [
        {
          "output_type": "stream",
          "text": [
            "0.6274165202108963 0.626953125 0.631578947368421\n"
          ],
          "name": "stdout"
        }
      ]
    },
    {
      "metadata": {
        "id": "M9oSZpQpG6Ij",
        "colab_type": "code",
        "outputId": "0b73d69d-e0e7-490e-dfd2-235f4c29941c",
        "colab": {
          "base_uri": "https://localhost:8080/",
          "height": 1602
        }
      },
      "cell_type": "code",
      "source": [
        "# Here we will get different output when we train model so mean will not be accurate\n",
        "print(X_train.mean(), X_test.mean(), X.mean())"
      ],
      "execution_count": 97,
      "outputs": [
        {
          "output_type": "stream",
          "text": [
            "mean radius                 14.180738\n",
            "mean texture                19.296113\n",
            "mean perimeter              92.337422\n",
            "mean area                  660.585547\n",
            "mean smoothness              0.096382\n",
            "mean compactness             0.104360\n",
            "mean concavity               0.090018\n",
            "mean concave points          0.049444\n",
            "mean symmetry                0.181385\n",
            "mean fractal dimension       0.062714\n",
            "radius error                 0.409537\n",
            "texture error                1.220969\n",
            "perimeter error              2.899558\n",
            "area error                  41.072811\n",
            "smoothness error             0.007108\n",
            "compactness error            0.025580\n",
            "concavity error              0.032435\n",
            "concave points error         0.011904\n",
            "symmetry error               0.020647\n",
            "fractal dimension error      0.003806\n",
            "worst radius                16.314133\n",
            "worst texture               25.712070\n",
            "worst perimeter            107.571699\n",
            "worst area                 886.418555\n",
            "worst smoothness             0.132467\n",
            "worst compactness            0.252647\n",
            "worst concavity              0.273739\n",
            "worst concave points         0.114996\n",
            "worst symmetry               0.289581\n",
            "worst fractal dimension      0.083668\n",
            "dtype: float64 mean radius                 13.647211\n",
            "mean texture                19.231579\n",
            "mean perimeter              88.660000\n",
            "mean area                  603.721053\n",
            "mean smoothness              0.096166\n",
            "mean compactness             0.104169\n",
            "mean concavity               0.077853\n",
            "mean concave points          0.044205\n",
            "mean symmetry                0.179161\n",
            "mean fractal dimension       0.063553\n",
            "radius error                 0.365967\n",
            "texture error                1.179889\n",
            "perimeter error              2.565161\n",
            "area error                  33.728404\n",
            "smoothness error             0.006438\n",
            "compactness error            0.024567\n",
            "concavity error              0.027034\n",
            "concave points error         0.010828\n",
            "symmetry error               0.019598\n",
            "fractal dimension error      0.003694\n",
            "worst radius                15.865491\n",
            "worst texture               25.364211\n",
            "worst perimeter            104.472281\n",
            "worst area                 828.166667\n",
            "worst smoothness             0.131487\n",
            "worst compactness            0.268798\n",
            "worst concavity              0.258262\n",
            "worst concave points         0.111102\n",
            "worst symmetry               0.294518\n",
            "worst fractal dimension      0.086439\n",
            "dtype: float64 mean radius                 14.127292\n",
            "mean texture                19.289649\n",
            "mean perimeter              91.969033\n",
            "mean area                  654.889104\n",
            "mean smoothness              0.096360\n",
            "mean compactness             0.104341\n",
            "mean concavity               0.088799\n",
            "mean concave points          0.048919\n",
            "mean symmetry                0.181162\n",
            "mean fractal dimension       0.062798\n",
            "radius error                 0.405172\n",
            "texture error                1.216853\n",
            "perimeter error              2.866059\n",
            "area error                  40.337079\n",
            "smoothness error             0.007041\n",
            "compactness error            0.025478\n",
            "concavity error              0.031894\n",
            "concave points error         0.011796\n",
            "symmetry error               0.020542\n",
            "fractal dimension error      0.003795\n",
            "worst radius                16.269190\n",
            "worst texture               25.677223\n",
            "worst perimeter            107.261213\n",
            "worst area                 880.583128\n",
            "worst smoothness             0.132369\n",
            "worst compactness            0.254265\n",
            "worst concavity              0.272188\n",
            "worst concave points         0.114606\n",
            "worst symmetry               0.290076\n",
            "worst fractal dimension      0.083946\n",
            "dtype: float64\n"
          ],
          "name": "stdout"
        }
      ]
    },
    {
      "metadata": {
        "id": "xLrmXCedI2ul",
        "colab_type": "code",
        "colab": {}
      },
      "cell_type": "code",
      "source": [
        "# to get same mean nomatter when we re run it we get the same results\n",
        "X_train, X_test, Y_train, Y_test = train_test_split(X,Y, test_size=0.1,stratify=Y, random_state=1)"
      ],
      "execution_count": 0,
      "outputs": []
    },
    {
      "metadata": {
        "id": "5ZCsjtsaJpLS",
        "colab_type": "code",
        "outputId": "5da1a6ad-04f4-4524-e55a-59ed4aa94716",
        "colab": {
          "base_uri": "https://localhost:8080/",
          "height": 1602
        }
      },
      "cell_type": "code",
      "source": [
        "print(X.mean(), X_train.mean(), X_test.mean())"
      ],
      "execution_count": 99,
      "outputs": [
        {
          "output_type": "stream",
          "text": [
            "mean radius                 14.127292\n",
            "mean texture                19.289649\n",
            "mean perimeter              91.969033\n",
            "mean area                  654.889104\n",
            "mean smoothness              0.096360\n",
            "mean compactness             0.104341\n",
            "mean concavity               0.088799\n",
            "mean concave points          0.048919\n",
            "mean symmetry                0.181162\n",
            "mean fractal dimension       0.062798\n",
            "radius error                 0.405172\n",
            "texture error                1.216853\n",
            "perimeter error              2.866059\n",
            "area error                  40.337079\n",
            "smoothness error             0.007041\n",
            "compactness error            0.025478\n",
            "concavity error              0.031894\n",
            "concave points error         0.011796\n",
            "symmetry error               0.020542\n",
            "fractal dimension error      0.003795\n",
            "worst radius                16.269190\n",
            "worst texture               25.677223\n",
            "worst perimeter            107.261213\n",
            "worst area                 880.583128\n",
            "worst smoothness             0.132369\n",
            "worst compactness            0.254265\n",
            "worst concavity              0.272188\n",
            "worst concave points         0.114606\n",
            "worst symmetry               0.290076\n",
            "worst fractal dimension      0.083946\n",
            "dtype: float64 mean radius                 14.058656\n",
            "mean texture                19.309668\n",
            "mean perimeter              91.530488\n",
            "mean area                  648.097266\n",
            "mean smoothness              0.096568\n",
            "mean compactness             0.105144\n",
            "mean concavity               0.089342\n",
            "mean concave points          0.048892\n",
            "mean symmetry                0.181961\n",
            "mean fractal dimension       0.062979\n",
            "radius error                 0.403659\n",
            "texture error                1.206856\n",
            "perimeter error              2.861173\n",
            "area error                  39.935506\n",
            "smoothness error             0.007067\n",
            "compactness error            0.025681\n",
            "concavity error              0.032328\n",
            "concave points error         0.011963\n",
            "symmetry error               0.020584\n",
            "fractal dimension error      0.003815\n",
            "worst radius                16.194275\n",
            "worst texture               25.644902\n",
            "worst perimeter            106.757715\n",
            "worst area                 871.647852\n",
            "worst smoothness             0.132592\n",
            "worst compactness            0.257415\n",
            "worst concavity              0.275623\n",
            "worst concave points         0.115454\n",
            "worst symmetry               0.291562\n",
            "worst fractal dimension      0.084402\n",
            "dtype: float64 mean radius                 14.743807\n",
            "mean texture                19.109825\n",
            "mean perimeter              95.908246\n",
            "mean area                  715.896491\n",
            "mean smoothness              0.094496\n",
            "mean compactness             0.097130\n",
            "mean concavity               0.083923\n",
            "mean concave points          0.049159\n",
            "mean symmetry                0.173981\n",
            "mean fractal dimension       0.061169\n",
            "radius error                 0.418767\n",
            "texture error                1.306656\n",
            "perimeter error              2.909946\n",
            "area error                  43.944193\n",
            "smoothness error             0.006809\n",
            "compactness error            0.023659\n",
            "concavity error              0.027989\n",
            "concave points error         0.010293\n",
            "symmetry error               0.020169\n",
            "fractal dimension error      0.003618\n",
            "worst radius                16.942105\n",
            "worst texture               25.967544\n",
            "worst perimeter            111.783860\n",
            "worst area                 960.843860\n",
            "worst smoothness             0.130357\n",
            "worst compactness            0.225973\n",
            "worst concavity              0.241340\n",
            "worst concave points         0.106994\n",
            "worst symmetry               0.276719\n",
            "worst fractal dimension      0.079852\n",
            "dtype: float64\n"
          ],
          "name": "stdout"
        }
      ]
    },
    {
      "metadata": {
        "id": "oklHkfcsJtM9",
        "colab_type": "code",
        "colab": {}
      },
      "cell_type": "code",
      "source": [
        ""
      ],
      "execution_count": 0,
      "outputs": []
    },
    {
      "metadata": {
        "id": "XZv2uqIVKHQh",
        "colab_type": "text"
      },
      "cell_type": "markdown",
      "source": [
        "# Binarisation of Input"
      ]
    },
    {
      "metadata": {
        "id": "IiWFVF7kKMe2",
        "colab_type": "code",
        "colab": {}
      },
      "cell_type": "code",
      "source": [
        "import matplotlib.pyplot as plt"
      ],
      "execution_count": 0,
      "outputs": []
    },
    {
      "metadata": {
        "id": "W94dqp5xKXCk",
        "colab_type": "code",
        "outputId": "60da2865-23d3-42a6-af5e-e4d1be5620bb",
        "colab": {
          "base_uri": "https://localhost:8080/",
          "height": 285
        }
      },
      "cell_type": "code",
      "source": [
        "# convert real values to binary 0 or 1\n",
        "plt.plot(X_train,'*')\n",
        "plt.show()"
      ],
      "execution_count": 101,
      "outputs": [
        {
          "output_type": "display_data",
          "data": {
            "image/png": "[encoded data removed]",
            "text/plain": [
              "<Figure size 432x288 with 1 Axes>"
            ]
          },
          "metadata": {
            "tags": []
          }
        }
      ]
    },
    {
      "metadata": {
        "id": "PtifC6ZDK0tL",
        "colab_type": "code",
        "outputId": "b174df70-bd3c-4603-ac90-f973e9cdc3cf",
        "colab": {
          "base_uri": "https://localhost:8080/",
          "height": 378
        }
      },
      "cell_type": "code",
      "source": [
        "plt.plot(X_train.T,'*')\n",
        "plt.xticks(rotation='vertical')\n",
        "plt.show()"
      ],
      "execution_count": 102,
      "outputs": [
        {
          "output_type": "display_data",
          "data": {
            "image/png": "[encoded data removed]",
            "text/plain": [
              "<Figure size 432x288 with 1 Axes>"
            ]
          },
          "metadata": {
            "tags": []
          }
        }
      ]
    },
    {
      "metadata": {
        "id": "2S_V8y0TsUZc",
        "colab_type": "code",
        "colab": {}
      },
      "cell_type": "code",
      "source": [
        "X_binarised_3_train = X_train['mean area'].map(lambda x:0 if x<1000 else 1)"
      ],
      "execution_count": 0,
      "outputs": []
    },
    {
      "metadata": {
        "id": "XSHlI5CXtaDp",
        "colab_type": "code",
        "outputId": "0366fd89-d86c-4aa8-89cc-953d29b145c0",
        "colab": {
          "base_uri": "https://localhost:8080/",
          "height": 285
        }
      },
      "cell_type": "code",
      "source": [
        "plt.plot(X_binarised_3_train, '*')\n",
        "plt.show()"
      ],
      "execution_count": 104,
      "outputs": [
        {
          "output_type": "display_data",
          "data": {
            "image/png": "[encoded data removed]",
            "text/plain": [
              "<Figure size 432x288 with 1 Axes>"
            ]
          },
          "metadata": {
            "tags": []
          }
        }
      ]
    },
    {
      "metadata": {
        "id": "7rwlkAL7tg-2",
        "colab_type": "code",
        "colab": {}
      },
      "cell_type": "code",
      "source": [
        "# todo for all columns\n",
        "X_binarised_train = X_train.apply(pd.cut, bins=2,labels=[0,1])"
      ],
      "execution_count": 0,
      "outputs": []
    },
    {
      "metadata": {
        "id": "m5Yg4nYWuTYh",
        "colab_type": "code",
        "outputId": "1751542f-15dc-4748-c3b3-792b0f53f2d8",
        "colab": {
          "base_uri": "https://localhost:8080/",
          "height": 378
        }
      },
      "cell_type": "code",
      "source": [
        "plt.plot(X_binarised_train.T,'*')\n",
        "plt.xticks(rotation='vertical')\n",
        "plt.show()"
      ],
      "execution_count": 106,
      "outputs": [
        {
          "output_type": "display_data",
          "data": {
            "image/png": "[encoded data removed]",
            "text/plain": [
              "<Figure size 432x288 with 1 Axes>"
            ]
          },
          "metadata": {
            "tags": []
          }
        }
      ]
    },
    {
      "metadata": {
        "id": "EAL8uTgZucBR",
        "colab_type": "code",
        "colab": {}
      },
      "cell_type": "code",
      "source": [
        "X_binarised_test = X_test.apply(pd.cut, bins=2,labels=[0,1])"
      ],
      "execution_count": 0,
      "outputs": []
    },
    {
      "metadata": {
        "id": "iqCiuKw4vbal",
        "colab_type": "code",
        "outputId": "9d670bc4-d546-40c5-b95e-7c595e4f86b5",
        "colab": {
          "base_uri": "https://localhost:8080/",
          "height": 378
        }
      },
      "cell_type": "code",
      "source": [
        "plt.plot(X_binarised_test.T,'*')\n",
        "plt.xticks(rotation='vertical')\n",
        "plt.show()"
      ],
      "execution_count": 108,
      "outputs": [
        {
          "output_type": "display_data",
          "data": {
            "image/png": "[encoded data removed]",
            "text/plain": [
              "<Figure size 432x288 with 1 Axes>"
            ]
          },
          "metadata": {
            "tags": []
          }
        }
      ]
    },
    {
      "metadata": {
        "id": "9q6vpo_0vfuc",
        "colab_type": "code",
        "outputId": "5a118362-0ee7-4741-c38e-a5db22ce44f5",
        "colab": {
          "base_uri": "https://localhost:8080/",
          "height": 54
        }
      },
      "cell_type": "code",
      "source": [
        "type(X_binarised_test)"
      ],
      "execution_count": 109,
      "outputs": [
        {
          "output_type": "execute_result",
          "data": {
            "text/plain": [
              "pandas.core.frame.DataFrame"
            ]
          },
          "metadata": {
            "tags": []
          },
          "execution_count": 109
        }
      ]
    },
    {
      "metadata": {
        "id": "kwzszotdvoBT",
        "colab_type": "code",
        "colab": {}
      },
      "cell_type": "code",
      "source": [
        "X_binarised_test = X_binarised_test.values\n",
        "X_binarised_train =X_binarised_train.values"
      ],
      "execution_count": 0,
      "outputs": []
    },
    {
      "metadata": {
        "id": "39BfRyJdvwpA",
        "colab_type": "code",
        "outputId": "f5844bd9-bf36-42c8-fb66-1ff4e344baad",
        "colab": {
          "base_uri": "https://localhost:8080/",
          "height": 54
        }
      },
      "cell_type": "code",
      "source": [
        "type(X_binarised_test)"
      ],
      "execution_count": 111,
      "outputs": [
        {
          "output_type": "execute_result",
          "data": {
            "text/plain": [
              "numpy.ndarray"
            ]
          },
          "metadata": {
            "tags": []
          },
          "execution_count": 111
        }
      ]
    },
    {
      "metadata": {
        "id": "LATRkcXgwAkm",
        "colab_type": "text"
      },
      "cell_type": "markdown",
      "source": [
        "# MP Neuron Model"
      ]
    },
    {
      "metadata": {
        "id": "TyFzziuUVDut",
        "colab_type": "code",
        "colab": {}
      },
      "cell_type": "code",
      "source": [
        "from random import randint"
      ],
      "execution_count": 0,
      "outputs": []
    },
    {
      "metadata": {
        "id": "54jDGl0ZwEjP",
        "colab_type": "code",
        "outputId": "2b4228c6-b49d-4ba2-f457-6a7d4e64ad89",
        "colab": {
          "base_uri": "https://localhost:8080/",
          "height": 69
        }
      },
      "cell_type": "code",
      "source": [
        "b=3\n",
        "i=randint(0, X_binarised_train.shape[0])\n",
        "print(i)\n",
        "if(np.sum(X_binarised_train[100,:])>=b):\n",
        "  print(\"MP Neuron inference is malignant\")\n",
        "else:\n",
        "  print(\"MP Neuron inference is benign\")\n",
        "\n",
        "if(Y_train[i]==1):\n",
        "  print(\"Ground Truth is malignant\")\n",
        "else:\n",
        "  print(\"Ground Truth is benign\")"
      ],
      "execution_count": 113,
      "outputs": [
        {
          "output_type": "stream",
          "text": [
            "92\n",
            "MP Neuron inference is benign\n",
            "Ground Truth is malignant\n"
          ],
          "name": "stdout"
        }
      ]
    },
    {
      "metadata": {
        "id": "BZXJdc__Ue00",
        "colab_type": "code",
        "outputId": "3c04319a-23c3-40eb-c6b6-128a490c6eda",
        "colab": {
          "base_uri": "https://localhost:8080/",
          "height": 34
        }
      },
      "cell_type": "code",
      "source": [
        "b = 3\n",
        "Y_pred_train =[]\n",
        "accurate_rows=0\n",
        "for x, y in zip(X_binarised_train, Y_train):\n",
        "  y_pred = (np.sum(x)>=b)\n",
        "  Y_pred_train.append(y_pred)\n",
        "  accurate_rows+=(y==y_pred)\n",
        "  \n",
        "print(accurate_rows, accurate_rows/X_binarised_train.shape[0])"
      ],
      "execution_count": 114,
      "outputs": [
        {
          "output_type": "stream",
          "text": [
            "77 0.150390625\n"
          ],
          "name": "stdout"
        }
      ]
    },
    {
      "metadata": {
        "id": "aLHdfpQ8XuvO",
        "colab_type": "code",
        "colab": {}
      },
      "cell_type": "code",
      "source": [
        "X_binarised_train = X_train.apply(pd.cut, bins=2,labels=[1,0])\n",
        "X_binarised_test = X_test.apply(pd.cut, bins=2,labels=[1,0])\n",
        "X_binarised_test = X_binarised_test.values\n",
        "X_binarised_train =X_binarised_train.values"
      ],
      "execution_count": 0,
      "outputs": []
    },
    {
      "metadata": {
        "id": "WmiYiqAPZZoI",
        "colab_type": "code",
        "outputId": "a7e81d39-4218-4885-f5aa-fb1519835432",
        "colab": {
          "base_uri": "https://localhost:8080/",
          "height": 550
        }
      },
      "cell_type": "code",
      "source": [
        "for b in range(X_binarised_train.shape[1]+1):\n",
        "  Y_pred_train =[]\n",
        "  accurate_rows=0\n",
        "  for x, y in zip(X_binarised_train, Y_train):\n",
        "    y_pred = (np.sum(x)>=b)\n",
        "    Y_pred_train.append(y_pred)\n",
        "    accurate_rows+=(y==y_pred)\n",
        "\n",
        "  print(b, accurate_rows/X_binarised_train.shape[0])"
      ],
      "execution_count": 116,
      "outputs": [
        {
          "output_type": "stream",
          "text": [
            "0 0.626953125\n",
            "1 0.626953125\n",
            "2 0.626953125\n",
            "3 0.626953125\n",
            "4 0.626953125\n",
            "5 0.626953125\n",
            "6 0.626953125\n",
            "7 0.626953125\n",
            "8 0.626953125\n",
            "9 0.626953125\n",
            "10 0.626953125\n",
            "11 0.626953125\n",
            "12 0.626953125\n",
            "13 0.626953125\n",
            "14 0.630859375\n",
            "15 0.6328125\n",
            "16 0.642578125\n",
            "17 0.6484375\n",
            "18 0.65625\n",
            "19 0.6640625\n",
            "20 0.671875\n",
            "21 0.6875\n",
            "22 0.701171875\n",
            "23 0.724609375\n",
            "24 0.755859375\n",
            "25 0.78515625\n",
            "26 0.818359375\n",
            "27 0.845703125\n",
            "28 0.849609375\n",
            "29 0.814453125\n",
            "30 0.759765625\n"
          ],
          "name": "stdout"
        }
      ]
    },
    {
      "metadata": {
        "id": "5jbBU8Fqe7m_",
        "colab_type": "code",
        "colab": {}
      },
      "cell_type": "code",
      "source": [
        "from sklearn.metrics import accuracy_score"
      ],
      "execution_count": 0,
      "outputs": []
    },
    {
      "metadata": {
        "id": "Fzoaj5OBeAkd",
        "colab_type": "code",
        "outputId": "dcfc3052-0a9e-4543-e66e-85072f81d079",
        "colab": {
          "base_uri": "https://localhost:8080/",
          "height": 34
        }
      },
      "cell_type": "code",
      "source": [
        "b=28\n",
        "Y_pred_test =[]\n",
        "for x in X_binarised_test:\n",
        "  y_pred = (np.sum(x)>=b)\n",
        "  Y_pred_test.append(y_pred)\n",
        "\n",
        "accuracy = accuracy_score(Y_pred_test,Y_test)\n",
        "print(b, accuracy)"
      ],
      "execution_count": 118,
      "outputs": [
        {
          "output_type": "stream",
          "text": [
            "28 0.7894736842105263\n"
          ],
          "name": "stdout"
        }
      ]
    },
    {
      "metadata": {
        "id": "zlYplVG9uUon",
        "colab_type": "text"
      },
      "cell_type": "markdown",
      "source": [
        "# MP  Neuron Class\n"
      ]
    },
    {
      "metadata": {
        "id": "m9nl8tvqfPAT",
        "colab_type": "code",
        "colab": {}
      },
      "cell_type": "code",
      "source": [
        "class NPNeuron:\n",
        "  def __init__(self):\n",
        "    self.b = None\n",
        "  \n",
        "  def modal(self, x):\n",
        "    return (sum(x)>=self.b)\n",
        "  \n",
        "  def predict(self, X):\n",
        "    Y=[]\n",
        "    for x in X:\n",
        "      result = self.modal(x)\n",
        "      Y.append(result)\n",
        "    return np.array(Y)\n",
        "  \n",
        "  def fit(self, X, Y):\n",
        "    accuracy={}\n",
        "    \n",
        "    for b in range(X.shape[1]+1):\n",
        "      self.b = b\n",
        "      Y_pred = self.predict(X)\n",
        "      accuracy[b]=accuracy_score(Y_pred, Y)\n",
        "      \n",
        "    best_b = max(accuracy, key = accuracy.get)\n",
        "    self.b =b\n",
        "    print(\"optimum value of b is \", best_b)\n",
        "    print(\"Highest accuracy is \", accuracy[best_b])"
      ],
      "execution_count": 0,
      "outputs": []
    },
    {
      "metadata": {
        "id": "-Z-yX9mW8I5m",
        "colab_type": "code",
        "colab": {
          "base_uri": "https://localhost:8080/",
          "height": 51
        },
        "outputId": "4cfc31b9-40a3-4e3d-a585-76864fe7a618"
      },
      "cell_type": "code",
      "source": [
        "mp_neuron = NPNeuron()\n",
        "mp_neuron.fit(X_binarised_train, Y_train)"
      ],
      "execution_count": 120,
      "outputs": [
        {
          "output_type": "stream",
          "text": [
            "optimum value of b is  28\n",
            "Highest accuracy is  0.849609375\n"
          ],
          "name": "stdout"
        }
      ]
    },
    {
      "metadata": {
        "id": "KNGxq4sk8ONm",
        "colab_type": "code",
        "colab": {
          "base_uri": "https://localhost:8080/",
          "height": 34
        },
        "outputId": "01841caa-3f40-4747-9538-92e60f261ea6"
      },
      "cell_type": "code",
      "source": [
        "Y_test_pred = mp_neuron.predict(X_binarised_test)\n",
        "accuracy_test = accuracy_score(Y_test_pred, Y_test)\n",
        "print(accuracy_test)"
      ],
      "execution_count": 121,
      "outputs": [
        {
          "output_type": "stream",
          "text": [
            "0.47368421052631576\n"
          ],
          "name": "stdout"
        }
      ]
    },
    {
      "metadata": {
        "id": "vN6m1Q-r9QEz",
        "colab_type": "code",
        "colab": {}
      },
      "cell_type": "code",
      "source": [
        ""
      ],
      "execution_count": 0,
      "outputs": []
    },
    {
      "metadata": {
        "id": "dMZz0FiiAKqW",
        "colab_type": "text"
      },
      "cell_type": "markdown",
      "source": [
        "# Perceptron Class\n"
      ]
    },
    {
      "metadata": {
        "id": "uNqlEtG2b0ny",
        "colab_type": "code",
        "colab": {}
      },
      "cell_type": "code",
      "source": [
        "X_train = X_train.values\n",
        "X_test = X_test.values"
      ],
      "execution_count": 0,
      "outputs": []
    },
    {
      "metadata": {
        "id": "fe0JgOm2AM5S",
        "colab_type": "code",
        "colab": {}
      },
      "cell_type": "code",
      "source": [
        "class Perceptron:\n",
        "  \n",
        "  def __init__(self):\n",
        "    self.w = None\n",
        "    self.b= None\n",
        "  \n",
        "  def model(self, x):\n",
        "    return 1 if( np.dot(self.w,x)>=self.b) else 0\n",
        "  \n",
        "  def predict(self, X):\n",
        "    Y = []\n",
        "    for x in X:\n",
        "      result = self.model(x)\n",
        "      Y.append(result)\n",
        "    return np.array(Y)\n",
        "    \n",
        "  def fit(self, X, Y, epochs=1, lr=1):\n",
        "    self.w = np.ones(X.shape[1])\n",
        "    self.b = 1\n",
        "    accuracy={}\n",
        "    max_accuracy=0\n",
        "    wt_matrix=[]\n",
        "    for i in range(epochs):\n",
        "      for x, y in zip(X, Y):\n",
        "        y_pred = self.model(x)\n",
        "        if y == 1 and y_pred == 0:\n",
        "          self.w = self.w+lr * x\n",
        "          self.b = self.b + lr * 1\n",
        "        elif y == 0 and y_pred==1:\n",
        "          self.w = self.w - lr * x\n",
        "          self.b = self.b- lr * 1\n",
        "      \n",
        "      wt_matrix.append(self.w)\n",
        "        \n",
        "      accuracy[i]=accuracy_score(self.predict(X),Y)\n",
        "      if(accuracy[i]>max_accuracy):\n",
        "        max_accuracy=accuracy[i]\n",
        "        chkptw = self.w\n",
        "        chkptb = self.b\n",
        "    \n",
        "    self.w = chkptw\n",
        "    self.b = chkptb\n",
        "    print(max_accuracy)\n",
        "    plt.plot(accuracy.values())\n",
        "    plt.ylim([0,1])\n",
        "    plt.show()\n",
        "    \n",
        "    return np.array(wt_matrix)"
      ],
      "execution_count": 0,
      "outputs": []
    },
    {
      "metadata": {
        "id": "bFZD0XrmAT-9",
        "colab_type": "code",
        "colab": {}
      },
      "cell_type": "code",
      "source": [
        "perceptron = Perceptron()"
      ],
      "execution_count": 0,
      "outputs": []
    },
    {
      "metadata": {
        "id": "JyjALcoEd-w-",
        "colab_type": "code",
        "colab": {
          "base_uri": "https://localhost:8080/",
          "height": 34
        },
        "outputId": "90939d30-8df7-462f-91bf-808836720bf6"
      },
      "cell_type": "code",
      "source": [
        "X_train.shape"
      ],
      "execution_count": 125,
      "outputs": [
        {
          "output_type": "execute_result",
          "data": {
            "text/plain": [
              "(512, 30)"
            ]
          },
          "metadata": {
            "tags": []
          },
          "execution_count": 125
        }
      ]
    },
    {
      "metadata": {
        "id": "_0fvPezUcHs5",
        "colab_type": "code",
        "colab": {
          "base_uri": "https://localhost:8080/",
          "height": 286
        },
        "outputId": "4a5170a8-81c0-43af-fd31-7fc2489a7cd1"
      },
      "cell_type": "code",
      "source": [
        "wt_matrix = perceptron.fit(X_train, Y_train, 100, 1)"
      ],
      "execution_count": 126,
      "outputs": [
        {
          "output_type": "stream",
          "text": [
            "0.927734375\n"
          ],
          "name": "stdout"
        },
        {
          "output_type": "display_data",
          "data": {
            "image/png": "[encoded data removed]",
            "text/plain": [
              "<Figure size 432x288 with 1 Axes>"
            ]
          },
          "metadata": {
            "tags": []
          }
        }
      ]
    },
    {
      "metadata": {
        "id": "CvC29zGycNj_",
        "colab_type": "code",
        "colab": {
          "base_uri": "https://localhost:8080/",
          "height": 265
        },
        "outputId": "370b45ba-5667-430a-e3f8-50a8ff1a7561"
      },
      "cell_type": "code",
      "source": [
        "plt.plot(wt_matrix[-1,:])\n",
        "plt.show()"
      ],
      "execution_count": 127,
      "outputs": [
        {
          "output_type": "display_data",
          "data": {
            "image/png": "[encoded data removed]",
            "text/plain": [
              "<Figure size 432x288 with 1 Axes>"
            ]
          },
          "metadata": {
            "tags": []
          }
        }
      ]
    },
    {
      "metadata": {
        "id": "U9Lj55WteR3D",
        "colab_type": "code",
        "colab": {
          "base_uri": "https://localhost:8080/",
          "height": 34
        },
        "outputId": "a57371f2-c64b-49cd-fe17-42e405fef13a"
      },
      "cell_type": "code",
      "source": [
        "Y_pred_train = perceptron.predict(X_train)\n",
        "print(accuracy_score(Y_pred_train, Y_train))"
      ],
      "execution_count": 128,
      "outputs": [
        {
          "output_type": "stream",
          "text": [
            "0.927734375\n"
          ],
          "name": "stdout"
        }
      ]
    },
    {
      "metadata": {
        "id": "SaXIxfipe2yA",
        "colab_type": "code",
        "colab": {
          "base_uri": "https://localhost:8080/",
          "height": 34
        },
        "outputId": "a32e90b2-7310-4a7c-b1d4-56cf343a3e84"
      },
      "cell_type": "code",
      "source": [
        "Y_pred_test = perceptron.predict(X_test)\n",
        "print(accuracy_score(Y_pred_test,Y_test))"
      ],
      "execution_count": 129,
      "outputs": [
        {
          "output_type": "stream",
          "text": [
            "0.9473684210526315\n"
          ],
          "name": "stdout"
        }
      ]
    },
    {
      "metadata": {
        "id": "v9PCLBlKloJ_",
        "colab_type": "code",
        "colab": {
          "base_uri": "https://localhost:8080/",
          "height": 265
        },
        "outputId": "4bee2fc6-d8e9-4b05-a732-5bdf34100aa4"
      },
      "cell_type": "code",
      "source": [
        "plt.plot(perceptron.w)\n",
        "plt.show()"
      ],
      "execution_count": 130,
      "outputs": [
        {
          "output_type": "display_data",
          "data": {
            "image/png": "[encoded data removed]",
            "text/plain": [
              "<Figure size 432x288 with 1 Axes>"
            ]
          },
          "metadata": {
            "tags": []
          }
        }
      ]
    },
    {
      "metadata": {
        "id": "l-aUTwF7l-gB",
        "colab_type": "code",
        "colab": {}
      },
      "cell_type": "code",
      "source": [
        "%matplotlib inline"
      ],
      "execution_count": 0,
      "outputs": []
    },
    {
      "metadata": {
        "id": "hN_rTqR8mbEA",
        "colab_type": "code",
        "colab": {}
      },
      "cell_type": "code",
      "source": [
        "import numpy as np\n",
        "import matplotlib.pyplot as plt\n",
        "\n",
        "from matplotlib import animation, rc\n",
        "from IPython.display import HTML"
      ],
      "execution_count": 0,
      "outputs": []
    },
    {
      "metadata": {
        "id": "eQtC0n8Lmd2q",
        "colab_type": "code",
        "colab": {
          "base_uri": "https://localhost:8080/",
          "height": 269
        },
        "outputId": "841ac89a-2f22-4962-b73d-88e7b6555879"
      },
      "cell_type": "code",
      "source": [
        "fig, ax = plt.subplots()\n",
        "\n",
        "ax.set_xlim(( 0, wt_matrix.shape[1]))\n",
        "ax.set_ylim((-15000, 25000))\n",
        "\n",
        "line, = ax.plot([], [], lw=2)"
      ],
      "execution_count": 133,
      "outputs": [
        {
          "output_type": "display_data",
          "data": {
            "image/png": "[encoded data removed]",
            "text/plain": [
              "<Figure size 432x288 with 1 Axes>"
            ]
          },
          "metadata": {
            "tags": []
          }
        }
      ]
    },
    {
      "metadata": {
        "id": "x1t09zpcmmdj",
        "colab_type": "code",
        "colab": {}
      },
      "cell_type": "code",
      "source": [
        "def animate(i):\n",
        "    x = list(range(wt_matrix.shape[1]))\n",
        "    y = wt_matrix[i,:]\n",
        "    line.set_data(x, y)\n",
        "    return (line,)"
      ],
      "execution_count": 0,
      "outputs": []
    },
    {
      "metadata": {
        "id": "l-PpVW-Pm464",
        "colab_type": "code",
        "colab": {}
      },
      "cell_type": "code",
      "source": [
        "anim = animation.FuncAnimation(fig, animate, frames=100, interval=20, \n",
        "                               blit=True)"
      ],
      "execution_count": 0,
      "outputs": []
    },
    {
      "metadata": {
        "id": "t6926gz-m-4Y",
        "colab_type": "code",
        "colab": {
          "base_uri": "https://localhost:8080/",
          "height": 309
        },
        "outputId": "acbbc29e-c1b3-41a4-8d13-51e2497c25b0"
      },
      "cell_type": "code",
      "source": [
        "HTML(anim.to_html5_video())"
      ],
      "execution_count": 136,
      "outputs": [
        {
          "output_type": "execute_result",
          "data": {
            "text/html": [
              "<video width=\"432\" height=\"288\" controls autoplay loop>\n",
              "  <source type=\"video/mp4\" src=\"data:video/mp4;base64,AAAAHGZ0eXBNNFYgAAACAGlzb21pc28yYXZjMQAAAAhmcmVlAABKfm1kYXQAAAKuBgX//6rcRem9\n",
              "5tlIt5Ys2CDZI+7veDI2NCAtIGNvcmUgMTUyIHIyODU0IGU5YTU5MDMgLSBILjI2NC9NUEVHLTQg\n",
              "QVZDIGNvZGVjIC0gQ29weWxlZnQgMjAwMy0yMDE3IC0gaHR0cDovL3d3dy52aWRlb2xhbi5vcmcv\n",
              "eDI2NC5odG1sIC0gb3B0aW9uczogY2FiYWM9MSByZWY9MyBkZWJsb2NrPTE6MDowIGFuYWx5c2U9\n",
              "MHgzOjB4MTEzIG1lPWhleCBzdWJtZT03IHBzeT0xIHBzeV9yZD0xLjAwOjAuMDAgbWl4ZWRfcmVm\n",
              "PTEgbWVfcmFuZ2U9MTYgY2hyb21hX21lPTEgdHJlbGxpcz0xIDh4OGRjdD0xIGNxbT0wIGRlYWR6\n",
              "b25lPTIxLDExIGZhc3RfcHNraXA9MSBjaHJvbWFfcXBfb2Zmc2V0PS0yIHRocmVhZHM9MyBsb29r\n",
              "YWhlYWRfdGhyZWFkcz0xIHNsaWNlZF90aHJlYWRzPTAgbnI9MCBkZWNpbWF0ZT0xIGludGVybGFj\n",
              "ZWQ9MCBibHVyYXlfY29tcGF0PTAgY29uc3RyYWluZWRfaW50cmE9MCBiZnJhbWVzPTMgYl9weXJh\n",
              "bWlkPTIgYl9hZGFwdD0xIGJfYmlhcz0wIGRpcmVjdD0xIHdlaWdodGI9MSBvcGVuX2dvcD0wIHdl\n",
              "aWdodHA9MiBrZXlpbnQ9MjUwIGtleWludF9taW49MjUgc2NlbmVjdXQ9NDAgaW50cmFfcmVmcmVz\n",
              "aD0wIHJjX2xvb2thaGVhZD00MCByYz1jcmYgbWJ0cmVlPTEgY3JmPTIzLjAgcWNvbXA9MC42MCBx\n",
              "cG1pbj0wIHFwbWF4PTY5IHFwc3RlcD00IGlwX3JhdGlvPTEuNDAgYXE9MToxLjAwAIAAAA4tZYiE\n",
              "ACv//vZzfAprRzOVLgV292aj5dCS5fsQYPrQAAADAAGuIeCcaJVAp+y8t8QuSxASR8SqfHgrsG3c\n",
              "EqiPa/o8J2U7fPmg1Ga+nHnlffzJTnWn02YrPPeoXB0A/0hutwo+ZBRgZ+/IN9Oj3sKcbnLwUMYA\n",
              "AAMAE0w4y7bjAS+fwqQKSljYZIekdtv25wJHegjccN+5KaXN+wPfUGYALQ9LYRq4lGPu8KGm0O3Q\n",
              "i2buW4Aj4+emfNic5whLpGeyDJDFOW+0KXHIl6KSA3G4gjFw0oOMCTL1Z0bKBBrbv/Kc6iqJTB1G\n",
              "b99+oFVODJaWrvuoH5zR1HV/esJhDw17jpvYv8aBu5TeRmSUk3DPtHFNZQSF67BV39DLZUgjebe/\n",
              "jnaGsnNhMUjhA84bRy6p6fJcH+0Av9eCLPWQ9tg30UrM/bSP5gkOnSSuKwIxtvl3sjP5puJhRiNl\n",
              "8JjDDfSAnhoIpCzWUyNxjM0hkW3/vZUCmjQlZRTyOsLVTCRfr4xzey+f9SKy18xbKZuOC2Noi3dq\n",
              "NdVFlAI/qZ5QuUo+vJ565lnunTqXQUk9Uyy37nccOzjjIS6aLP+ZFwuP0wDnkr4XlLlKd4F6gJCf\n",
              "RFUV+tf+pB19Mmas415VeE3Kk18KhQdrO61bjpkUGbH2X0D5JQ0BWdPI8KBpkcMTsVIA59GGHvzE\n",
              "nt9ArlFVpzUX0Ha0jL1HlXwjtyHal2uKc5CartFgXOxmYTsLVFmNBWKdI9+iLBSo9w8fEAyEhKMr\n",
              "J7RTK4Dsh2PntneINdVqFl5fcZtJbspWvTACdrZsc+tGqcDeeF6QuaCkx0ecrwx3+VWNhMnLXtKN\n",
              "d0luL/LH60j/kH+uzHsm73jQa3XkgEQ8kRylONu3m7XpBdHsFpXh9AFxr7tyamQaoK+8vRsHX02i\n",
              "Bmrfo4LBlnrog5sqCQdEtwUnT64YjNA4VUn9tMLWw6KKq0w5YxoLBhJL/gWQn1fpS78k9bmPsB4G\n",
              "PhEpp6BanMNQeBa05WpYgK1MP3ZQJBfHjL0SIw7NUJTDTbrRW2hDvsz7wfNSMwKajZCGBpAyJSe6\n",
              "zBsrXy69aItfBrAy2cNPkwRiYQh9DQy1gdYpVcARq7DBUm76vibhYJSryjG4WFWwhT578SLgqGQX\n",
              "t4XeQDxMWPa7VSMrF7YH0EBHNDdZsrgWyXKz4LZC7wrjpWPHo4s7H9DZsHnudRmfZRJ0zOr8UvnR\n",
              "3dWWEgEk/w7IY5Aaazk6jwnXzdjzyfzN1B5JO56whVgi0CUyxBl+1Gpc/TW+IEfTi+ib6bIvvZob\n",
              "QBHbmjvkBnH5lB2HHNe7Y1hxrFAS09QoBDfD38ycxQwp/FxLmichKexe/jhoJ7YeuvB5NvGNmZf1\n",
              "Q+LQHro01PBwEbvEGcBN6K13dxuXqRBbB48ihXcYoXtweE2HbcIkFWelf5q+9/7xkRRBfzsRd121\n",
              "E/6CB3DkhuJdy48inYEpnBBz+5rXLFELEK6jnywj1iYDVA5fO9UefxigcntnzlZ9U4d7ir8ks6Tq\n",
              "f59q+GXzH+S/gHvBGazul+6akdjtpsw9KFYoE9Yb/Rgb4g67fzu39HCu/mzvmSwiwCJKvOYBWXvG\n",
              "pdpCwlGh+8P3UrHjK7lhkamUeYx+KOpBgLAAAARWXnCgxSmcvFsIPJuv3yGeizz3q0cZ462iArwO\n",
              "GbBXAXU05+DuHPb7xnawEAUJ89cUF3jATAB1sesmL4c89OnX4xza9qyPG/u8OS2K9aJfC8YKfmzK\n",
              "FhJCw8KTfqRNeCD0BDI47EN1x4MPSjTzFkFTTF+FOt2LBmHJLVNz8NUHhHQFhPDMyNb7ktQQ1fng\n",
              "I3T+JCqoqiARXH0QTZQYVPQTR1zlnxML0TheMp0hESHKdP10vqXLIB0g0SnJDTH8QelruA3QjBYZ\n",
              "wc9kk2FJasIb3qmKHDJv0w/nv8YxB6bbzk61Ijqc/aOBaMsyNr3WMdgDwIiKhf9KXsL7GPPQbJPd\n",
              "iz9Tw0UclbIViSweBqNjsSPGo32y8L6kWXmNdHpWmvAdNJqjw1KefbF34RB42blidFokvypEAhjE\n",
              "38qyr3UWQTmp7/QGHWpRcJyxPA4nWPQUIXOVU60HbdSLBJNOpdE96MsHzjG7GHQFXzgEKtmfIDA1\n",
              "/E3eJpTKjf07KulQ4+b8ENxfvEo0hRCvdnXys8ikPPjZ+4iWekAHJNJkEi7svemYID2ibQGWmETA\n",
              "eV5fhAn+bhk/8Q5Eq7NnNYzOtJ6vMZ8LpOAoM58KLDidim2hoXeG+A4Zv4nItApkaCROI611Tyqd\n",
              "gTX7r+K7sJjbS7EPcDP4lWGHObotr3IZi1LHfcAdfuTCBy0tMLyAPKYDnBsIf6Wd/QV4m3/Cc80s\n",
              "Z8KJmglNygBlSOTH2GizxDfA91J/9cKa8frC/tBJ5sRH7kjqVvIIaSTNQc+rUHSSCocMgbz5dlol\n",
              "e+0aSxqDvqpb2chhXmwjMGrvg7aFxDhlKfEJmuxBV5TXG48PXJv+YoZd1sAVnVBmwlTaBz/VY1+g\n",
              "sq8F4Q+Ev34PpdLepc4TPfuWGe+Bqd4jkdmKSnVCec8RN41c70thli3tJ+BD67g3DBWzfX3vmeeq\n",
              "UozTuqSem/ENCVb8QpLE58EGw8RoiKHYzNqghkUkt4hGjZy79XipeLiQRE3VDr7/l+v2GSGihqT+\n",
              "sU9pbeZbr3IVkOsa+bzZx9KlGXulG3DjE+Ux+nggu4t/V2HNuMVxzsvtwXO0XHkUr2BVCWIaWO1j\n",
              "LlRAR1K1QiQ5HDK2YIyvM2NsVh6tbE2NfZB33C7ZNryCEhnvMdA4IZUksBDlzI/woBeXDDyAHaHi\n",
              "LY6pY3yf//u4TY0LqT0zTBU1fXwai/23MRwODOK7yxWkfh/QhGoRxI1Sh7XvHri1h7mYIQj0MZpj\n",
              "Q9AjCWK3+cy17u5Gq/NzBrlrf1g5S2glqq1/C3J5Hb58bp48lfE8OR632shXkluESqhRBE4pP7y2\n",
              "7/WKKrv3sBcRGnKdunUFFy38c3YjpO0X2mcGQB9+voYFGKEF2F8soa0Rq35nLIZWZl3nxmw38yto\n",
              "Al8gxgiWK+AnICAgcCokMZElrN5er+ybOPK1hzfB0q5jLMcYU//neA5GJIumGu9ksW4h0zOSu3Ez\n",
              "9tn0bE72n/E9byDgq77CUhiSS2WBiH0UB0lZ/ZPLiXV5Ph1smvP2jtE+tYUcE70peak8CAqnWQie\n",
              "HSTxNx7dfT9HF4Bm5+pIS/inxXKt2bW1qJegBwRY7pKc29daIH092XIX3U4W4zjzFRSntW2c9yc3\n",
              "YPkQiVY6HTWjH7j9jdVYEo4ixXPrBOEkc/68PdmhIQ2IMnNCsaUZpjoMZugWgsuH0lJZdXVig1UT\n",
              "SwCd57cj0o+uJ2RADSUREUCIzDaR8bXuc5T8oKpRulvC3wILz1/NqhZ1AIzSTTsAnkpWxpjWjF3A\n",
              "4tclsIzckKfmNlxoe3JePL//b+LuP2kU+TIDlEz2K7bg+4hggO7j3JZ6x2s5VkKENSS13cSVWPHu\n",
              "g1qPGq7rLWS0p2JVz2BzYC1nukIgG/4psNxanL5wqEVLJPgH2YrvRmIBSGpFJdfxqel8TGw6Lbd9\n",
              "wCCwXBt8QYyJbslordtxEGK4evy6Ud/ZtmhOJEOi0tx/rtT2VefJKFzLzBeiGycesnlnoQBa58xC\n",
              "nKM9YQsw0AGCR/knzgWfjIKpPEopQbPx++yAWq0ljMO2xkAF7ajnpepNgkLMnI7O3FJFEL2nFlpy\n",
              "NKMUlTGqLk/IuvEydHhf2fq64PqX/ar51OIKAOA3esLYlunIv6SOA0/m1COINBFfktow9VHDj6CN\n",
              "J26ZRtQLixWkFi+0Jj+xIoMxpZXJ6fThSzyNey0mYUD2KXpYlZ51IwE2FUiE15Cey8orCvAuNJV2\n",
              "WVf1Bp2wQstbTEK97TyooaeMm/7hV0yDbmRQszUWO5mb9WkvyCiN+eBc14QrtXhI8tVdcduut2gq\n",
              "6660L+0MLOPgSLBMEybQxAIPw5FA09Mn2hY665ffN8h826Pc9FaxNBIhDMgNx4CQYPL0mxENl7+4\n",
              "IVwRqGlPB8OpIsPHrKprLDvSJVj2lcFe/gdWoBejpclytVBDIAKFQswDMBN5KpybILv+l3QucsiM\n",
              "WV70Z3UGQHPSEF/PK+zFkGBn4C7JMd34ibFXgZLt2ten/eUwBDnT25E51Gt7ypgvNxV5Lv5RYLXh\n",
              "/gGtfA4XhiDgM8WMWGB8DKSkI885+wzc2tNp2rJsVyuciOSQxUNRrFHEWJPwm4+sxRlx1iSX3oms\n",
              "WUd05D47UsZ3OoD1vXOJdBZRW+vYCm6GHx8p2QGmG0HvfhaLORpzFAx4dRZm1zvxm1XVT0dI08OW\n",
              "3OR+UzO+qg8kdpVQjHHwlD/GYq9zHQgONkvUNCsDCDHciYYwJqlJGwACtluT2rPPrV2GoP3Glq7Z\n",
              "NVO8fILSlgSLhxvq3VJUYj+vPCF9OkUQiskg7iKiLg2yp7HqTg6z065w4Fg0Dl8/B5rW6hGn/Eul\n",
              "T8FDHS9q8QgYxrOmKzZND4MBE7RWPN3RvsRgttJFlWrXSFDZsx0NRxDTRIsmBBQhuT/u7riCUer1\n",
              "7mFxS5UKLdUXok65S1LNmIGHAfwEAsZLRLKShyTb8fvb/vXKRUjCA14Uh+1o968gqp6TFUY0w5Lx\n",
              "x0OpJ4cTbGdQvJVoWhbON3JSsQXyduRXQRaWcUfpsw/jDnkhs6Xi1eP+3F+HhXAgaRcajjWZ5BlG\n",
              "VGT11YKU57300s0v36KjG8pc0CoOGUnPi3Uiey6D3TqRm/w63MYPkl0nP5643YpZy1xlQPsfQZwE\n",
              "Fki7jiEfHKtePttBMmm2zO//ouYN6Bf9tdgBhQAjgAAAf4EAAAISQZohbEK//jhAHsZngCFMIoR1\n",
              "ngswjVHeh7W3m/Y07p6QzFRZzf9Dvwvgygx4nxJ2oDro5U4Hi74hW6AJxAUsFdBJ/yv6OAACkL63\n",
              "VhhzyMk8r7qR0iskirDlDq8+74cqVRAmXpT14jlPteHj8/+h8ayawM8MYFf/kIWCXxi/GA0Kdiv7\n",
              "g0mB8h8gxgNRwRGH4vX0UJoS6PikgIRpXDGs/86vcq9GP/L3b6qOT12DV1T+10472rc9VSy6bLcl\n",
              "y0EJSH2xRqAk1J+AuX25t8QJudFVS6gwEo++uYCym2FFkSsG67qt70AGbOFqsdyayBGJ4zxhxFzh\n",
              "oECwhRzt/G+IjUj+aF0wNkUJhJtQJLYZnbUOJBgDg65AQAJ4lj7qheb3esEb0KiU43deC0K4I58a\n",
              "APoRNA/vLyu/xJQ+UwQYHFWU4aREjyq93r9CfldSRMCde8EGqMQ06o31wg40guhHtpQwM+CYJQWk\n",
              "aYnUxy0hAw+FwYgsp4c5eCCREI6AYHWGKzJADsrc6m42UjZFQH6vHKr+RyrJo6nfo53rLeIMV3tr\n",
              "eQb1Bw341NhOb0+UaV1CJfJyxvDcRxVdVRz6/t+YkuI9A0kHFIOPnN8Tx5z/f1q0+0zledanycRB\n",
              "my0ziwnNI+dcI/Ma/wRftnchjEYYLuWk7cVqyJ9sNJDBVgdwJNETDK5cvgQr1bMoqQ2pye8MlYQA\n",
              "AAHEQZpCPCGTKYQr//44QAE9lQgR+9qHYPAGueeIjRqLd+hUVRZQjTHnYRwSZJ5xC33cz+yNICYm\n",
              "d0KCX4t5LZCnv+6J78jUBkVM4L3P21NQ5UPO4Xcz9EfUESIuwVRz3yrHZ6gPi8UDpj2PEEbjSDbW\n",
              "6Lf4DdpVk6CpQ/SW85DtG+ibgBXSiB0Z7tHYogK2W3fOoL06WPVD8MUvnRDQzJj2QPO5TtxVZ879\n",
              "T/GulcFsPPR2e0DTJIu9jmwRDTWwMOCnzzbBTMd/WI2wCTpCps5FuEXMnG1q1GU+9BH5c2AsRH5t\n",
              "6lFxTqWjYNU9QBj7+UaiofqOhejR22rU5XSz0pSWdaa4cavGa70Zi0HnPGY19DcEW2/xv6lckQcA\n",
              "jze9cqS1h0FhmnPspSVMxPaqcKpfL3Szi1rXMNFHp7walFUPN+BySbm9A9HPxPN3UeDenCBUI8zZ\n",
              "dyhSOKPTOm6Z7Mj+4Al+9FySOmfx6dRyx4+wbVC4ym2/+LEqRJm4x78Kzc8n6j5RHpM9s2H4aiag\n",
              "gCCzK8iNcR+4i6w+ly68UClPYlaUfXe1ZPz2amRA7aZVdcCMyfZHi3Y1ZsYla+JOwAPObPAs8sEA\n",
              "AAF7QZpjSeEPJlMCF//+jLAANQ6phlMnqj+8jtPvUV7uAL/bUTe0inLksNIr0Mn28C/r7FDn2B0q\n",
              "qhnZb0BT4ETivVgJRjYyW/jdJVZHa6gRHOkw5IoCE68FsvWjEDbnkmuhf84m8hLBKjmN4FMN1yB+\n",
              "Q9VgwFedzqhjk7zYJXdyF34aLNsXLdGWDxCd2jFCggkZWR6zW9+61GzDQz8b37UOL3T7xJxFRhfp\n",
              "3KEi5UXhsyzQgDJuBm3PNAjeFvGnJURMyxFVa5L5ungbBwlts6TVjX6LW/QMo3H+bvMRBgelZCY8\n",
              "hX3T31Cq7yaXbkqh43Wm4t+qC86uAjdRWLCrg+HoeZwzYmKzFjqLqtbE75oWzLV30Y1Di7JFDgb6\n",
              "8y2F9aXoPNs8w9gv4hjjEsTNlr2eDUOYTibsilEBCIH2XZ2Q7aIffV7GUBBDu++NTeUxwJNpAFnK\n",
              "U4W3ZlEDglH7Rq2TFKJtbQQanHGCmGcdaUNOvjb08z+kiCfwB1DVMAAAAl9BmoZJ4Q8mUwIV//44\n",
              "QADOjC2GOwBO2igFA6xPrKBgiGJTWQedL94r5FT7ACoBiLznDQYpjkRFVSi7v7vSblRK5e9ECXdh\n",
              "Wa8VD5IhbFA8ZD5uTRndBNYz1p8cYAskMFr8RrQTdB+dQswIbPA1TudvCEFvMmkK+35S0osmX/p7\n",
              "bDUH5pN403F+0WnsBo2cL02I49GDvcMSw6uAl2vQmngF75vwcNfpT+ws09ytFzNE2tlNaDviVBM2\n",
              "RhXnGO2AuXN7XUD/nG6hnJ02SidmXdQ981sCURKJS9hhhtIrtF4gkQeX7e5KZPpxUAxm/t5norME\n",
              "3OdG/MtY5lFMFeuoZG1yd9a3DqDsXchrDEyTvbqUOx0lbgXvScnZOS7ISGwZqe38bx8RqmZVrJM/\n",
              "etMRKAdV6syR38157P+S94h9I6XHzWIS2UFMlh+QWu7E6yid8+ifhwt4Di1MOo3mGNL7o3Y+CCeL\n",
              "Or66i4O5sn3yhmPAJNsnkp9IWfeqNDH9o1hzC8vIgVFaNEKRSvh9YmN5+vZ0Ndt5xkdNUGV0+j7V\n",
              "3+eG9GlT7Ub/iexh0FjnQhFOn513jTV+SrBEhje963NI8VmM9PQz1bHXXEbzThb6BhDhx4jBrS8F\n",
              "Q+ysBW/0L9VPMHK8VtFD5j0QIfhm2vypZBbh+EMUtm/KHGOzw9kGiw0Sg2JOq+7BI1NPmOodDtDX\n",
              "bGlh6FVbp8oizyvXmGSOUC3xoAHyYF4rPdN8Cs+hwFkqBhdwN71D6r/u64aS6NWahi6MElBjRWxL\n",
              "aeU/puQrJzPv4BvWp4cHRNnB7YzvPvCTAAAAakGepEURPCP/ABDeVlXECpGK9wAAFz4s/TxQJJdY\n",
              "M8egidLVm2Z4aUHrpLKYIV+QOt2QJUa4okJ74lRM5IVfyXUTyNQzK3I2NrGUyKvNSh5/ffqOMHnC\n",
              "R0kg5rj8pPnheMcAGeU6UKXOC+UAAABTAZ7Fakf/ABsXyYA5O2tvfCNkTqulTyrY+38RtoD6tnr1\n",
              "QH4PupEY0kEKwy9J9e1vWW0kGIMGQCxGeiVB6heZYeOMj3cofbdvLzdIHihBckykAxcAAADhQZrH\n",
              "SahBaJlMCFf//jhAAM6MEIOwBPKtTf/bwYehAIN/WogbkdmwrPJG8yFxTWI/LizjdSY5ynk9fvVj\n",
              "2stUK73fjT4SXQAqC7hKvtazIgEh4P9kQ1fqobbL7JYISVvwiK14cQw/SbonVMnv6o0ntq1bZORa\n",
              "FgeDbe+P1ZCGPkZCk8T/MTNKMQdUztEvlc8oB8aHCOS7SQtsr5eSDnx7mB+F/e68oRhM2G05x/yN\n",
              "4HeInPw6LUvhyfJ9zv9t9yOuudbmOaFdG3c+ddgnMUvI4qD6g8RNOW2t8rYK08NTtc/nAAABbkGa\n",
              "6UnhClJlMFESwr/+OEAAzXLXxup2yIAc/JJuSg7WQ6xX1tPuLxBUgNzCP+d3nvaW+UzC4eLIsKss\n",
              "i96LAveS7LVOl/0X+kKyDP5QF0+g4s4LQKEo5zFor+pNwiaoOYV2h21fTjl9JP7aVd5ruipHh7kB\n",
              "aNkjKknKzAG/biABox2NION3TDnPtcitOq4hRE8xmpdpC0K4YNZcguchzjEcHL+imhLCIhT2hfhW\n",
              "aUrcUN13Qg+kvXjBtYgfrHZr34BUBNo3vChPkCaXWlx7r8t/fEaQ7ike7NRBlwbsl1hBUzFcee8I\n",
              "cNb36lic7p9iCFxM4RsUzJW+H2pbPiMTjLNBQWHvL2Ayu3m2SVwKrrqO3o/jIQ+v/uPnk5lO/SV7\n",
              "7+fTFfhNGkog2cy8RqFGgokdImrhcJjo//szyQ2Cp1YzFTUtFDM/OuTvPbB5g5wF6oYilRwJYG/d\n",
              "sGRfyksFo58cMffAMaqR/N+Rr/dgQAAAAD4BnwhqR/8ANhKRxcmVQpFpoMGTdUvgqq7J7lY1hSEb\n",
              "qMgdF6cQ/USkeioSzMyhQ2MWBDDAj6EYwzl1OBTgQAAAAQ9BmwpJ4Q6JlMCFf/44QAEdP2uY+A5V\n",
              "iANXosP7A1A0juDBNwn9Av9AxWJP6tiIQmvuBDxAc7+DnktsdFQc/MxFPN6AT7YQAUoo7Ch/NKGN\n",
              "dpwNaavm8fX/oBnWTXlXN/0eFOJMrrB3aVfH+iDgsUdniidQd75IsPnj3NM99/1DTKyXwK5QsAMt\n",
              "UhwTH+y9rCap9E2eyizKyjH6Bgh8NU993x2zjXZ0qP8S723ji6Ok0+u0Kd7SUhtsouowa/ZmRllr\n",
              "RM8jIQvWXHC14cLgnQujkGeoqnDN9XSRvjGkYUcb+i5OtgzVqIN6wjrAIDT+tfnFxNtx9WLTTKJ1\n",
              "jBg50i1pwg2pVymoNL1Ry6tz80NJAAABR0GbK0nhDyZTAhf//oywAGq1p8Eut4lSaUJbzIatO50R\n",
              "8JrNc561FqrVI/lovCwNEPtWXtdPh0nteUfSRLPt9YdEY8rI7Pxlgpr2NHtem0g+hkk3FbPOLWC/\n",
              "jtjnXZCWhrU/HQ89cXSwLOHZ7SgR/OtSpkg/NYYgeaVQK3KdIskqG5vV3OAsLy7yBYjiCEn3NsW/\n",
              "UFv82JhIj+Wcfsn1B+BVyj2vHEZINdbSd7P85VNJQNd6PA+XqrHs6Tnr9f67/2EwaSTbfzn7K7ZZ\n",
              "w44CjwN70zUJce9FHPX7yVzrSXqgtTI+HjIY0TYW577swWMF+YsBY5p32DxipB7c73jFZNszIahR\n",
              "yfGzZI7XV1NDL1kTSD12t3XKjfMpmBNTcsbHIzu7CZe6CTnNRjH4ugPFc85rAAjRuzKiTJ+ATApL\n",
              "tVuiRejkRTe4FwAAAVVBm01J4Q8mUwURPC///oywAGpHpsKIQCD+ldUtp8snPDrWCXgOnh+YuROF\n",
              "NhrcGmNK9R7L3UjTUzeQZh9lHKKJmI8RvfawfD9OUJzzRZ3FIXP13EJeQUZT7TjSntbka4yyNsny\n",
              "AjNRflFirQkBExpQYb3PQ/gbq7+MyAVB+nbEeUBtkVcat69m1XUHzU/p1IVdDSDfNIhA5YuTvRW6\n",
              "O/1NKXr0JsXG8ujT+OMIHgCTrnnXJIIB9d5g1nVnGMNneorxHf0UHASSMFfDlHnZw8uq9jyBnOGr\n",
              "UIvSar/aEQMudC1QHvmN3ZlL5dmpFMbwMcNoR8DcHlExaJmWAl9+djlQIruNhvSfUwsWUAxxb7om\n",
              "jBLD49KSG/Z4PIiODOxx4pW/raIW4fZejrl776iuV0AfNFCWjCnimjb+N9bSkoDociEoTYMawdLx\n",
              "MABW7KB/kfVAkPt4UAAAADIBn2xqR/8ANgi2j99VRgEOG8cwtpzehrxG1cni8fmUfDUZzTHy5eXW\n",
              "em3A0Dm7T1RXTQAAAZxBm29J4Q8mUwU8L//+jLAER+a3b8CbafUauWjcAcw0he7wh5dvrDnp1MoZ\n",
              "8skTgkqYRlH06uR1z4HpbdMj2PLvacfA6K+WhtRWd+IHu2829wOcomVnwc/E7VbbY6J2L+GZy9z8\n",
              "Cm3a8iVNKF6F/u5sBwR1dK+X+hD9lNYbukuc70cwL5xJqXTiuOBXNN8I8//BMkEHs1XWC4r1K89e\n",
              "NFGH/vxx4vk28higVX6HETncEd/ieaFi8nIQO9E/d75DiOyA0d9eqmCZLqKJF71ZYh/J6TqAdTdr\n",
              "CQgknl5rnAR0YfHDz7hEJ6R5q6no5d275tplP5FG3YTeaMR+MhEIvy0dSYPcvDp4fDTx3e8e/W1K\n",
              "dWcWMloG8AUAmA0XBGA3/AXE882LfpMQXV1oiUsbOyB2QlNpkshhj/bwHpQ0hXjB+kz1P2/LKdDB\n",
              "Kv1pGwHZdRJDycXdtSAO4/LRaEGekVPTZ7RX6s/Z6Mo8iZetYO0b6KBJOGg3Vf8Rf6VHPDruLJ2W\n",
              "4CcbYFPw/ZifwmL1K4b/xxxkFOkmxJBxwdaVAAAAJAGfjmpH/wIrHK78R0M86DCTDswIQIqH0AeJ\n",
              "wYKYIEMaC1yEXQAAAXhBm5JJ4Q8mUwIZ//6eEANG6eoB4BIniiKQNrrElP5lXhW385n0pM5LTGxV\n",
              "gB+pxUPxV0WbvGY3nol6Oy/oR6zr6UlzNKr2j/GQm8QCTzjG0hkvDVlyW25xFVRZECo/kWTM8Xtp\n",
              "aUVwLVcRMjgIjr1XciIqIHzypzL7Ybs0O1xsW1rCeJOR4c0pfDm9EWDs+8VH3KOSPRdZSaM1TqdU\n",
              "lDf76YnQ6dPQQGHZeOmPgFW80uMg3EN2qC+HDM67+mL6MYY8YprByozWQToR8tq2JVMe7Zd6OPNT\n",
              "tKzK6mMHz07CI2NTRa6caXliN9+KyZUCYcRbAecRWyvrGl/9G3R/hnP3AllPSq0pRPbxPar2TypS\n",
              "Z1Jm4ViZXzthxRf4XUB+osWX96haQWQYHq4927sb/v/0dfoPGf1/xnssqJOjRIaJqAlKzgxCCqPz\n",
              "+wLdKZsGoDerzzUgvYsvZPZg/4vtam+kvSVy0Rm5rWFpo9Lfa/YcsmvVU1fHToSwAAAALkGfsEUR\n",
              "PCP/ACG/o1+cAnt87jfid+ouHMxbtp17LrVTLtRSPYk/JLOrayCHtsAAAAAhAZ/Rakf/ADXls2g+\n",
              "U+d7mLwQWG3aqPHCz0YKN0YMkE3BAAACDkGb1kmoQWiZTAhn//6eEADSivXpxFUAecwp7Yz2yYpA\n",
              "ADrJQmfbDfPDiERQ0uFuALSHbDukoEGXsasETVx2giVhhcHnQ8JGR03Pdvul+vQwN/C9RMSEWceM\n",
              "5vKazb2z8GYJJrvjE37HmfOVfdg/q9DgNvq30HlporwWznAqFNlzuyAoq9UBMFbabWOqU9yfYqzR\n",
              "qaJhDL5gEdmW+D+LMl0jRwa8ztVlO5PDHPPNSx0Xj76aw6/8hmv6wnQCPcHd92cxzzTJgeBPXrZc\n",
              "5VhyK1xMQpclYM4C/ovOW+koK1SLphygpczbKY0GIZp3NVeU7kBC8V8ZVqXFWbBUU2WicKTWNUHS\n",
              "2YwWwVbpJzJiSxAB4O3y+JFTvZVnme6D68sJXJdqrgqrMxQWKgey0y70QnkiIbzzyTkHlLop/Xr9\n",
              "OGoGtC1Dpx+tchnmS9wfk7GXsvnt0yF/a988ocxBJOwwMHGZiwX0wH7gCH0yXIpfbFs6DCVXpKOr\n",
              "tDPySX5jquDTqM/R78YA8Fnpyw6CNcvzdDsxe3M3ELVNUZbwT3aLUKkfmqyyspuNWSAmR3AB+Woi\n",
              "Y7e9p5PBtiKbfY8GUs8Dpx3ndt6npRSWrO4us6dlYuM/jieA4nwV3sJb4RpL52dyoK8CDzTbNKHx\n",
              "a/kqp10Nf8MYp45hpK1ecUWpHdV0XUJ/VVckDAJhazM8tdosjmAAAABIQZ/0RREsI/8AQ6USAzJS\n",
              "gUF4GMaJ1cq9vVQtIeJ4BIq8fN6JxiF2nlOhEq8hd4MJwRJdRSBgNnEtagB2AtNhodyEZZMZVRWA\n",
              "AAAAJQGeE3RH/wBsL1niSdMunjswJKdKqvXKoB+mEdLFdRfuf80QPSEAAAAjAZ4Vakf/AGux/aXy\n",
              "AK3QCuOO2FBeAyfHJvQqS/znOJaQEPAAAAGuQZoaSahBbJlMCGf//p4QANKK9ecaVQBfuyR5haFT\n",
              "v97jcplcRsXNh/0Dm0gB6ITpO0rYY0gkcVv7mueV/u4odXKOBHz4fv3QFA64J6UK5kaoo9w7OW0W\n",
              "4vEfvnSwvUeKO/KYUmJNbvgm2c837P1kryjrbALB3dFnlQkyWayQj0O/TX3i4vRePW7g+c1UphiP\n",
              "GNOYhISmavt5qH1ZiTEQ/LzKRFMXXf2tRajBelcdeFyJxieJvlf3eu9eJs03U8gyvStyavmEiFrz\n",
              "gfUmVqDpzr08T4OX86zsFio/Gl+6ubpYx5wvrufNf9YYZhkNEAoc6bnHEDKbgBtc7vBbTzeOKcyV\n",
              "rgULl7T8uyWV16TOe1GMBJqCULTpo+BjHKjYtgXoJgFGmZWkll6tWhEJ3CvwaAcCee7C475EdYIw\n",
              "AwYcp1acmHP259zrEktCV+gi8vBYHkcUPS30UhwdPkQshK7cMBqxlkWluqJZknMBrD/JLOq//GBu\n",
              "Bc0Is3Zw+4k+/iWpMR7rza9hfNsWjYnSM6k1fNl2qz0jA4ym4wVl3FyniCtBB/C/QCskaVh8XmFo\n",
              "mQAAAE9BnjhFFSwj/wBDNNMx3QA4bshkBTglGctQN6ojLtc7MRNAEHI6FQZnq6FQQiW/u2VweXJW\n",
              "KnCiJRduPZkfjZeP9ngzJeRVWWr50eQ+2JNHAAAAHwGeV3RH/wA1/XyBJKDHZSEKy40pT/7pdaBt\n",
              "VsoVlBAAAAAgAZ5Zakf/ACStR3DTLS+2mUc6xV8f0J0k5O0GF7OVQ1MAAAGVQZpeSahBbJlMCGf/\n",
              "/p4QAaVzrg3rIsum/VVgIdp29i7DtrYZOdZL61fEhdAQeSsKahAxJcd/l29PIwMKrgZP3ePoTWLw\n",
              "ActIreTmhJfVXwrLj3hyjifQLlgnydofMtkWtNIrtRQq3Lv52yE4a6VTmth+v9aW4pWl7czbtED1\n",
              "8yK95Vm3RN2SnnUey6TBqZylPl+DpI9vcQ5pb09Miva9ncRPwJ3/UPco5hMUNCjvqVlXIuz3AVQb\n",
              "dJgTzAWvEuSmLL4FKcGMGF6lNSnQz9qPZ7azF0OSodjr7Om10L4xKzgi28cJ4uzq4YWFBMhvTgqS\n",
              "tvkob5QLMV2kuoUC6ehyMe5+F+2+fYXIt83jRsKdYR9Kj+twrqZ93JtiwnRqGr9oaEy4fR0m/MDL\n",
              "3kdSSA0VE6CELE+rxo1Vaas08WMGgFfeUdEwqgPmCciaBcNsjvJ/8xVSEvZRhApq8jRgLnGdFgmk\n",
              "DduyH0jUWmgmYkMs2dwvZpl7zXict366YbWAiq/Q7vwsah6ZQwdMbkwNCDken3gibJOAAAAANkGe\n",
              "fEUVLCP/AEMoQMuJMOmfc5Ss9AEP+h9JUK99jhOgJRTED31ayvu806q6I2eqFA9yIrwDaQAAADAB\n",
              "npt0R/8Aa9BfLivkQc+Lrp03DlRbU9tTVH59ABDL503Bo8qmOI4SHZ0IAVWVpOEAAAAbAZ6dakf/\n",
              "AGux/Fr7bLwTfsnw6OZ9nfmXTCvgAAABvkGagkmoQWyZTAhn//6eEAGmOqmeKQH6UYScJvAogJ83\n",
              "vaKnHL4OsFCru7PEf3XvSBNpZ5Backh2tJoSO262WcT6pjJN8FqhM4FFbjoeZ3LZQ1DDAXsvZ7XV\n",
              "wcVH0yM+SCg3TZcWiHUdLzgLMCAF5rVZMl+WfLMC5Qkwq/FpaeXGe3NbsIsOsgcQFDWd5FWzEtoE\n",
              "BzDXFQTD0bqLyJrHE382VLCCQ6UARq3HDiowlkY6CLWU/k2OO5MK5ZuOXBeeUEWrZkIDp6FT4wAF\n",
              "lxc7CCbVcCXeirw2yMmrPmWHZi600/x3rLkWfQ7cuZyKh34QhAP/Quo7AeEk43tYS75pmy/8HXG7\n",
              "XeOVdULp4ajWgCw8pJ3mSbnKKyQFIWNarhFmwnCIir0FHhy7z5GJUjkVuMBla+R/MiXAXLpkXrU/\n",
              "KtYMpnadcclqsd5buHOJxh8/sCVCY1mqNAcFEARvD6TWCqG7YykxVmlMTcFQSFf1KFNn5rkPvyAb\n",
              "ue1h8NAyQwC19hmK9oO7ykKnrl2Dkh34h53uBSZPitkNZnkkBXl2dsoVQlD2Mh8jKToLcai5yAo1\n",
              "dyrn/guM/au8Jbhud+aAAAAAO0GeoEUVLCP/AIZC9mJ6kC3o8eVi55JJlNeEyttXPyYvMFSfNKlR\n",
              "UNVCDd5ftkJAUmqr129Z7NZ0qhjRAAAAJgGe33RH/wDYXmbci47CBh0rY2MAFIhubdO419LU9Wxd\n",
              "9F6NC0PAAAAAMAGewWpH/wDXlMlz5TllgB0v1qcpCgAJZL8rSsPRQpBh4XMS9+QeD9Zd+IG1tDMt\n",
              "GQAAAcFBmsZJqEFsmUwIZ//+nhABpY/7KgBg9lHDRWBuUtOor+aH9agJKYjWvnmL+72X5rPIDY/x\n",
              "H0bIr2aasP80l8W2b/Q50H9EItFeJCrMxWOOQ152b2KRjAqc9xCUEI40anaa7Mifi8MPGesaf1gd\n",
              "g1E+rvs0Usx3OMWbDbve7r1qv7UuXSVtiFNZARUmzFZAf6UlLkotXxg9x06OFGgBKlJKAMoUleYl\n",
              "g8YvrSYsmAxaw6GZ+ED8G5Vgpu/CmymGViqMDs995P2CXYuNBGmt8OWe4bdgKG+PoolfLBvcT5an\n",
              "vPkfMBdB9b1PX9IghW2b1+IkWkN7JZfW3rTXEqN4dNYFIlSqN6GUV70qup6ALD+xiQNg842TUEUl\n",
              "G7fj+BNGYRegdwiCDgg3eTSn+RCVNTB04OvBZ/ITqIfT1j2jgi3OT/Lmpv6k8oLkZrj5TOTtMOJj\n",
              "ETBwx0/7GDFrK12DyJC5OOMtdsmHm6czANGWsGO3HJDyOl9tVOXt/hMEJ0sBLHqc6c8r3hme86ku\n",
              "D2/QTG9MacVDo27rzbKq6YLu8ddKr4jRVqXb27iE41dVeGPbYd6XpuQo6MiXC+LuG4K5pxKxYAAA\n",
              "ADtBnuRFFSwj/wCG/qeuXKOQbeSOOBD/QArsP/WMPIdVmX1B3R1Th9y2s+SVIJxmKgQDYyqZkv3Z\n",
              "mwghxQAAACEBnwN0R/8A2H5ws0hMoYk5ZhwRL+8N6Ve4aP8CZ3YI6EkAAAATAZ8Fakf/AJb8ekky\n",
              "FwC8pWc9YQAAAZtBmwpJqEFsmUwIZ//+nhABpRniwNYztQBYXlHYijFBNHSpTlWrcxkT9sZ22M8F\n",
              "P7c8rvFp9hQfL4uP1LaTRCFGFaKBCup1/zZQKAjJFfskfAbkQZFbcwlw1C44gBmz6GczbBvueyW2\n",
              "NBgRFdJL+yIK7JON2XEBnxG2F5nfAsXhxqg325uYYUEolUFDaBr2akehYjUeW0Fu/w/YKsbscZGH\n",
              "VMB28kGkOODi2WIFDE5Cg6+eNfoRc7YkOieGNbCoQ5SfpR5FAZj0pLmxTP9zpd8nNb6oX14smmHR\n",
              "/wbggYgKDGnZUb23zpkzdn3HwVPpRi9gu+9xcH8CaOomu5/g+0CIYl7cXfBHmlXz0X5bRrgskniw\n",
              "5Nk9QBhN17sxoiidAoniaUKwd6rQZa9mx/WmhLXId07fnaVmMQPJN/a1PREwJIE7b/SR9Z06gJLt\n",
              "jqk/ihDkXEhKpm6gTfMmm0rIwmb35GuT2O2v778aTj3NgczRU1Mi4CBz92K6YiDtaDUwnZvZGSnB\n",
              "Y2XJYxqO9FQZovWXKOZ2YkBSmTGBGvsAAAAzQZ8oRRUsI/8Ahv6N42vkXq76YPCm1Y3Xf9JMgY0s\n",
              "uGPqE3t6BoAv6hfLWx8iqtNprCggAAAAIwGfR3RH/wDXrUyRiZ4Nuph0wApaCb31YWVtk11VteDN\n",
              "YZ00AAAAKAGfSWpH/wDXfgJWHJeVLwbKD0ebWVgN0uIygoaIxmYi/S+1aey9S/EAAAGEQZtOSahB\n",
              "bJlMCGf//p4QAaWQ8Ov4hJlhETlCQCavhET2EoH5C6VU5Zmj2kwtJ01verh+1BhDowD19KV1cB+M\n",
              "qz5uQtLUM5zitLDlOvDXSunLvlxc35EdK2flgQlWt353bVlSzOyrVJm+JWUtg7L9J/u+J4JB8HvB\n",
              "2tFPatVbGL7jYRIyeiWZz7cTpXny1yUo5+UWyNs/w7JPL3vihS/m3QO9l1BIYUxcQvFi/X0uQKk1\n",
              "seXw5RCh/ciMHRL+rio3aZTARtil4jE8NScXX1G/b3ucApVyoVFpecZhEq6bo/oXMu2lsBR2U7Be\n",
              "rAjdfT4oZBitTyGWO53hOeHawujkuPoXvjASUbUxdYnn2c38fuu5cc0RTFk+66qpmO/GmBV8uCe4\n",
              "0+PInfdLkWjcPoN7v2SoYYqGuASdpKGU2sppanqRjQM0XrIpNUg5VnlwrlNePfNvRxW8YWuwBeqn\n",
              "Y3cVOy604MOFAeqrlCrc5zl275/hc6D8ZSffKudxtfi6vO604it83AAAADZBn2xFFSwj/wCG/u8A\n",
              "ufozBQtvJJ6FUiKXw/4fJ9L5gHNntehD1U+3n/NtFfjHLhynfdzBdeQAAAAeAZ+LdEf/ANLhZMPz\n",
              "IZ87u2CGrjCB4WhJR/lFqDPhAAAAIQGfjWpH/wDTSk7CdG+zGX4T3rluiGOxkhNh3ub6Z9CtgQAA\n",
              "AYtBm5JJqEFsmUwIZ//+nhABpyLVLGKDwS2WwCfC/3avxR2C48Y4eJFdyt5nsqI8jYj4WRJOA+ru\n",
              "/nq5OuL+RNxVFUR5b5PlPZ9naFzCmWYeqJ9H9kVTTtgf8+ZG8l+HhhOjWxYzCfBHZkS4BFLF1AWl\n",
              "0QdNt7pbqiYlzKj/mgowtg9wipC/Higr8AnHlCk3zc0HJVq934jW1QQL7vQRBjaSjMIzOzMgZQ4R\n",
              "rBDxVkhBfqaqAnMO5jCEh8sTAFmxpum2weeC2Db4mYKmh7LG1Acwtmho9BRXEOpEe8RMMvmqHkAG\n",
              "Um4RLGKzj5Ey0yOWOKrrZ8XtdTiuUId7sX6TUgzDM9glqoh08F1Fg8LZJ0ERaaDNqJzzSuYdK7pD\n",
              "QuKRl00OFLLjgmVQCQQFjEY9y47MgD3fmmzoJolGuflcXr63Z6DgYw7IsJO2snGZbrmiCucT6lvU\n",
              "eAjunCKQaLQlaAVVX91GW+uhu/Y/gXt8sWA1X+XWeK5Grhoxl2zAw8Sovgk1XbQEo9M9IymPgQAA\n",
              "ACdBn7BFFSwj/wCG2Xaag/Rl1Xaa63dafZClRrRsRlp2HxWFmYQiDpgAAAAeAZ/PdEf/ANLhWsjw\n",
              "pSoj5y9b8+URpjxoTckwb3K2AAAAIgGf0WpH/wDTSeA9Z03KcbHi911SsJWJ5RTiGMdPMpZwdYEA\n",
              "AAGWQZvWSahBbJlMCGf//p4QA0b02kHke0ySQ0M9s4PkEm6ggoXbCqOKgQj0j0hy5CVodVtG1QG0\n",
              "py+Py0sZdyyGWeZpPw4xeLS6FVMPg+ohfhatUv4mTKW0xlBMNvZE4uzHEuS4MefzN9TfO+e6oyrX\n",
              "7DYnn3lHVOZ7KW99vVhkw0IbICyCyCFE0O/nd8YYE7zZDbguXKglbKG9STPwY0j38gPrt7VatcQy\n",
              "6BV4kn43T4uZZ9SEIQwEYGig/rJxPHb74LzmVdVW5LnNytbt0c3V/vqgmE32tHlqE15XgC5k7w8I\n",
              "E7dq0MMMoLsuXD876nIqGUDzB25HtNHqZHKXCR8GtZQkeDydmJMPgoF1iTZDB5HVAVnpBAXHGVgg\n",
              "pQe6/HrMEsNq/hlhZ4CyUOyjUuIeu5XU45HiyLPSj9R9DuJRFsSQ4ThtVQg+2pJj2gdzsaNZNi2/\n",
              "09NzBKIDU/lAeqxGuvtylKcYg0lAKJX3lvoSJ2Dvoary3nnKCsx2mwGeguAfvO5Q9vOQjV1IpNxl\n",
              "5cCFvukRyQ03MgAAADRBn/RFFSwj/wCG2cbzdKN0gjGzeHJ7/EG+y6ZpK7b+KHxLdHXny49kCBzg\n",
              "6D7W8nBLSK+AAAAAIgGeE3RH/wDS4cKe6aOp0b1bKXKk/LbRdVfxfs+4Hqyos7sAAAAfAZ4Vakf/\n",
              "ANgqYFFXH3HFeiz1x9Yyl55mxfQNXGnEbAAAAXlBmhpJqEFsmUwIZ//+nhADSMtY7wA2nnFstglV\n",
              "E5H9FlBZv440FOFd8ZNg7kx0M1SA+yT4QbnjgSnhfMsZtoFDy+viYChZqR2OpNWNrW+YX8msO+EL\n",
              "4NOx0iL9yqdChFCsBI12r5Ic4DpPNdOC7F368g5fPuzAQ/5wVgyVwDtc45ANxMi3sbyC0gehC6Yn\n",
              "jB48NBpysbwDjxMmrVBOlFCWs0FP0lvTxE7wcvPSXJqXAX1FwCol6zTf2Nc+53U3Umuz9Cu6HjZj\n",
              "Q6VHfEZg13zlclMCY6oK0c5/xoo0lR89rlNv9XdSLXRQ42kKwVcEIkCcRWHO/SDcOEij9GtMDuvA\n",
              "xfuNEV7ny7+hOt9CCrs5ZX/rkwQ998wAKoTPp6Br3DPRKZ4Eww8H/gSoXNZvRh/cg1zLd5HDzw6W\n",
              "Sbt8/ut/C9A1MY/Z686LLjigzILWZUt4IFXVIcqJ6ElgFVUxqWgdid/kaSYk2NA8K6FtpxyqGc85\n",
              "W9E7X4UA4QAAADxBnjhFFSwj/wEOlEgEH/x/liEXKGOZ1SXpZyBkFDSluMAONwOjQgsu81bhQDFy\n",
              "tgIBXAEAVVUhWDAt4ccAAAAXAZ5XdEf/AGlwrWUOi/jdeBmu+trydIAAAAAbAZ5Zakf/AJbI7Llf\n",
              "9o3V3jjSaOefuRt1zvmBAAABeEGaXkmoQWyZTAhn//6eEANGQb3ovXACfP4nIYY4FFQRV8Sah+1Q\n",
              "QjKIe18hHaDsNGb/m2spLSlgQR0IbTky2r2ehneDq4K+PEQaMzkNRd5rLyV0Yf9lshLKseJLcS9t\n",
              "B1ovU1pWGXL/Bq57obEs3QogB5YIRVN2ySUZkuN2sKXcHZRuI4H6KxVVwvYR30MgGG/PvOe/Ecm0\n",
              "0+jCgIe6/3yRRvsgSnFh14c+jYWyZDPncEA4VAOhzFdDk6M3+JxRx1Vpo9ALiUXqRwEOAKYQOsGv\n",
              "giKkflCsd0XTZ1vPREudm/h83MlTqZjRNeBVDSugkZqM/0LSkTzCmkvlPZ5x36LTZUI6K0HpZhDT\n",
              "sMcVF9+Lg+DzWLroYwGEQnIGwE8DV/Bw2UfWXe7C1q6QnqyU0CpE7LWur9kump9O43ZNUkhDLw2G\n",
              "A//oO67cf/AcsXl32tcfOktiPrWzPkzou4ZM2VM6hSH5EmVqDau4QZVqidLShWf5YeNkEDAAAAA8\n",
              "QZ58RRUsI/8BDKEXWErIxt3bXAlWQtkiRmCTeRYBktrKXPabq1Eoqg++NCfboIot02F/9aiONNq7\n",
              "Mx7RAAAAHQGem3RH/wAGm+wLeFWvK3N1FwKBdQldD+lMM2PxAAAAHAGenWpH/wAGmqDpGjlHeN2x\n",
              "F59M9GeDJStBpzAAAAGrQZqCSahBbJlMCGf//p4QA0g34bRAAzoIIXGR+ZoGeXDTLPMy64yhrFnp\n",
              "kJBCIJ3PGTZbcVPiKzsCjPE/MbO8hqIDBxiWWUcEsrZTirRvK+zHdZj0Kobl2phpyHG6GF95Y4BS\n",
              "l+1jwCwIgjsrW3gCYs2t5VANrymhorR1Grmii29d1B7ATE72PZkTx7eh4f4vv/vzpAG24aEQ+fSI\n",
              "AFu3DB0kvWWdSPcEUYWMWyVzgU8TKJ8FXD0WRF5Vf/BxVMbTAEHvx4xnmmyItdZZYKrxytd3exNw\n",
              "5Y4ym2qL/KZMbxwhVs6OODbKWfJsC1sqFEAzxyA2UYVxQZLiT2YR28MXr3TVA9tvGNoO2oVvF/z4\n",
              "EhKd0BrPkg0DowuTm5eGVD1gz0iSmVlLPZL7G1NVp1Za/nijTQEOFGydm+mIpFH4aR8KexFACP2j\n",
              "0j9P/dpEFMnOwlT8bzFhEpdTqke83viBLOy/SIksqLp3LuLG9EVbSh83cvIEtxWfcXXBxeVqYdwo\n",
              "I3fKksijl5Tfnq1iL6lREUfkqf3JNb9Qli5AfJH/2VLJyx55QTpmrC7kHAAAACtBnqBFFSwj/wBf\n",
              "rJAlzr/C4EWDeb0UuB2eyiU4biS9bBsNyVZmHb35eAspAAAAGwGe33RH/wGvQacaYkrzLyUHPpO5\n",
              "40RZm3ONSAAAABgBnsFqR/8AElkiJJtX/XxrhB0fPlulHUEAAAF7QZrGSahBbJlMCF///oywA1I8\n",
              "6vetsiaZS634hOiUIzc3Nq0pd236niQilNfnOy34LIaOjpieK58PfCCzAdh/F5VT0PW375Rtyk62\n",
              "jiT7roCC3RwfgP+74VUpx+7BIa6WT29RYvhW/dimqF5lo40/EnS0zp4j79RpkG8U4DNF8wQRpYst\n",
              "MT1OQW+kElwHDrzT8/QKZQ6/JTGxkhQabekAi2kIV4LC8Bs1R441j29jUr+5Z1USws1j4A2usv3Q\n",
              "6BqYeM2ng2NDLZM8/XtYtnELDbYvNWAlgjxBJbbPw0gfJwFeTQ79C5Ucloyy9o5Lz1LvY0vadCEB\n",
              "q1rz+ebwJS3+JhZ+S8PSgePMWWkqyUbns4s7Z5GkZH7BIJjafCosaIdd/OJ/nBBQrqD7ZVJD7FzO\n",
              "O6VTZYDUWRkrtBM0CFPvf2Y08a1c2Ri9Tgyia3JgfhV0J8m/v5UqpByfYor2sMU8aLoTdJCcHroj\n",
              "S9Xw/R23ehLxSbOIazSQk/UHdAAAADpBnuRFFSwj/wEM01MB0b51lqh9Li8yBvhXoUsIA+Xbyb37\n",
              "+kfKjqvX1HAtUgCMi+GMxybH9SsOwvhxAAAAFAGfA3RH/wAGk7XPyqLxIa7OO8ddAAAAGQGfBWpH\n",
              "/wAGlQ+gYcB+Aj2GBuIyb+X3VREAAAELQZsJSahBbJlMCGf//p4QA0g34MhAXR31AEeOEwd0Dx3u\n",
              "v5LPJwQ7yvay0pRTLQAEtTPjJmBy1+E0shV5zV31GV3DkHUv8LYVWZAbmAQYRZ40ZMZRUp+8YPi8\n",
              "kJ5/G4FMS5VpsyCuTzfzTBoNFrO7eNfajRgyh46eiOCEMDHEmPpFvaOgzf8FXleNQ02hgWyfK4u4\n",
              "3jeophIWNg0uWX0cY68rTo0L1JyLNsHUFvDfBGl+t20A4nlWk98aZRFhgmjPyQ149dHQmhY0aNai\n",
              "TSS2NRhb2lUfCyjD+97PTGoBUFFFqBG/8tLMfnk6hJ99+f/xIzCDB0TtC423ekd50yF4TGPKYi5g\n",
              "zcX3ANqxAAAAPkGfJ0UVLCP/AQzTXIGcKWslZB+Aw+fMe9r0o9s/PVa4Znkrdmwseiyh+GKLS7mR\n",
              "FUl+kbFWzs0VWjMaNgbYAAAANgGfSGpH/wGwk86S856z0avsseSchN7qzwfeHi45qLMrO4Wu7prM\n",
              "0vXCViX4p4tI1LHlgyqV+QAAATpBm01JqEFsmUwIZ//+nhADSDfzqIG491gAKYmYJKvM0KzkK3o/\n",
              "sM68QQ2gF2Hd2tBkjongMwQIQhCRqWi/me5GaxkGJfJOW9VuTvfBV3f7CUnIk8m/nKdg5598TjXg\n",
              "cWoqUALA4roAe+LDJbf4JBXBImseHntz2w20CgfkAVhESyGN9kKiOR/lqlgEVojr03v81yREYyCv\n",
              "a1NsIRKryRbczfnuDW4MlNKRK7UgBtk/PcTVV2NU2SAVhvrGrmtExFk0jXC/nC5TQajcPUmuXGg5\n",
              "1OX6CQLBPTwKv9vWnsrOc8NX0tu7pSEizMzP0IBb3YtukGiEG9J4g4f6uYDrYYaxKv7R1iGuQ7hL\n",
              "J8jx1vBz6Y0NF1HI1Y/OfRT15omfkuHyeaVpOBfPTK3VwjW/rVk2WYEI012RiysJvQAAADxBn2tF\n",
              "FSwj/wEM01yBmdhuGec1ZtfxnbwTAg3+UM90yRhAusRjyfLcXHhyooN4QEHz2bBqWG5TGEywcEAA\n",
              "AAAyAZ+KdEf/Aa3zknP+BQCoxbIQCuqf1aGDmkRRAYzCTIq7iY3l+Osr1n7cPqhCZWWgccAAAAAs\n",
              "AZ+Makf/AbA89A+G6jg9Bp2lhgunABKZiAIn7+hi7ObkcXAntFP3WudeWNEAAAFHQZuRSahBbJlM\n",
              "CGf//p4QB26u34Go4gEzNNL0WJu+zu4IF92H3xUW8L9Q6fMtkJ1tKPtnRvI8upu4izKq+POn03Br\n",
              "iyczpG8blsgRBQRiGFMIj1tAehOsUtZ67e/qSXQBG37jmlN0mnKHgbs/547GNmYOtBVY1b9sPOt5\n",
              "xTL9yG8AVJ0DSldFbcD85f4jyzspqMC/8dfV3vE3QZ2VMWD5qGJ1vu0OOSAmJRw8vGR91PYvDyza\n",
              "Ssle1/DHksQF6BocaUX1N1+Cjsu6a0DrRJlDvkwNbd/ZZICTGjv/wNbzW1u9EepeNLqfMMSMARza\n",
              "cgOjn5QtBPvXiReLp0QyJMqVykt8/5mn0jKzmBHrbas71m3PFb4QhVitHYLU1vnpf9nSEt8MemMV\n",
              "2SQTFYH0CaC9jK+Z6L3mI5zZIyQ5fDHIzQsfApybcG/xAAAAOEGfr0UVLCP/AhvJyy/yLHyZ3lse\n",
              "5iv6eGkl7HxzpKpkhZV7cju98QOHKktqzf/rQAcEe4pAKwCBAAAAIgGfznRH/wGvwteYrjoNLwDA\n",
              "K7VMEARQL8zkHeEUj9ZqouAAAAAgAZ/Qakf/Aa/86LodGNMj1lT6bgF0JPcpT9I/lFalkd0AAAEd\n",
              "QZvVSahBbJlMCF///oywB3/7/FuUGkkAa9owBsimArQSDPM2pisknR0VOoA29z+P0AZmB/hKLumk\n",
              "ykW8f8Bm25ta65PSpdi1bVDWRFu2zdQEcpMb6LMlss7kk065wMfWqFhfsdxG2Qj/ehcQB10ZkyQs\n",
              "BDHzxZ0PdT4kmXZg006W+eqVYAhhfUyDRh6GfoYedsygDIFX0JwpK9lOPdjA/VfhUZmmlSx9zHBw\n",
              "RPqx/alG5k/Gzl57Bayrp9pRNglt8TOajsXcLHD8/gnSORHo4mdKSiSK8/c7T8XgYduAjltsRg8l\n",
              "4enr57KWjUkg+RXyWfNQfkrcNsQl9MJEqpJGLWV+kSFCXS/6PmwN6OBfsV95M2Lme/SiDBukiRwZ\n",
              "AAAAJEGf80UVLCP/AhnbXWL5hKoTvSiUYiUNYiQifLlACCNS1+2cQAAAADYBnhJ0R/8DWrUhMeti\n",
              "cpVssQNmWbUnMzxafN4o3fhPDN42OsFFCnpaz9G4UG5MFao3DAd883oAAAAfAZ4Uakf/A1x5teFX\n",
              "Pz3Ja7iQl2JPy7uT0ByuQ3LGLQAAAMRBmhlJqEFsmUwIX//+jLAHf/4L4cbW8pYb2QCCoatJCUmy\n",
              "nILlOTCl4dDg3gMyYd/2OJcBcusCYKSXJnEKw2gFj7oXjFiYF0JmouJaJNwmjX6baLxfqF56Nm8y\n",
              "GN3dtHj1M9xZszFz8GmPoC1vvi+MeaDoas7hAP7XUBqSzP125a0Mw80zzFTsJf40C0XeS7Om7aDw\n",
              "F2IU3KedvnI6b++JRYQLQzbx/bGgTxORNjXUbhbk9OOx1byWWeR7FgNtQ2MtjE+YAAAAK0GeN0UV\n",
              "LCP/AhnboQEhH1LrpGr8X+9YuWfBgSFQHiMCJ+AEGbtrmamQD3kAAAAuAZ5WdEf/AS4aPQt3wDsT\n",
              "iU7O9kLpx3d833DfdE0Xiqzol66C76KGUtSXJJ2B6QAAABkBnlhqR/8ABppQl55I/l3vIZ5Y50gI\n",
              "0ltAAAAAskGaXUmoQWyZTAhX//44QBxNdtJaPyCKzIPkBe19kjq4xIqLy5rp4TzEpICIG5G7cdwg\n",
              "H4vyFazIFFizm8FbjK6NoEnZS0AFOinA0LO5TSEwnDY8U2ceMq03gOG1lHEz4phzDsuI6i6eLtUF\n",
              "l+zT3IJXsO1Y9JaU/zmxT9X6Ivquo/pr7dP77iLXAXkTSp2zosQfhdq4IBrcpwcpAkR5dElevQOg\n",
              "bZjpGUFYVAreqe9zx2kAAAA5QZ57RRUsI/8CGQsWcFVtxx22LZeHzWPhUDfo0caQ3STmgnzdOxk6\n",
              "ooEiebkN+V+EYY0W3W5+QoyMAAAAKQGemnRH/wGwvgJHhyc6P2ZwJhUcQC+qw/esbrkEVm1owMGC\n",
              "KDkLXZcnAAAAFgGenGpH/wAB0IFxDneQ8J4ba2XIICcAAAB8QZqASahBbJlMCFf//jhAHBObxKAB\n",
              "tDlM8cLr8d3G8gF12J1qlwsJofOV5ZniKRvqe0SPgqmYn4tjZ5Rrtg/X3rdQlJc+nZPZi3VRbedG\n",
              "vPglOrCBdfTZ3qFwGCCtolV+3YmG/iQ0LRg34HRfXw7NEeGqCZYh4Bn/gZwRrwAAACNBnr5FFSwj\n",
              "/wBfinpt3WYX76ZTmTczDjx7096geMLegwoOOAAAAB8Bnt9qR/8DWY9J/7CD48SOFYjfsFDdW1Iy\n",
              "7Mifebg5AAAAVEGaw0moQWyZTAj//IQBns0EA6AEkY3X+c8Cyn5bg5iDHWIXlDc0H/5KfKunKlbZ\n",
              "tPacIZsr2qkCf02EvnBjsGp1LlxTb0koLDs7aB0Tw76G2sjAwAAAADJBnuFFFSwj/wUSKDgtXIuV\n",
              "s3oI7qBaoezny4PzUvvH+OG3ZkOUlmsmqLYzcAH3I0UHjQAAAB4BnwJqR/8HlABgZhSfVuk/If40\n",
              "KoqDCZ7z31E3iNwAAAeWbW9vdgAAAGxtdmhkAAAAAAAAAAAAAAAAAAAD6AAAB9AAAQAAAQAAAAAA\n",
              "AAAAAAAAAAEAAAAAAAAAAAAAAAAAAAABAAAAAAAAAAAAAAAAAABAAAAAAAAAAAAAAAAAAAAAAAAA\n",
              "AAAAAAAAAAAAAAAAAgAABsB0cmFrAAAAXHRraGQAAAADAAAAAAAAAAAAAAABAAAAAAAAB9AAAAAA\n",
              "AAAAAAAAAAAAAAAAAAEAAAAAAAAAAAAAAAAAAAABAAAAAAAAAAAAAAAAAABAAAAAAbAAAAEgAAAA\n",
              "AAAkZWR0cwAAABxlbHN0AAAAAAAAAAEAAAfQAAACAAABAAAAAAY4bWRpYQAAACBtZGhkAAAAAAAA\n",
              "AAAAAAAAAAAyAAAAZABVxAAAAAAALWhkbHIAAAAAAAAAAHZpZGUAAAAAAAAAAAAAAABWaWRlb0hh\n",
              "bmRsZXIAAAAF421pbmYAAAAUdm1oZAAAAAEAAAAAAAAAAAAAACRkaW5mAAAAHGRyZWYAAAAAAAAA\n",
              "AQAAAAx1cmwgAAAAAQAABaNzdGJsAAAAs3N0c2QAAAAAAAAAAQAAAKNhdmMxAAAAAAAAAAEAAAAA\n",
              "AAAAAAAAAAAAAAAAAbABIABIAAAASAAAAAAAAAABAAAAAAAAAAAAAAAAAAAAAAAAAAAAAAAAAAAA\n",
              "AAAAAAAAGP//AAAAMWF2Y0MBZAAe/+EAGGdkAB6s2UGwloQAAAMABAAAAwGQPFi2WAEABmjr48si\n",
              "wAAAABx1dWlka2hA8l8kT8W6OaUbzwMj8wAAAAAAAAAYc3R0cwAAAAAAAAABAAAAZAAAAQAAAAAU\n",
              "c3RzcwAAAAAAAAABAAAAAQAAAuhjdHRzAAAAAAAAAFsAAAAEAAACAAAAAAEAAAQAAAAAAgAAAQAA\n",
              "AAABAAACAAAAAAEAAAMAAAAAAQAAAQAAAAACAAACAAAAAAEAAAMAAAAAAQAAAQAAAAABAAADAAAA\n",
              "AAEAAAEAAAAAAQAABAAAAAACAAABAAAAAAEAAAUAAAAAAQAAAgAAAAABAAAAAAAAAAEAAAEAAAAA\n",
              "AQAABQAAAAABAAACAAAAAAEAAAAAAAAAAQAAAQAAAAABAAAFAAAAAAEAAAIAAAAAAQAAAAAAAAAB\n",
              "AAABAAAAAAEAAAUAAAAAAQAAAgAAAAABAAAAAAAAAAEAAAEAAAAAAQAABQAAAAABAAACAAAAAAEA\n",
              "AAAAAAAAAQAAAQAAAAABAAAFAAAAAAEAAAIAAAAAAQAAAAAAAAABAAABAAAAAAEAAAUAAAAAAQAA\n",
              "AgAAAAABAAAAAAAAAAEAAAEAAAAAAQAABQAAAAABAAACAAAAAAEAAAAAAAAAAQAAAQAAAAABAAAF\n",
              "AAAAAAEAAAIAAAAAAQAAAAAAAAABAAABAAAAAAEAAAUAAAAAAQAAAgAAAAABAAAAAAAAAAEAAAEA\n",
              "AAAAAQAABQAAAAABAAACAAAAAAEAAAAAAAAAAQAAAQAAAAABAAAFAAAAAAEAAAIAAAAAAQAAAAAA\n",
              "AAABAAABAAAAAAEAAAUAAAAAAQAAAgAAAAABAAAAAAAAAAEAAAEAAAAAAQAABAAAAAACAAABAAAA\n",
              "AAEAAAUAAAAAAQAAAgAAAAABAAAAAAAAAAEAAAEAAAAAAQAABQAAAAABAAACAAAAAAEAAAAAAAAA\n",
              "AQAAAQAAAAABAAAFAAAAAAEAAAIAAAAAAQAAAAAAAAABAAABAAAAAAEAAAUAAAAAAQAAAgAAAAAB\n",
              "AAAAAAAAAAEAAAEAAAAAAQAABQAAAAABAAACAAAAAAEAAAAAAAAAAQAAAQAAAAABAAAEAAAAAAIA\n",
              "AAEAAAAAAQAABAAAAAACAAABAAAAABxzdHNjAAAAAAAAAAEAAAABAAAAZAAAAAEAAAGkc3RzegAA\n",
              "AAAAAAAAAAAAZAAAEOMAAAIWAAAByAAAAX8AAAJjAAAAbgAAAFcAAADlAAABcgAAAEIAAAETAAAB\n",
              "SwAAAVkAAAA2AAABoAAAACgAAAF8AAAAMgAAACUAAAISAAAATAAAACkAAAAnAAABsgAAAFMAAAAj\n",
              "AAAAJAAAAZkAAAA6AAAANAAAAB8AAAHCAAAAPwAAACoAAAA0AAABxQAAAD8AAAAlAAAAFwAAAZ8A\n",
              "AAA3AAAAJwAAACwAAAGIAAAAOgAAACIAAAAlAAABjwAAACsAAAAiAAAAJgAAAZoAAAA4AAAAJgAA\n",
              "ACMAAAF9AAAAQAAAABsAAAAfAAABfAAAAEAAAAAhAAAAIAAAAa8AAAAvAAAAHwAAABwAAAF/AAAA\n",
              "PgAAABgAAAAdAAABDwAAAEIAAAA6AAABPgAAAEAAAAA2AAAAMAAAAUsAAAA8AAAAJgAAACQAAAEh\n",
              "AAAAKAAAADoAAAAjAAAAyAAAAC8AAAAyAAAAHQAAALYAAAA9AAAALQAAABoAAACAAAAAJwAAACMA\n",
              "AABYAAAANgAAACIAAAAUc3RjbwAAAAAAAAABAAAALAAAAGJ1ZHRhAAAAWm1ldGEAAAAAAAAAIWhk\n",
              "bHIAAAAAAAAAAG1kaXJhcHBsAAAAAAAAAAAAAAAALWlsc3QAAAAlqXRvbwAAAB1kYXRhAAAAAQAA\n",
              "AABMYXZmNTcuODMuMTAw\n",
              "\">\n",
              "  Your browser does not support the video tag.\n",
              "</video>"
            ],
            "text/plain": [
              "<IPython.core.display.HTML object>"
            ]
          },
          "metadata": {
            "tags": []
          },
          "execution_count": 136
        }
      ]
    },
    {
      "metadata": {
        "id": "_Amu6li6rhQq",
        "colab_type": "code",
        "colab": {}
      },
      "cell_type": "code",
      "source": [
        ""
      ],
      "execution_count": 0,
      "outputs": []
    }
  ]
}