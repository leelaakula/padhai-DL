{
  "nbformat": 4,
  "nbformat_minor": 0,
  "metadata": {
    "colab": {
      "name": "MorePythonBasics.ipynb",
      "version": "0.3.2",
      "provenance": [],
      "collapsed_sections": [],
      "toc_visible": true,
      "include_colab_link": true
    },
    "kernelspec": {
      "name": "python3",
      "display_name": "Python 3"
    }
  },
  "cells": [
    {
      "cell_type": "markdown",
      "metadata": {
        "id": "view-in-github",
        "colab_type": "text"
      },
      "source": [
        "<a href=\"https://colab.research.google.com/github/leelaakula/padhai-dl/blob/master/MorePythonBasics.ipynb\" target=\"_parent\"><img src=\"https://colab.research.google.com/assets/colab-badge.svg\" alt=\"Open In Colab\"/></a>"
      ]
    },
    {
      "metadata": {
        "id": "ZtW_Q17bc1Md",
        "colab_type": "text"
      },
      "cell_type": "markdown",
      "source": [
        "# Google Drive File Integration"
      ]
    },
    {
      "metadata": {
        "id": "kr-VWpYocpNV",
        "colab_type": "code",
        "colab": {
          "base_uri": "https://localhost:8080/",
          "height": 69
        },
        "outputId": "1c57a495-3cf3-49d2-8be4-8249d3e6bd17"
      },
      "cell_type": "code",
      "source": [
        "# Install the PyDrive wrapper & import libraries.\n",
        "# This only needs to be done once in a notebook.\n",
        "!pip install -U -q PyDrive\n",
        "from pydrive.auth import GoogleAuth\n",
        "from pydrive.drive import GoogleDrive\n",
        "from google.colab import auth\n",
        "from oauth2client.client import GoogleCredentials\n",
        "\n",
        "# Authenticate and create the PyDrive client.\n",
        "# This only needs to be done once in a notebook.\n",
        "auth.authenticate_user()\n",
        "gauth = GoogleAuth()\n",
        "gauth.credentials = GoogleCredentials.get_application_default()\n",
        "drive = GoogleDrive(gauth)\n"
      ],
      "execution_count": 1,
      "outputs": [
        {
          "output_type": "stream",
          "text": [
            "\u001b[?25l\r\u001b[K    1% |▎                               | 10kB 19.6MB/s eta 0:00:01\r\u001b[K    2% |▋                               | 20kB 3.4MB/s eta 0:00:01\r\u001b[K    3% |█                               | 30kB 4.8MB/s eta 0:00:01\r\u001b[K    4% |█▎                              | 40kB 3.2MB/s eta 0:00:01\r\u001b[K    5% |█▋                              | 51kB 3.9MB/s eta 0:00:01\r\u001b[K    6% |██                              | 61kB 4.6MB/s eta 0:00:01\r\u001b[K    7% |██▎                             | 71kB 5.3MB/s eta 0:00:01\r\u001b[K    8% |██▋                             | 81kB 6.0MB/s eta 0:00:01\r\u001b[K    9% |███                             | 92kB 6.6MB/s eta 0:00:01\r\u001b[K    10% |███▎                            | 102kB 5.2MB/s eta 0:00:01\r\u001b[K    11% |███▋                            | 112kB 5.2MB/s eta 0:00:01\r\u001b[K    12% |████                            | 122kB 7.2MB/s eta 0:00:01\r\u001b[K    13% |████▎                           | 133kB 7.2MB/s eta 0:00:01\r\u001b[K    14% |████▋                           | 143kB 12.9MB/s eta 0:00:01\r\u001b[K    15% |█████                           | 153kB 13.1MB/s eta 0:00:01\r\u001b[K    16% |█████▎                          | 163kB 13.1MB/s eta 0:00:01\r\u001b[K    17% |█████▋                          | 174kB 12.8MB/s eta 0:00:01\r\u001b[K    18% |██████                          | 184kB 12.8MB/s eta 0:00:01\r\u001b[K    19% |██████▎                         | 194kB 12.9MB/s eta 0:00:01\r\u001b[K    20% |██████▋                         | 204kB 43.3MB/s eta 0:00:01\r\u001b[K    21% |███████                         | 215kB 15.4MB/s eta 0:00:01\r\u001b[K    22% |███████▎                        | 225kB 15.3MB/s eta 0:00:01\r\u001b[K    23% |███████▋                        | 235kB 15.6MB/s eta 0:00:01\r\u001b[K    24% |████████                        | 245kB 15.3MB/s eta 0:00:01\r\u001b[K    25% |████████▎                       | 256kB 15.4MB/s eta 0:00:01\r\u001b[K    26% |████████▋                       | 266kB 14.7MB/s eta 0:00:01\r\u001b[K    27% |█████████                       | 276kB 15.4MB/s eta 0:00:01\r\u001b[K    29% |█████████▎                      | 286kB 15.4MB/s eta 0:00:01\r\u001b[K    30% |█████████▋                      | 296kB 15.3MB/s eta 0:00:01\r\u001b[K    31% |██████████                      | 307kB 15.7MB/s eta 0:00:01\r\u001b[K    32% |██████████▎                     | 317kB 49.1MB/s eta 0:00:01\r\u001b[K    33% |██████████▋                     | 327kB 49.1MB/s eta 0:00:01\r\u001b[K    34% |███████████                     | 337kB 49.6MB/s eta 0:00:01\r\u001b[K    35% |███████████▎                    | 348kB 46.0MB/s eta 0:00:01\r\u001b[K    36% |███████████▋                    | 358kB 45.8MB/s eta 0:00:01\r\u001b[K    37% |████████████                    | 368kB 52.8MB/s eta 0:00:01\r\u001b[K    38% |████████████▎                   | 378kB 52.4MB/s eta 0:00:01\r\u001b[K    39% |████████████▋                   | 389kB 52.8MB/s eta 0:00:01\r\u001b[K    40% |█████████████                   | 399kB 19.3MB/s eta 0:00:01\r\u001b[K    41% |█████████████▎                  | 409kB 18.9MB/s eta 0:00:01\r\u001b[K    42% |█████████████▋                  | 419kB 18.5MB/s eta 0:00:01\r\u001b[K    43% |██████████████                  | 430kB 18.5MB/s eta 0:00:01\r\u001b[K    44% |██████████████▎                 | 440kB 18.5MB/s eta 0:00:01\r\u001b[K    45% |██████████████▋                 | 450kB 18.9MB/s eta 0:00:01\r\u001b[K    46% |███████████████                 | 460kB 18.8MB/s eta 0:00:01\r\u001b[K    47% |███████████████▎                | 471kB 18.7MB/s eta 0:00:01\r\u001b[K    48% |███████████████▋                | 481kB 18.8MB/s eta 0:00:01\r\u001b[K    49% |████████████████                | 491kB 18.8MB/s eta 0:00:01\r\u001b[K    50% |████████████████▎               | 501kB 49.1MB/s eta 0:00:01\r\u001b[K    51% |████████████████▋               | 512kB 48.3MB/s eta 0:00:01\r\u001b[K    52% |█████████████████               | 522kB 50.4MB/s eta 0:00:01\r\u001b[K    53% |█████████████████▎              | 532kB 51.9MB/s eta 0:00:01\r\u001b[K    54% |█████████████████▋              | 542kB 52.0MB/s eta 0:00:01\r\u001b[K    55% |██████████████████              | 552kB 57.6MB/s eta 0:00:01\r\u001b[K    57% |██████████████████▎             | 563kB 57.4MB/s eta 0:00:01\r\u001b[K    58% |██████████████████▋             | 573kB 57.9MB/s eta 0:00:01\r\u001b[K    59% |███████████████████             | 583kB 56.3MB/s eta 0:00:01\r\u001b[K    60% |███████████████████▎            | 593kB 55.6MB/s eta 0:00:01\r\u001b[K    61% |███████████████████▋            | 604kB 55.9MB/s eta 0:00:01\r\u001b[K    62% |████████████████████            | 614kB 60.2MB/s eta 0:00:01\r\u001b[K    63% |████████████████████▎           | 624kB 59.8MB/s eta 0:00:01\r\u001b[K    64% |████████████████████▋           | 634kB 58.4MB/s eta 0:00:01\r\u001b[K    65% |█████████████████████           | 645kB 57.5MB/s eta 0:00:01\r\u001b[K    66% |█████████████████████▎          | 655kB 56.4MB/s eta 0:00:01\r\u001b[K    67% |█████████████████████▋          | 665kB 43.8MB/s eta 0:00:01\r\u001b[K    68% |██████████████████████          | 675kB 44.0MB/s eta 0:00:01\r\u001b[K    69% |██████████████████████▎         | 686kB 45.4MB/s eta 0:00:01\r\u001b[K    70% |██████████████████████▋         | 696kB 46.1MB/s eta 0:00:01\r\u001b[K    71% |███████████████████████         | 706kB 45.8MB/s eta 0:00:01\r\u001b[K    72% |███████████████████████▎        | 716kB 46.4MB/s eta 0:00:01\r\u001b[K    73% |███████████████████████▋        | 727kB 46.3MB/s eta 0:00:01\r\u001b[K    74% |████████████████████████        | 737kB 30.7MB/s eta 0:00:01\r\u001b[K    75% |████████████████████████▎       | 747kB 30.6MB/s eta 0:00:01\r\u001b[K    76% |████████████████████████▋       | 757kB 30.4MB/s eta 0:00:01\r\u001b[K    77% |████████████████████████▉       | 768kB 36.4MB/s eta 0:00:01\r\u001b[K    78% |█████████████████████████▏      | 778kB 36.1MB/s eta 0:00:01\r\u001b[K    79% |█████████████████████████▌      | 788kB 35.5MB/s eta 0:00:01\r\u001b[K    80% |█████████████████████████▉      | 798kB 35.3MB/s eta 0:00:01\r\u001b[K    81% |██████████████████████████▏     | 808kB 35.1MB/s eta 0:00:01\r\u001b[K    82% |██████████████████████████▌     | 819kB 34.6MB/s eta 0:00:01\r\u001b[K    83% |██████████████████████████▉     | 829kB 33.9MB/s eta 0:00:01\r\u001b[K    85% |███████████████████████████▏    | 839kB 54.4MB/s eta 0:00:01\r\u001b[K    86% |███████████████████████████▌    | 849kB 56.0MB/s eta 0:00:01\r\u001b[K    87% |███████████████████████████▉    | 860kB 50.3MB/s eta 0:00:01\r\u001b[K    88% |████████████████████████████▏   | 870kB 49.8MB/s eta 0:00:01\r\u001b[K    89% |████████████████████████████▌   | 880kB 50.3MB/s eta 0:00:01\r\u001b[K    90% |████████████████████████████▉   | 890kB 51.2MB/s eta 0:00:01\r\u001b[K    91% |█████████████████████████████▏  | 901kB 51.5MB/s eta 0:00:01\r\u001b[K    92% |█████████████████████████████▌  | 911kB 52.4MB/s eta 0:00:01\r\u001b[K    93% |█████████████████████████████▉  | 921kB 52.8MB/s eta 0:00:01\r\u001b[K    94% |██████████████████████████████▏ | 931kB 55.6MB/s eta 0:00:01\r\u001b[K    95% |██████████████████████████████▌ | 942kB 54.9MB/s eta 0:00:01\r\u001b[K    96% |██████████████████████████████▉ | 952kB 53.7MB/s eta 0:00:01\r\u001b[K    97% |███████████████████████████████▏| 962kB 61.7MB/s eta 0:00:01\r\u001b[K    98% |███████████████████████████████▌| 972kB 61.3MB/s eta 0:00:01\r\u001b[K    99% |███████████████████████████████▉| 983kB 60.9MB/s eta 0:00:01\r\u001b[K    100% |████████████████████████████████| 993kB 20.1MB/s \n",
            "\u001b[?25h  Building wheel for PyDrive (setup.py) ... \u001b[?25ldone\n",
            "\u001b[?25hUploaded file with ID 1pmyLVm3sapdV1vSVlMDk9YG2IL68Z-m3\n"
          ],
          "name": "stdout"
        }
      ]
    },
    {
      "metadata": {
        "id": "ozKl0-izdrSn",
        "colab_type": "code",
        "colab": {
          "base_uri": "https://localhost:8080/",
          "height": 34
        },
        "outputId": "041e0b6d-4d8c-4509-9119-77b381520d68"
      },
      "cell_type": "code",
      "source": [
        "# Create & upload a text file.\n",
        "uploaded = drive.CreateFile({'title': 'file2Test.txt'})\n",
        "uploaded.SetContentString('Hello World')\n",
        "uploaded.Upload()\n",
        "print('Uploaded file with ID {}'.format(uploaded.get('id')))"
      ],
      "execution_count": 2,
      "outputs": [
        {
          "output_type": "stream",
          "text": [
            "Uploaded file with ID 1BZZQ6Pvudg-BnNSVuLgJdwybCkxdKQ-m\n"
          ],
          "name": "stdout"
        }
      ]
    },
    {
      "metadata": {
        "id": "lmFqhgHSeSIV",
        "colab_type": "code",
        "colab": {
          "base_uri": "https://localhost:8080/",
          "height": 34
        },
        "outputId": "0d014d03-e33b-42a3-ffdd-46f955c0f052"
      },
      "cell_type": "code",
      "source": [
        "# List .txt files in the root.\n",
        "#\n",
        "# Search query reference:\n",
        "# https://developers.google.com/drive/v2/web/search-parameters\n",
        "listed = drive.ListFile({'q': \"title contains '.csv' and 'root' in parents\"}).GetList()\n",
        "for file in listed:\n",
        "  print('title {}, id {}'.format(file['title'], file['id']))"
      ],
      "execution_count": 3,
      "outputs": [
        {
          "output_type": "stream",
          "text": [
            "title mobile_cleaned.csv, id 1w9RC8ttUUxn3xOc4mOAu1UL_e0fkT5rZ\n"
          ],
          "name": "stdout"
        }
      ]
    },
    {
      "metadata": {
        "id": "1W_WRa8peeRO",
        "colab_type": "code",
        "colab": {}
      },
      "cell_type": "code",
      "source": [
        "# Download a file based on its file ID.\n",
        "#\n",
        "# A file ID looks like: laggVyWshwcyP6kEI-y_W3P8D26sz\n",
        "file_id = '1w9RC8ttUUxn3xOc4mOAu1UL_e0fkT5rZ'\n",
        "downloaded = drive.CreateFile({'id': file_id})\n",
        "print('Downloaded content \"{}\"'.format(downloaded.GetContentString()))"
      ],
      "execution_count": 0,
      "outputs": []
    },
    {
      "metadata": {
        "id": "-Ysni9q2ewsU",
        "colab_type": "code",
        "colab": {}
      },
      "cell_type": "code",
      "source": [
        "downloaded.GetContentFile('mobile_cleaned_local.csv')"
      ],
      "execution_count": 0,
      "outputs": []
    },
    {
      "metadata": {
        "id": "2ANxHwOXfH62",
        "colab_type": "code",
        "colab": {
          "base_uri": "https://localhost:8080/",
          "height": 34
        },
        "outputId": "bb464442-26f7-4175-cef1-ff818b81a229"
      },
      "cell_type": "code",
      "source": [
        "!ls"
      ],
      "execution_count": 7,
      "outputs": [
        {
          "output_type": "stream",
          "text": [
            "adc.json  mobile_cleaned_local.csv  sample_data\n"
          ],
          "name": "stdout"
        }
      ]
    },
    {
      "metadata": {
        "id": "nxWF8qAZfNrT",
        "colab_type": "code",
        "colab": {}
      },
      "cell_type": "code",
      "source": [
        "import pandas as pd"
      ],
      "execution_count": 0,
      "outputs": []
    },
    {
      "metadata": {
        "id": "3etQ9LJAfa7j",
        "colab_type": "code",
        "colab": {
          "base_uri": "https://localhost:8080/",
          "height": 252
        },
        "outputId": "4cffd852-3b2d-4595-8f73-8fed5bdf7db0"
      },
      "cell_type": "code",
      "source": [
        "df = pd.read_csv('mobile_cleaned_local.csv')\n",
        "# print(df)\n",
        "df.head()"
      ],
      "execution_count": 11,
      "outputs": [
        {
          "output_type": "execute_result",
          "data": {
            "text/html": [
              "<div>\n",
              "<style scoped>\n",
              "    .dataframe tbody tr th:only-of-type {\n",
              "        vertical-align: middle;\n",
              "    }\n",
              "\n",
              "    .dataframe tbody tr th {\n",
              "        vertical-align: top;\n",
              "    }\n",
              "\n",
              "    .dataframe thead th {\n",
              "        text-align: right;\n",
              "    }\n",
              "</style>\n",
              "<table border=\"1\" class=\"dataframe\">\n",
              "  <thead>\n",
              "    <tr style=\"text-align: right;\">\n",
              "      <th></th>\n",
              "      <th>sim_type</th>\n",
              "      <th>aperture</th>\n",
              "      <th>gpu_rank</th>\n",
              "      <th>weight</th>\n",
              "      <th>stand_by_time</th>\n",
              "      <th>processor_frequency</th>\n",
              "      <th>thickness</th>\n",
              "      <th>flash_type</th>\n",
              "      <th>front_camera_resolution</th>\n",
              "      <th>auto_focus</th>\n",
              "      <th>...</th>\n",
              "      <th>micro_sd_slot</th>\n",
              "      <th>screen_pixel_density</th>\n",
              "      <th>water_proof_rate</th>\n",
              "      <th>phone_width</th>\n",
              "      <th>expandable_memory</th>\n",
              "      <th>version</th>\n",
              "      <th>usb_type</th>\n",
              "      <th>battery_capacity</th>\n",
              "      <th>processor_rank</th>\n",
              "      <th>is_liked</th>\n",
              "    </tr>\n",
              "  </thead>\n",
              "  <tbody>\n",
              "    <tr>\n",
              "      <th>0</th>\n",
              "      <td>0</td>\n",
              "      <td>12</td>\n",
              "      <td>55</td>\n",
              "      <td>155.0</td>\n",
              "      <td>250</td>\n",
              "      <td>1.3</td>\n",
              "      <td>10.5</td>\n",
              "      <td>5</td>\n",
              "      <td>2.00</td>\n",
              "      <td>0</td>\n",
              "      <td>...</td>\n",
              "      <td>4</td>\n",
              "      <td>2</td>\n",
              "      <td>3</td>\n",
              "      <td>67.8</td>\n",
              "      <td>64.0</td>\n",
              "      <td>5</td>\n",
              "      <td>3</td>\n",
              "      <td>2000</td>\n",
              "      <td>125</td>\n",
              "      <td>1</td>\n",
              "    </tr>\n",
              "    <tr>\n",
              "      <th>1</th>\n",
              "      <td>0</td>\n",
              "      <td>1</td>\n",
              "      <td>55</td>\n",
              "      <td>132.0</td>\n",
              "      <td>300</td>\n",
              "      <td>1.3</td>\n",
              "      <td>10.6</td>\n",
              "      <td>5</td>\n",
              "      <td>0.30</td>\n",
              "      <td>1</td>\n",
              "      <td>...</td>\n",
              "      <td>4</td>\n",
              "      <td>4</td>\n",
              "      <td>6</td>\n",
              "      <td>64.0</td>\n",
              "      <td>32.0</td>\n",
              "      <td>5</td>\n",
              "      <td>3</td>\n",
              "      <td>2000</td>\n",
              "      <td>165</td>\n",
              "      <td>1</td>\n",
              "    </tr>\n",
              "    <tr>\n",
              "      <th>2</th>\n",
              "      <td>0</td>\n",
              "      <td>9</td>\n",
              "      <td>55</td>\n",
              "      <td>142.0</td>\n",
              "      <td>329</td>\n",
              "      <td>1.5</td>\n",
              "      <td>8.5</td>\n",
              "      <td>5</td>\n",
              "      <td>2.00</td>\n",
              "      <td>3</td>\n",
              "      <td>...</td>\n",
              "      <td>4</td>\n",
              "      <td>9</td>\n",
              "      <td>6</td>\n",
              "      <td>72.0</td>\n",
              "      <td>32.0</td>\n",
              "      <td>6</td>\n",
              "      <td>3</td>\n",
              "      <td>2500</td>\n",
              "      <td>164</td>\n",
              "      <td>0</td>\n",
              "    </tr>\n",
              "    <tr>\n",
              "      <th>3</th>\n",
              "      <td>0</td>\n",
              "      <td>8</td>\n",
              "      <td>55</td>\n",
              "      <td>152.0</td>\n",
              "      <td>385</td>\n",
              "      <td>1.3</td>\n",
              "      <td>8.0</td>\n",
              "      <td>5</td>\n",
              "      <td>2.00</td>\n",
              "      <td>3</td>\n",
              "      <td>...</td>\n",
              "      <td>4</td>\n",
              "      <td>1</td>\n",
              "      <td>3</td>\n",
              "      <td>75.1</td>\n",
              "      <td>32.0</td>\n",
              "      <td>6</td>\n",
              "      <td>3</td>\n",
              "      <td>3000</td>\n",
              "      <td>165</td>\n",
              "      <td>1</td>\n",
              "    </tr>\n",
              "    <tr>\n",
              "      <th>4</th>\n",
              "      <td>1</td>\n",
              "      <td>1</td>\n",
              "      <td>55</td>\n",
              "      <td>234.0</td>\n",
              "      <td>385</td>\n",
              "      <td>1.3</td>\n",
              "      <td>7.9</td>\n",
              "      <td>5</td>\n",
              "      <td>1.92</td>\n",
              "      <td>3</td>\n",
              "      <td>...</td>\n",
              "      <td>4</td>\n",
              "      <td>1</td>\n",
              "      <td>6</td>\n",
              "      <td>91.0</td>\n",
              "      <td>32.0</td>\n",
              "      <td>6</td>\n",
              "      <td>3</td>\n",
              "      <td>3000</td>\n",
              "      <td>165</td>\n",
              "      <td>0</td>\n",
              "    </tr>\n",
              "  </tbody>\n",
              "</table>\n",
              "<p>5 rows × 40 columns</p>\n",
              "</div>"
            ],
            "text/plain": [
              "   sim_type  aperture  gpu_rank  weight  stand_by_time  processor_frequency  \\\n",
              "0         0        12        55   155.0            250                  1.3   \n",
              "1         0         1        55   132.0            300                  1.3   \n",
              "2         0         9        55   142.0            329                  1.5   \n",
              "3         0         8        55   152.0            385                  1.3   \n",
              "4         1         1        55   234.0            385                  1.3   \n",
              "\n",
              "   thickness  flash_type  front_camera_resolution  auto_focus    ...     \\\n",
              "0       10.5           5                     2.00           0    ...      \n",
              "1       10.6           5                     0.30           1    ...      \n",
              "2        8.5           5                     2.00           3    ...      \n",
              "3        8.0           5                     2.00           3    ...      \n",
              "4        7.9           5                     1.92           3    ...      \n",
              "\n",
              "   micro_sd_slot  screen_pixel_density  water_proof_rate  phone_width  \\\n",
              "0              4                     2                 3         67.8   \n",
              "1              4                     4                 6         64.0   \n",
              "2              4                     9                 6         72.0   \n",
              "3              4                     1                 3         75.1   \n",
              "4              4                     1                 6         91.0   \n",
              "\n",
              "   expandable_memory  version  usb_type  battery_capacity  processor_rank  \\\n",
              "0               64.0        5         3              2000             125   \n",
              "1               32.0        5         3              2000             165   \n",
              "2               32.0        6         3              2500             164   \n",
              "3               32.0        6         3              3000             165   \n",
              "4               32.0        6         3              3000             165   \n",
              "\n",
              "   is_liked  \n",
              "0         1  \n",
              "1         1  \n",
              "2         0  \n",
              "3         1  \n",
              "4         0  \n",
              "\n",
              "[5 rows x 40 columns]"
            ]
          },
          "metadata": {
            "tags": []
          },
          "execution_count": 11
        }
      ]
    },
    {
      "metadata": {
        "id": "LMrWYPDYfka6",
        "colab_type": "code",
        "colab": {
          "base_uri": "https://localhost:8080/",
          "height": 252
        },
        "outputId": "5af0ede4-ba15-4376-ab39-f39fd573f543"
      },
      "cell_type": "code",
      "source": [
        "df.tail()"
      ],
      "execution_count": 12,
      "outputs": [
        {
          "output_type": "execute_result",
          "data": {
            "text/html": [
              "<div>\n",
              "<style scoped>\n",
              "    .dataframe tbody tr th:only-of-type {\n",
              "        vertical-align: middle;\n",
              "    }\n",
              "\n",
              "    .dataframe tbody tr th {\n",
              "        vertical-align: top;\n",
              "    }\n",
              "\n",
              "    .dataframe thead th {\n",
              "        text-align: right;\n",
              "    }\n",
              "</style>\n",
              "<table border=\"1\" class=\"dataframe\">\n",
              "  <thead>\n",
              "    <tr style=\"text-align: right;\">\n",
              "      <th></th>\n",
              "      <th>sim_type</th>\n",
              "      <th>aperture</th>\n",
              "      <th>gpu_rank</th>\n",
              "      <th>weight</th>\n",
              "      <th>stand_by_time</th>\n",
              "      <th>processor_frequency</th>\n",
              "      <th>thickness</th>\n",
              "      <th>flash_type</th>\n",
              "      <th>front_camera_resolution</th>\n",
              "      <th>auto_focus</th>\n",
              "      <th>...</th>\n",
              "      <th>micro_sd_slot</th>\n",
              "      <th>screen_pixel_density</th>\n",
              "      <th>water_proof_rate</th>\n",
              "      <th>phone_width</th>\n",
              "      <th>expandable_memory</th>\n",
              "      <th>version</th>\n",
              "      <th>usb_type</th>\n",
              "      <th>battery_capacity</th>\n",
              "      <th>processor_rank</th>\n",
              "      <th>is_liked</th>\n",
              "    </tr>\n",
              "  </thead>\n",
              "  <tbody>\n",
              "    <tr>\n",
              "      <th>104</th>\n",
              "      <td>3</td>\n",
              "      <td>10</td>\n",
              "      <td>14</td>\n",
              "      <td>192.0</td>\n",
              "      <td>540</td>\n",
              "      <td>1.8</td>\n",
              "      <td>9.4</td>\n",
              "      <td>2</td>\n",
              "      <td>2.0</td>\n",
              "      <td>2</td>\n",
              "      <td>...</td>\n",
              "      <td>4</td>\n",
              "      <td>29</td>\n",
              "      <td>6</td>\n",
              "      <td>77.2</td>\n",
              "      <td>256.0</td>\n",
              "      <td>6</td>\n",
              "      <td>3</td>\n",
              "      <td>3410</td>\n",
              "      <td>8</td>\n",
              "      <td>1</td>\n",
              "    </tr>\n",
              "    <tr>\n",
              "      <th>105</th>\n",
              "      <td>0</td>\n",
              "      <td>5</td>\n",
              "      <td>3</td>\n",
              "      <td>157.0</td>\n",
              "      <td>400</td>\n",
              "      <td>2.3</td>\n",
              "      <td>7.7</td>\n",
              "      <td>5</td>\n",
              "      <td>5.0</td>\n",
              "      <td>3</td>\n",
              "      <td>...</td>\n",
              "      <td>6</td>\n",
              "      <td>27</td>\n",
              "      <td>1</td>\n",
              "      <td>72.6</td>\n",
              "      <td>200.0</td>\n",
              "      <td>9</td>\n",
              "      <td>3</td>\n",
              "      <td>3600</td>\n",
              "      <td>101</td>\n",
              "      <td>1</td>\n",
              "    </tr>\n",
              "    <tr>\n",
              "      <th>106</th>\n",
              "      <td>3</td>\n",
              "      <td>10</td>\n",
              "      <td>6</td>\n",
              "      <td>192.0</td>\n",
              "      <td>384</td>\n",
              "      <td>1.8</td>\n",
              "      <td>7.3</td>\n",
              "      <td>2</td>\n",
              "      <td>5.0</td>\n",
              "      <td>3</td>\n",
              "      <td>...</td>\n",
              "      <td>1</td>\n",
              "      <td>16</td>\n",
              "      <td>6</td>\n",
              "      <td>77.9</td>\n",
              "      <td>0.0</td>\n",
              "      <td>14</td>\n",
              "      <td>13</td>\n",
              "      <td>2750</td>\n",
              "      <td>1</td>\n",
              "      <td>1</td>\n",
              "    </tr>\n",
              "    <tr>\n",
              "      <th>107</th>\n",
              "      <td>3</td>\n",
              "      <td>10</td>\n",
              "      <td>12</td>\n",
              "      <td>129.0</td>\n",
              "      <td>250</td>\n",
              "      <td>1.4</td>\n",
              "      <td>6.9</td>\n",
              "      <td>2</td>\n",
              "      <td>1.2</td>\n",
              "      <td>3</td>\n",
              "      <td>...</td>\n",
              "      <td>1</td>\n",
              "      <td>13</td>\n",
              "      <td>6</td>\n",
              "      <td>67.0</td>\n",
              "      <td>0.0</td>\n",
              "      <td>12</td>\n",
              "      <td>13</td>\n",
              "      <td>1810</td>\n",
              "      <td>7</td>\n",
              "      <td>1</td>\n",
              "    </tr>\n",
              "    <tr>\n",
              "      <th>108</th>\n",
              "      <td>2</td>\n",
              "      <td>8</td>\n",
              "      <td>3</td>\n",
              "      <td>158.0</td>\n",
              "      <td>400</td>\n",
              "      <td>2.2</td>\n",
              "      <td>7.4</td>\n",
              "      <td>6</td>\n",
              "      <td>8.0</td>\n",
              "      <td>3</td>\n",
              "      <td>...</td>\n",
              "      <td>5</td>\n",
              "      <td>16</td>\n",
              "      <td>6</td>\n",
              "      <td>74.7</td>\n",
              "      <td>0.0</td>\n",
              "      <td>10</td>\n",
              "      <td>12</td>\n",
              "      <td>3000</td>\n",
              "      <td>2</td>\n",
              "      <td>0</td>\n",
              "    </tr>\n",
              "  </tbody>\n",
              "</table>\n",
              "<p>5 rows × 40 columns</p>\n",
              "</div>"
            ],
            "text/plain": [
              "     sim_type  aperture  gpu_rank  weight  stand_by_time  processor_frequency  \\\n",
              "104         3        10        14   192.0            540                  1.8   \n",
              "105         0         5         3   157.0            400                  2.3   \n",
              "106         3        10         6   192.0            384                  1.8   \n",
              "107         3        10        12   129.0            250                  1.4   \n",
              "108         2         8         3   158.0            400                  2.2   \n",
              "\n",
              "     thickness  flash_type  front_camera_resolution  auto_focus    ...     \\\n",
              "104        9.4           2                      2.0           2    ...      \n",
              "105        7.7           5                      5.0           3    ...      \n",
              "106        7.3           2                      5.0           3    ...      \n",
              "107        6.9           2                      1.2           3    ...      \n",
              "108        7.4           6                      8.0           3    ...      \n",
              "\n",
              "     micro_sd_slot  screen_pixel_density  water_proof_rate  phone_width  \\\n",
              "104              4                    29                 6         77.2   \n",
              "105              6                    27                 1         72.6   \n",
              "106              1                    16                 6         77.9   \n",
              "107              1                    13                 6         67.0   \n",
              "108              5                    16                 6         74.7   \n",
              "\n",
              "     expandable_memory  version  usb_type  battery_capacity  processor_rank  \\\n",
              "104              256.0        6         3              3410               8   \n",
              "105              200.0        9         3              3600             101   \n",
              "106                0.0       14        13              2750               1   \n",
              "107                0.0       12        13              1810               7   \n",
              "108                0.0       10        12              3000               2   \n",
              "\n",
              "     is_liked  \n",
              "104         1  \n",
              "105         1  \n",
              "106         1  \n",
              "107         1  \n",
              "108         0  \n",
              "\n",
              "[5 rows x 40 columns]"
            ]
          },
          "metadata": {
            "tags": []
          },
          "execution_count": 12
        }
      ]
    },
    {
      "metadata": {
        "id": "NwMheY3HgZNZ",
        "colab_type": "code",
        "colab": {
          "base_uri": "https://localhost:8080/",
          "height": 34
        },
        "outputId": "d9f256f0-6a6b-4ed1-ea64-d918406546db"
      },
      "cell_type": "code",
      "source": [
        "len(df)"
      ],
      "execution_count": 15,
      "outputs": [
        {
          "output_type": "execute_result",
          "data": {
            "text/plain": [
              "109"
            ]
          },
          "metadata": {
            "tags": []
          },
          "execution_count": 15
        }
      ]
    },
    {
      "metadata": {
        "id": "kGRZjNZIgsR9",
        "colab_type": "code",
        "colab": {
          "base_uri": "https://localhost:8080/",
          "height": 34
        },
        "outputId": "510e887a-1040-49e5-92a1-036770c84c03"
      },
      "cell_type": "code",
      "source": [
        "df.shape"
      ],
      "execution_count": 16,
      "outputs": [
        {
          "output_type": "execute_result",
          "data": {
            "text/plain": [
              "(109, 40)"
            ]
          },
          "metadata": {
            "tags": []
          },
          "execution_count": 16
        }
      ]
    },
    {
      "metadata": {
        "id": "kW4bmx9Cgxwt",
        "colab_type": "code",
        "colab": {
          "base_uri": "https://localhost:8080/",
          "height": 722
        },
        "outputId": "0864060d-0a82-4be4-92d8-482d64d53651"
      },
      "cell_type": "code",
      "source": [
        "df.loc[108]"
      ],
      "execution_count": 17,
      "outputs": [
        {
          "output_type": "execute_result",
          "data": {
            "text/plain": [
              "sim_type                                 2.0\n",
              "aperture                                 8.0\n",
              "gpu_rank                                 3.0\n",
              "weight                                 158.0\n",
              "stand_by_time                          400.0\n",
              "processor_frequency                      2.2\n",
              "thickness                                7.4\n",
              "flash_type                               6.0\n",
              "front_camera_resolution                  8.0\n",
              "auto_focus                               3.0\n",
              "screen_size                              5.5\n",
              "frames_per_second                       30.0\n",
              "FM                                       1.0\n",
              "no_of_reviews_in_gsmarena_in_week        0.0\n",
              "os                                       0.0\n",
              "phone_height                           152.7\n",
              "screen_protection                        7.0\n",
              "sim_size                                 8.0\n",
              "price                                27999.0\n",
              "talk_time                               40.0\n",
              "video_resolution                      2160.0\n",
              "display_resolution                       9.0\n",
              "removable_battery                        1.0\n",
              "display_type                             6.0\n",
              "primary_camera_resolution               16.0\n",
              "battery_type                             4.0\n",
              "ram_memory                               6.0\n",
              "internal_memory                          6.0\n",
              "brand_rank                              12.0\n",
              "no_of_cores                              6.0\n",
              "micro_sd_slot                            5.0\n",
              "screen_pixel_density                    16.0\n",
              "water_proof_rate                         6.0\n",
              "phone_width                             74.7\n",
              "expandable_memory                        0.0\n",
              "version                                 10.0\n",
              "usb_type                                12.0\n",
              "battery_capacity                      3000.0\n",
              "processor_rank                           2.0\n",
              "is_liked                                 0.0\n",
              "Name: 108, dtype: float64"
            ]
          },
          "metadata": {
            "tags": []
          },
          "execution_count": 17
        }
      ]
    },
    {
      "metadata": {
        "id": "ShK4hZgxg-s0",
        "colab_type": "code",
        "colab": {
          "base_uri": "https://localhost:8080/",
          "height": 252
        },
        "outputId": "0423db80-b76e-4a7e-a136-0f914983bcfc"
      },
      "cell_type": "code",
      "source": [
        "df_short = df[0:10]\n",
        "df_short.head()"
      ],
      "execution_count": 19,
      "outputs": [
        {
          "output_type": "execute_result",
          "data": {
            "text/html": [
              "<div>\n",
              "<style scoped>\n",
              "    .dataframe tbody tr th:only-of-type {\n",
              "        vertical-align: middle;\n",
              "    }\n",
              "\n",
              "    .dataframe tbody tr th {\n",
              "        vertical-align: top;\n",
              "    }\n",
              "\n",
              "    .dataframe thead th {\n",
              "        text-align: right;\n",
              "    }\n",
              "</style>\n",
              "<table border=\"1\" class=\"dataframe\">\n",
              "  <thead>\n",
              "    <tr style=\"text-align: right;\">\n",
              "      <th></th>\n",
              "      <th>sim_type</th>\n",
              "      <th>aperture</th>\n",
              "      <th>gpu_rank</th>\n",
              "      <th>weight</th>\n",
              "      <th>stand_by_time</th>\n",
              "      <th>processor_frequency</th>\n",
              "      <th>thickness</th>\n",
              "      <th>flash_type</th>\n",
              "      <th>front_camera_resolution</th>\n",
              "      <th>auto_focus</th>\n",
              "      <th>...</th>\n",
              "      <th>micro_sd_slot</th>\n",
              "      <th>screen_pixel_density</th>\n",
              "      <th>water_proof_rate</th>\n",
              "      <th>phone_width</th>\n",
              "      <th>expandable_memory</th>\n",
              "      <th>version</th>\n",
              "      <th>usb_type</th>\n",
              "      <th>battery_capacity</th>\n",
              "      <th>processor_rank</th>\n",
              "      <th>is_liked</th>\n",
              "    </tr>\n",
              "  </thead>\n",
              "  <tbody>\n",
              "    <tr>\n",
              "      <th>0</th>\n",
              "      <td>0</td>\n",
              "      <td>12</td>\n",
              "      <td>55</td>\n",
              "      <td>155.0</td>\n",
              "      <td>250</td>\n",
              "      <td>1.3</td>\n",
              "      <td>10.5</td>\n",
              "      <td>5</td>\n",
              "      <td>2.00</td>\n",
              "      <td>0</td>\n",
              "      <td>...</td>\n",
              "      <td>4</td>\n",
              "      <td>2</td>\n",
              "      <td>3</td>\n",
              "      <td>67.8</td>\n",
              "      <td>64.0</td>\n",
              "      <td>5</td>\n",
              "      <td>3</td>\n",
              "      <td>2000</td>\n",
              "      <td>125</td>\n",
              "      <td>1</td>\n",
              "    </tr>\n",
              "    <tr>\n",
              "      <th>1</th>\n",
              "      <td>0</td>\n",
              "      <td>1</td>\n",
              "      <td>55</td>\n",
              "      <td>132.0</td>\n",
              "      <td>300</td>\n",
              "      <td>1.3</td>\n",
              "      <td>10.6</td>\n",
              "      <td>5</td>\n",
              "      <td>0.30</td>\n",
              "      <td>1</td>\n",
              "      <td>...</td>\n",
              "      <td>4</td>\n",
              "      <td>4</td>\n",
              "      <td>6</td>\n",
              "      <td>64.0</td>\n",
              "      <td>32.0</td>\n",
              "      <td>5</td>\n",
              "      <td>3</td>\n",
              "      <td>2000</td>\n",
              "      <td>165</td>\n",
              "      <td>1</td>\n",
              "    </tr>\n",
              "    <tr>\n",
              "      <th>2</th>\n",
              "      <td>0</td>\n",
              "      <td>9</td>\n",
              "      <td>55</td>\n",
              "      <td>142.0</td>\n",
              "      <td>329</td>\n",
              "      <td>1.5</td>\n",
              "      <td>8.5</td>\n",
              "      <td>5</td>\n",
              "      <td>2.00</td>\n",
              "      <td>3</td>\n",
              "      <td>...</td>\n",
              "      <td>4</td>\n",
              "      <td>9</td>\n",
              "      <td>6</td>\n",
              "      <td>72.0</td>\n",
              "      <td>32.0</td>\n",
              "      <td>6</td>\n",
              "      <td>3</td>\n",
              "      <td>2500</td>\n",
              "      <td>164</td>\n",
              "      <td>0</td>\n",
              "    </tr>\n",
              "    <tr>\n",
              "      <th>3</th>\n",
              "      <td>0</td>\n",
              "      <td>8</td>\n",
              "      <td>55</td>\n",
              "      <td>152.0</td>\n",
              "      <td>385</td>\n",
              "      <td>1.3</td>\n",
              "      <td>8.0</td>\n",
              "      <td>5</td>\n",
              "      <td>2.00</td>\n",
              "      <td>3</td>\n",
              "      <td>...</td>\n",
              "      <td>4</td>\n",
              "      <td>1</td>\n",
              "      <td>3</td>\n",
              "      <td>75.1</td>\n",
              "      <td>32.0</td>\n",
              "      <td>6</td>\n",
              "      <td>3</td>\n",
              "      <td>3000</td>\n",
              "      <td>165</td>\n",
              "      <td>1</td>\n",
              "    </tr>\n",
              "    <tr>\n",
              "      <th>4</th>\n",
              "      <td>1</td>\n",
              "      <td>1</td>\n",
              "      <td>55</td>\n",
              "      <td>234.0</td>\n",
              "      <td>385</td>\n",
              "      <td>1.3</td>\n",
              "      <td>7.9</td>\n",
              "      <td>5</td>\n",
              "      <td>1.92</td>\n",
              "      <td>3</td>\n",
              "      <td>...</td>\n",
              "      <td>4</td>\n",
              "      <td>1</td>\n",
              "      <td>6</td>\n",
              "      <td>91.0</td>\n",
              "      <td>32.0</td>\n",
              "      <td>6</td>\n",
              "      <td>3</td>\n",
              "      <td>3000</td>\n",
              "      <td>165</td>\n",
              "      <td>0</td>\n",
              "    </tr>\n",
              "  </tbody>\n",
              "</table>\n",
              "<p>5 rows × 40 columns</p>\n",
              "</div>"
            ],
            "text/plain": [
              "   sim_type  aperture  gpu_rank  weight  stand_by_time  processor_frequency  \\\n",
              "0         0        12        55   155.0            250                  1.3   \n",
              "1         0         1        55   132.0            300                  1.3   \n",
              "2         0         9        55   142.0            329                  1.5   \n",
              "3         0         8        55   152.0            385                  1.3   \n",
              "4         1         1        55   234.0            385                  1.3   \n",
              "\n",
              "   thickness  flash_type  front_camera_resolution  auto_focus    ...     \\\n",
              "0       10.5           5                     2.00           0    ...      \n",
              "1       10.6           5                     0.30           1    ...      \n",
              "2        8.5           5                     2.00           3    ...      \n",
              "3        8.0           5                     2.00           3    ...      \n",
              "4        7.9           5                     1.92           3    ...      \n",
              "\n",
              "   micro_sd_slot  screen_pixel_density  water_proof_rate  phone_width  \\\n",
              "0              4                     2                 3         67.8   \n",
              "1              4                     4                 6         64.0   \n",
              "2              4                     9                 6         72.0   \n",
              "3              4                     1                 3         75.1   \n",
              "4              4                     1                 6         91.0   \n",
              "\n",
              "   expandable_memory  version  usb_type  battery_capacity  processor_rank  \\\n",
              "0               64.0        5         3              2000             125   \n",
              "1               32.0        5         3              2000             165   \n",
              "2               32.0        6         3              2500             164   \n",
              "3               32.0        6         3              3000             165   \n",
              "4               32.0        6         3              3000             165   \n",
              "\n",
              "   is_liked  \n",
              "0         1  \n",
              "1         1  \n",
              "2         0  \n",
              "3         1  \n",
              "4         0  \n",
              "\n",
              "[5 rows x 40 columns]"
            ]
          },
          "metadata": {
            "tags": []
          },
          "execution_count": 19
        }
      ]
    },
    {
      "metadata": {
        "id": "TeGmATXFhJW7",
        "colab_type": "code",
        "colab": {
          "base_uri": "https://localhost:8080/",
          "height": 34
        },
        "outputId": "e06766c8-5954-4ff5-8042-53330993415f"
      },
      "cell_type": "code",
      "source": [
        "df_thin = df[['sim_type', 'gpu_rank', 'thickness', 'price','is_liked']]\n",
        "df_thin.shape"
      ],
      "execution_count": 30,
      "outputs": [
        {
          "output_type": "execute_result",
          "data": {
            "text/plain": [
              "(109, 5)"
            ]
          },
          "metadata": {
            "tags": []
          },
          "execution_count": 30
        }
      ]
    },
    {
      "metadata": {
        "id": "1UP8q6vMhxxO",
        "colab_type": "code",
        "colab": {
          "base_uri": "https://localhost:8080/",
          "height": 203
        },
        "outputId": "3a23b038-2d8a-43a2-861c-b89e5a115126"
      },
      "cell_type": "code",
      "source": [
        "df_thin.head()"
      ],
      "execution_count": 31,
      "outputs": [
        {
          "output_type": "execute_result",
          "data": {
            "text/html": [
              "<div>\n",
              "<style scoped>\n",
              "    .dataframe tbody tr th:only-of-type {\n",
              "        vertical-align: middle;\n",
              "    }\n",
              "\n",
              "    .dataframe tbody tr th {\n",
              "        vertical-align: top;\n",
              "    }\n",
              "\n",
              "    .dataframe thead th {\n",
              "        text-align: right;\n",
              "    }\n",
              "</style>\n",
              "<table border=\"1\" class=\"dataframe\">\n",
              "  <thead>\n",
              "    <tr style=\"text-align: right;\">\n",
              "      <th></th>\n",
              "      <th>sim_type</th>\n",
              "      <th>gpu_rank</th>\n",
              "      <th>thickness</th>\n",
              "      <th>price</th>\n",
              "      <th>is_liked</th>\n",
              "    </tr>\n",
              "  </thead>\n",
              "  <tbody>\n",
              "    <tr>\n",
              "      <th>0</th>\n",
              "      <td>0</td>\n",
              "      <td>55</td>\n",
              "      <td>10.5</td>\n",
              "      <td>3870</td>\n",
              "      <td>1</td>\n",
              "    </tr>\n",
              "    <tr>\n",
              "      <th>1</th>\n",
              "      <td>0</td>\n",
              "      <td>55</td>\n",
              "      <td>10.6</td>\n",
              "      <td>4059</td>\n",
              "      <td>1</td>\n",
              "    </tr>\n",
              "    <tr>\n",
              "      <th>2</th>\n",
              "      <td>0</td>\n",
              "      <td>55</td>\n",
              "      <td>8.5</td>\n",
              "      <td>4777</td>\n",
              "      <td>0</td>\n",
              "    </tr>\n",
              "    <tr>\n",
              "      <th>3</th>\n",
              "      <td>0</td>\n",
              "      <td>55</td>\n",
              "      <td>8.0</td>\n",
              "      <td>5799</td>\n",
              "      <td>1</td>\n",
              "    </tr>\n",
              "    <tr>\n",
              "      <th>4</th>\n",
              "      <td>1</td>\n",
              "      <td>55</td>\n",
              "      <td>7.9</td>\n",
              "      <td>5990</td>\n",
              "      <td>0</td>\n",
              "    </tr>\n",
              "  </tbody>\n",
              "</table>\n",
              "</div>"
            ],
            "text/plain": [
              "   sim_type  gpu_rank  thickness  price  is_liked\n",
              "0         0        55       10.5   3870         1\n",
              "1         0        55       10.6   4059         1\n",
              "2         0        55        8.5   4777         0\n",
              "3         0        55        8.0   5799         1\n",
              "4         1        55        7.9   5990         0"
            ]
          },
          "metadata": {
            "tags": []
          },
          "execution_count": 31
        }
      ]
    },
    {
      "metadata": {
        "id": "CuhbNVALh1nV",
        "colab_type": "code",
        "colab": {
          "base_uri": "https://localhost:8080/",
          "height": 203
        },
        "outputId": "96161dd0-05fa-4544-f096-de20ca7f10c4"
      },
      "cell_type": "code",
      "source": [
        "df_liked = df_thin[df_thin['is_liked']==1]\n",
        "df_liked.head()"
      ],
      "execution_count": 32,
      "outputs": [
        {
          "output_type": "execute_result",
          "data": {
            "text/html": [
              "<div>\n",
              "<style scoped>\n",
              "    .dataframe tbody tr th:only-of-type {\n",
              "        vertical-align: middle;\n",
              "    }\n",
              "\n",
              "    .dataframe tbody tr th {\n",
              "        vertical-align: top;\n",
              "    }\n",
              "\n",
              "    .dataframe thead th {\n",
              "        text-align: right;\n",
              "    }\n",
              "</style>\n",
              "<table border=\"1\" class=\"dataframe\">\n",
              "  <thead>\n",
              "    <tr style=\"text-align: right;\">\n",
              "      <th></th>\n",
              "      <th>sim_type</th>\n",
              "      <th>gpu_rank</th>\n",
              "      <th>thickness</th>\n",
              "      <th>price</th>\n",
              "      <th>is_liked</th>\n",
              "    </tr>\n",
              "  </thead>\n",
              "  <tbody>\n",
              "    <tr>\n",
              "      <th>0</th>\n",
              "      <td>0</td>\n",
              "      <td>55</td>\n",
              "      <td>10.5</td>\n",
              "      <td>3870</td>\n",
              "      <td>1</td>\n",
              "    </tr>\n",
              "    <tr>\n",
              "      <th>1</th>\n",
              "      <td>0</td>\n",
              "      <td>55</td>\n",
              "      <td>10.6</td>\n",
              "      <td>4059</td>\n",
              "      <td>1</td>\n",
              "    </tr>\n",
              "    <tr>\n",
              "      <th>3</th>\n",
              "      <td>0</td>\n",
              "      <td>55</td>\n",
              "      <td>8.0</td>\n",
              "      <td>5799</td>\n",
              "      <td>1</td>\n",
              "    </tr>\n",
              "    <tr>\n",
              "      <th>6</th>\n",
              "      <td>1</td>\n",
              "      <td>56</td>\n",
              "      <td>8.8</td>\n",
              "      <td>5999</td>\n",
              "      <td>1</td>\n",
              "    </tr>\n",
              "    <tr>\n",
              "      <th>7</th>\n",
              "      <td>0</td>\n",
              "      <td>41</td>\n",
              "      <td>8.1</td>\n",
              "      <td>6599</td>\n",
              "      <td>1</td>\n",
              "    </tr>\n",
              "  </tbody>\n",
              "</table>\n",
              "</div>"
            ],
            "text/plain": [
              "   sim_type  gpu_rank  thickness  price  is_liked\n",
              "0         0        55       10.5   3870         1\n",
              "1         0        55       10.6   4059         1\n",
              "3         0        55        8.0   5799         1\n",
              "6         1        56        8.8   5999         1\n",
              "7         0        41        8.1   6599         1"
            ]
          },
          "metadata": {
            "tags": []
          },
          "execution_count": 32
        }
      ]
    },
    {
      "metadata": {
        "id": "4WGNvaaLiPoh",
        "colab_type": "code",
        "colab": {
          "base_uri": "https://localhost:8080/",
          "height": 34
        },
        "outputId": "47089544-cc1b-4251-a2ff-c387ea1224b3"
      },
      "cell_type": "code",
      "source": [
        "df_liked.shape"
      ],
      "execution_count": 33,
      "outputs": [
        {
          "output_type": "execute_result",
          "data": {
            "text/plain": [
              "(92, 5)"
            ]
          },
          "metadata": {
            "tags": []
          },
          "execution_count": 33
        }
      ]
    },
    {
      "metadata": {
        "id": "Uih2ZC15imq3",
        "colab_type": "code",
        "colab": {
          "base_uri": "https://localhost:8080/",
          "height": 34
        },
        "outputId": "2508bb42-0011-47a4-c72a-b8f707062860"
      },
      "cell_type": "code",
      "source": [
        "df_thin['price'].mean()"
      ],
      "execution_count": 34,
      "outputs": [
        {
          "output_type": "execute_result",
          "data": {
            "text/plain": [
              "19373.211009174312"
            ]
          },
          "metadata": {
            "tags": []
          },
          "execution_count": 34
        }
      ]
    },
    {
      "metadata": {
        "id": "LnSCgj_XjBQi",
        "colab_type": "code",
        "colab": {
          "base_uri": "https://localhost:8080/",
          "height": 34
        },
        "outputId": "3626f9a4-2349-47c7-be83-d4db224f638a"
      },
      "cell_type": "code",
      "source": [
        "df_thin['price'].min()"
      ],
      "execution_count": 35,
      "outputs": [
        {
          "output_type": "execute_result",
          "data": {
            "text/plain": [
              "3870"
            ]
          },
          "metadata": {
            "tags": []
          },
          "execution_count": 35
        }
      ]
    },
    {
      "metadata": {
        "id": "NPT7bVfpjDXm",
        "colab_type": "code",
        "colab": {
          "base_uri": "https://localhost:8080/",
          "height": 34
        },
        "outputId": "91bd0a2b-5a08-467b-b2f1-67d8e0819772"
      },
      "cell_type": "code",
      "source": [
        "df_thin['price'].max()"
      ],
      "execution_count": 36,
      "outputs": [
        {
          "output_type": "execute_result",
          "data": {
            "text/plain": [
              "64500"
            ]
          },
          "metadata": {
            "tags": []
          },
          "execution_count": 36
        }
      ]
    },
    {
      "metadata": {
        "id": "RWF96wWdjEl6",
        "colab_type": "code",
        "colab": {
          "base_uri": "https://localhost:8080/",
          "height": 172
        },
        "outputId": "3405a644-0145-4f90-c1e7-73c9cbace65e"
      },
      "cell_type": "code",
      "source": [
        "df_thin['price'].describe()"
      ],
      "execution_count": 37,
      "outputs": [
        {
          "output_type": "execute_result",
          "data": {
            "text/plain": [
              "count      109.000000\n",
              "mean     19373.211009\n",
              "std      14039.197220\n",
              "min       3870.000000\n",
              "25%       8999.000000\n",
              "50%      14614.000000\n",
              "75%      24999.000000\n",
              "max      64500.000000\n",
              "Name: price, dtype: float64"
            ]
          },
          "metadata": {
            "tags": []
          },
          "execution_count": 37
        }
      ]
    },
    {
      "metadata": {
        "id": "0khqc3eCjG1h",
        "colab_type": "code",
        "colab": {
          "base_uri": "https://localhost:8080/",
          "height": 295
        },
        "outputId": "aaeb7658-40c1-49fc-8dc3-e544e48bc851"
      },
      "cell_type": "code",
      "source": [
        "df_thin.describe()"
      ],
      "execution_count": 38,
      "outputs": [
        {
          "output_type": "execute_result",
          "data": {
            "text/html": [
              "<div>\n",
              "<style scoped>\n",
              "    .dataframe tbody tr th:only-of-type {\n",
              "        vertical-align: middle;\n",
              "    }\n",
              "\n",
              "    .dataframe tbody tr th {\n",
              "        vertical-align: top;\n",
              "    }\n",
              "\n",
              "    .dataframe thead th {\n",
              "        text-align: right;\n",
              "    }\n",
              "</style>\n",
              "<table border=\"1\" class=\"dataframe\">\n",
              "  <thead>\n",
              "    <tr style=\"text-align: right;\">\n",
              "      <th></th>\n",
              "      <th>sim_type</th>\n",
              "      <th>gpu_rank</th>\n",
              "      <th>thickness</th>\n",
              "      <th>price</th>\n",
              "      <th>is_liked</th>\n",
              "    </tr>\n",
              "  </thead>\n",
              "  <tbody>\n",
              "    <tr>\n",
              "      <th>count</th>\n",
              "      <td>109.000000</td>\n",
              "      <td>109.000000</td>\n",
              "      <td>109.000000</td>\n",
              "      <td>109.000000</td>\n",
              "      <td>109.000000</td>\n",
              "    </tr>\n",
              "    <tr>\n",
              "      <th>mean</th>\n",
              "      <td>0.981651</td>\n",
              "      <td>29.990826</td>\n",
              "      <td>8.330275</td>\n",
              "      <td>19373.211009</td>\n",
              "      <td>0.844037</td>\n",
              "    </tr>\n",
              "    <tr>\n",
              "      <th>std</th>\n",
              "      <td>1.347025</td>\n",
              "      <td>15.300385</td>\n",
              "      <td>1.173828</td>\n",
              "      <td>14039.197220</td>\n",
              "      <td>0.364496</td>\n",
              "    </tr>\n",
              "    <tr>\n",
              "      <th>min</th>\n",
              "      <td>0.000000</td>\n",
              "      <td>3.000000</td>\n",
              "      <td>5.100000</td>\n",
              "      <td>3870.000000</td>\n",
              "      <td>0.000000</td>\n",
              "    </tr>\n",
              "    <tr>\n",
              "      <th>25%</th>\n",
              "      <td>0.000000</td>\n",
              "      <td>16.000000</td>\n",
              "      <td>7.600000</td>\n",
              "      <td>8999.000000</td>\n",
              "      <td>1.000000</td>\n",
              "    </tr>\n",
              "    <tr>\n",
              "      <th>50%</th>\n",
              "      <td>0.000000</td>\n",
              "      <td>29.000000</td>\n",
              "      <td>8.100000</td>\n",
              "      <td>14614.000000</td>\n",
              "      <td>1.000000</td>\n",
              "    </tr>\n",
              "    <tr>\n",
              "      <th>75%</th>\n",
              "      <td>3.000000</td>\n",
              "      <td>41.000000</td>\n",
              "      <td>8.900000</td>\n",
              "      <td>24999.000000</td>\n",
              "      <td>1.000000</td>\n",
              "    </tr>\n",
              "    <tr>\n",
              "      <th>max</th>\n",
              "      <td>4.000000</td>\n",
              "      <td>56.000000</td>\n",
              "      <td>11.600000</td>\n",
              "      <td>64500.000000</td>\n",
              "      <td>1.000000</td>\n",
              "    </tr>\n",
              "  </tbody>\n",
              "</table>\n",
              "</div>"
            ],
            "text/plain": [
              "         sim_type    gpu_rank   thickness         price    is_liked\n",
              "count  109.000000  109.000000  109.000000    109.000000  109.000000\n",
              "mean     0.981651   29.990826    8.330275  19373.211009    0.844037\n",
              "std      1.347025   15.300385    1.173828  14039.197220    0.364496\n",
              "min      0.000000    3.000000    5.100000   3870.000000    0.000000\n",
              "25%      0.000000   16.000000    7.600000   8999.000000    1.000000\n",
              "50%      0.000000   29.000000    8.100000  14614.000000    1.000000\n",
              "75%      3.000000   41.000000    8.900000  24999.000000    1.000000\n",
              "max      4.000000   56.000000   11.600000  64500.000000    1.000000"
            ]
          },
          "metadata": {
            "tags": []
          },
          "execution_count": 38
        }
      ]
    },
    {
      "metadata": {
        "id": "JZtCm-VYjRdv",
        "colab_type": "code",
        "colab": {
          "base_uri": "https://localhost:8080/",
          "height": 34
        },
        "outputId": "0b44cc9c-9f05-4e2d-97fd-ccc50336263c"
      },
      "cell_type": "code",
      "source": [
        "df_thin[df_thin['is_liked']==1]['price'].mean()"
      ],
      "execution_count": 39,
      "outputs": [
        {
          "output_type": "execute_result",
          "data": {
            "text/plain": [
              "19393.239130434784"
            ]
          },
          "metadata": {
            "tags": []
          },
          "execution_count": 39
        }
      ]
    },
    {
      "metadata": {
        "id": "KyXjaYmHj8TZ",
        "colab_type": "code",
        "colab": {
          "base_uri": "https://localhost:8080/",
          "height": 172
        },
        "outputId": "a6cfd3ba-a581-49e4-a519-193923e01296"
      },
      "cell_type": "code",
      "source": [
        "df_thin[df_thin['is_liked']==0]['price'].describe()"
      ],
      "execution_count": 43,
      "outputs": [
        {
          "output_type": "execute_result",
          "data": {
            "text/plain": [
              "count       17.000000\n",
              "mean     19264.823529\n",
              "std      11172.690423\n",
              "min       4777.000000\n",
              "25%       7999.000000\n",
              "50%      21999.000000\n",
              "75%      25500.000000\n",
              "max      37766.000000\n",
              "Name: price, dtype: float64"
            ]
          },
          "metadata": {
            "tags": []
          },
          "execution_count": 43
        }
      ]
    },
    {
      "metadata": {
        "id": "P6sHXuMBj-cz",
        "colab_type": "code",
        "colab": {}
      },
      "cell_type": "code",
      "source": [
        "g = df_thin.groupby(['is_liked'])"
      ],
      "execution_count": 0,
      "outputs": []
    },
    {
      "metadata": {
        "id": "HabYNa3Wk09q",
        "colab_type": "code",
        "colab": {
          "base_uri": "https://localhost:8080/",
          "height": 1462
        },
        "outputId": "4cf18ed2-eb94-4277-d945-be912bc519cb"
      },
      "cell_type": "code",
      "source": [
        "for key, df_key in g:\n",
        "  print(key)\n",
        "  print(df_key)"
      ],
      "execution_count": 49,
      "outputs": [
        {
          "output_type": "stream",
          "text": [
            "0\n",
            "     sim_type  gpu_rank  thickness  price  is_liked\n",
            "2           0        55        8.5   4777         0\n",
            "4           1        55        7.9   5990         0\n",
            "5           0        55        7.9   5999         0\n",
            "11          0        55        7.9   6990         0\n",
            "22          2        38        7.6   7999         0\n",
            "38          2        27        8.8   9999         0\n",
            "53          0        43        7.3  14300         0\n",
            "60          2        16        8.9  15689         0\n",
            "74          3        16        8.1  21999         0\n",
            "77          1        24        8.5  22999         0\n",
            "78          0        14        9.3  24499         0\n",
            "80          1         3        7.3  24999         0\n",
            "83          1        28        7.6  25500         0\n",
            "90          3         9        9.2  34999         0\n",
            "91          3         6        7.6  34999         0\n",
            "95          3        28        9.6  37766         0\n",
            "108         2         3        7.4  27999         0\n",
            "1\n",
            "     sim_type  gpu_rank  thickness  price  is_liked\n",
            "0           0        55       10.5   3870         1\n",
            "1           0        55       10.6   4059         1\n",
            "3           0        55        8.0   5799         1\n",
            "6           1        56        8.8   5999         1\n",
            "7           0        41        8.1   6599         1\n",
            "8           1        41        8.2   6599         1\n",
            "9           0        55       11.6   6649         1\n",
            "10          0        55        7.9   6749         1\n",
            "12          0        50        8.0   6999         1\n",
            "13          0        43        9.0   6999         1\n",
            "14          0        41        8.9   6999         1\n",
            "15          1        41        8.7   6999         1\n",
            "16          1        47        8.6   7340         1\n",
            "17          0        43        8.2   7499         1\n",
            "18          0        41        8.4   7590         1\n",
            "19          0        43        8.2   7790         1\n",
            "20          0        55        9.4   7899         1\n",
            "21          0        34        8.0   7914         1\n",
            "23          3        43        5.1   8490         1\n",
            "24          0        29        8.2   8499         1\n",
            "25          0        43       10.6   8999         1\n",
            "26          0        43       10.8   8999         1\n",
            "27          0        38        9.3   8999         1\n",
            "28          0        44        9.6   9399         1\n",
            "29          0        43        9.4   9499         1\n",
            "30          0        55        7.6   9700         1\n",
            "31          0        34        8.0   9715         1\n",
            "32          0        43       11.6   9999         1\n",
            "33          0        28        8.7   9999         1\n",
            "34          0        28        8.7   9999         1\n",
            "..        ...       ...        ...    ...       ...\n",
            "70          0        34        7.6  19890         1\n",
            "71          3        16        8.9  19999         1\n",
            "72          3        17        7.6  20397         1\n",
            "73          0        29        8.0  21300         1\n",
            "75          0        34        8.2  21999         1\n",
            "76          0         9        9.9  22999         1\n",
            "79          3        41        7.1  24900         1\n",
            "81          4        14       11.1  24999         1\n",
            "82          3         9        6.9  25500         1\n",
            "84          0        25        6.6  27580         1\n",
            "85          3        11        8.5  29900         1\n",
            "86          0        21        8.3  29990         1\n",
            "87          4        14        6.3  30947         1\n",
            "88          3         9        7.3  31999         1\n",
            "89          3         8        6.8  33900         1\n",
            "92          4        14        7.9  35900         1\n",
            "93          3        12        6.9  36499         1\n",
            "94          3        12        6.9  36999         1\n",
            "96          3        16        8.9  38000         1\n",
            "97          0         9        7.3  39890         1\n",
            "98          3         8        7.0  40900         1\n",
            "99          3        12        6.9  48329         1\n",
            "100         0         3        7.9  48900         1\n",
            "101         3         6        7.1  49499         1\n",
            "102         0        43        7.6  50895         1\n",
            "103         3         9        7.8  52699         1\n",
            "104         3        14        9.4  54900         1\n",
            "105         0         3        7.7  56900         1\n",
            "106         3         6        7.3  59000         1\n",
            "107         3        12        6.9  64500         1\n",
            "\n",
            "[92 rows x 5 columns]\n"
          ],
          "name": "stdout"
        }
      ]
    },
    {
      "metadata": {
        "id": "RiTeGzvYlFx3",
        "colab_type": "code",
        "colab": {
          "base_uri": "https://localhost:8080/",
          "height": 141
        },
        "outputId": "2e5ac8db-d078-42bb-cc76-cd774dbb5504"
      },
      "cell_type": "code",
      "source": [
        "df_thin.groupby(['is_liked']).mean()"
      ],
      "execution_count": 50,
      "outputs": [
        {
          "output_type": "execute_result",
          "data": {
            "text/html": [
              "<div>\n",
              "<style scoped>\n",
              "    .dataframe tbody tr th:only-of-type {\n",
              "        vertical-align: middle;\n",
              "    }\n",
              "\n",
              "    .dataframe tbody tr th {\n",
              "        vertical-align: top;\n",
              "    }\n",
              "\n",
              "    .dataframe thead th {\n",
              "        text-align: right;\n",
              "    }\n",
              "</style>\n",
              "<table border=\"1\" class=\"dataframe\">\n",
              "  <thead>\n",
              "    <tr style=\"text-align: right;\">\n",
              "      <th></th>\n",
              "      <th>sim_type</th>\n",
              "      <th>gpu_rank</th>\n",
              "      <th>thickness</th>\n",
              "      <th>price</th>\n",
              "    </tr>\n",
              "    <tr>\n",
              "      <th>is_liked</th>\n",
              "      <th></th>\n",
              "      <th></th>\n",
              "      <th></th>\n",
              "      <th></th>\n",
              "    </tr>\n",
              "  </thead>\n",
              "  <tbody>\n",
              "    <tr>\n",
              "      <th>0</th>\n",
              "      <td>1.411765</td>\n",
              "      <td>27.941176</td>\n",
              "      <td>8.200000</td>\n",
              "      <td>19264.823529</td>\n",
              "    </tr>\n",
              "    <tr>\n",
              "      <th>1</th>\n",
              "      <td>0.902174</td>\n",
              "      <td>30.369565</td>\n",
              "      <td>8.354348</td>\n",
              "      <td>19393.239130</td>\n",
              "    </tr>\n",
              "  </tbody>\n",
              "</table>\n",
              "</div>"
            ],
            "text/plain": [
              "          sim_type   gpu_rank  thickness         price\n",
              "is_liked                                              \n",
              "0         1.411765  27.941176   8.200000  19264.823529\n",
              "1         0.902174  30.369565   8.354348  19393.239130"
            ]
          },
          "metadata": {
            "tags": []
          },
          "execution_count": 50
        }
      ]
    },
    {
      "metadata": {
        "id": "If-d1CJQlZr8",
        "colab_type": "code",
        "colab": {}
      },
      "cell_type": "code",
      "source": [
        "import matplotlib.pyplot as plt\n",
        "import seaborn as sns\n",
        "sns.set()"
      ],
      "execution_count": 0,
      "outputs": []
    },
    {
      "metadata": {
        "id": "efj9nE1TmTf_",
        "colab_type": "code",
        "colab": {
          "base_uri": "https://localhost:8080/",
          "height": 901
        },
        "outputId": "b15ac078-7c3d-429e-8705-e77b8584f09e"
      },
      "cell_type": "code",
      "source": [
        "ax = sns.pairplot(df_thin, diag_kind='hist')"
      ],
      "execution_count": 52,
      "outputs": [
        {
          "output_type": "display_data",
          "data": {
            "image/png": "[encoded data removed]",
            "text/plain": [
              "<Figure size 900x900 with 30 Axes>"
            ]
          },
          "metadata": {
            "tags": []
          }
        }
      ]
    },
    {
      "metadata": {
        "id": "nbU2Ma6FmenJ",
        "colab_type": "code",
        "colab": {
          "base_uri": "https://localhost:8080/",
          "height": 901
        },
        "outputId": "ed3da9a0-d249-4d53-9ac6-c3ebcfa66cc4"
      },
      "cell_type": "code",
      "source": [
        "ax = sns.pairplot(df_thin, diag_kind='hist', hue='is_liked')"
      ],
      "execution_count": 53,
      "outputs": [
        {
          "output_type": "display_data",
          "data": {
            "image/png": "[encoded data removed]",
            "text/plain": [
              "<Figure size 941.625x900 with 30 Axes>"
            ]
          },
          "metadata": {
            "tags": []
          }
        }
      ]
    },
    {
      "metadata": {
        "id": "SXSra64HnjVR",
        "colab_type": "text"
      },
      "cell_type": "markdown",
      "source": [
        "# Debugging"
      ]
    },
    {
      "metadata": {
        "id": "OUFhQ-snoAzz",
        "colab_type": "code",
        "colab": {}
      },
      "cell_type": "code",
      "source": [
        "import random"
      ],
      "execution_count": 0,
      "outputs": []
    },
    {
      "metadata": {
        "id": "ZXV0nKpMnAsO",
        "colab_type": "code",
        "colab": {}
      },
      "cell_type": "code",
      "source": [
        "def factorial(x):\n",
        "  if(x==0):\n",
        "    return 1\n",
        "  return x * factorial(x-1)"
      ],
      "execution_count": 0,
      "outputs": []
    },
    {
      "metadata": {
        "id": "lMrSBN5GnvJr",
        "colab_type": "code",
        "colab": {
          "base_uri": "https://localhost:8080/",
          "height": 34
        },
        "outputId": "ff70abe2-d208-41f1-b79b-0e3a051b3ba2"
      },
      "cell_type": "code",
      "source": [
        "factorial(5)"
      ],
      "execution_count": 56,
      "outputs": [
        {
          "output_type": "execute_result",
          "data": {
            "text/plain": [
              "120"
            ]
          },
          "metadata": {
            "tags": []
          },
          "execution_count": 56
        }
      ]
    },
    {
      "metadata": {
        "id": "vdB1kYuZnw6y",
        "colab_type": "code",
        "colab": {}
      },
      "cell_type": "code",
      "source": [
        "def code_debug():\n",
        "  import pdb; pdb.set_trace()\n",
        "  for i in range(10):\n",
        "    x = random.random()\n",
        "    factorial(x)"
      ],
      "execution_count": 0,
      "outputs": []
    },
    {
      "metadata": {
        "id": "UuzCwsbpoPgg",
        "colab_type": "code",
        "colab": {
          "base_uri": "https://localhost:8080/",
          "height": 1834
        },
        "outputId": "fdcdce64-801e-4a9e-e25b-f13db32f6886"
      },
      "cell_type": "code",
      "source": [
        "code_debug()"
      ],
      "execution_count": 66,
      "outputs": [
        {
          "output_type": "stream",
          "text": [
            "> <ipython-input-63-72ab5bba0960>(3)code_debug()\n",
            "-> for i in range(10):\n",
            "(Pdb) help c\n",
            "c(ont(inue))\n",
            "        Continue execution, only stop when a breakpoint is encountered.\n",
            "(Pdb) ?\n",
            "\n",
            "Documented commands (type help <topic>):\n",
            "========================================\n",
            "EOF    c          d        h         list      q        rv       undisplay\n",
            "a      cl         debug    help      ll        quit     s        unt      \n",
            "alias  clear      disable  ignore    longlist  r        source   until    \n",
            "args   commands   display  interact  n         restart  step     up       \n",
            "b      condition  down     j         next      return   tbreak   w        \n",
            "break  cont       enable   jump      p         retval   u        whatis   \n",
            "bt     continue   exit     l         pp        run      unalias  where    \n",
            "\n",
            "Miscellaneous help topics:\n",
            "==========================\n",
            "exec  pdb\n",
            "\n",
            "(Pdb) n\n",
            "> <ipython-input-63-72ab5bba0960>(4)code_debug()\n",
            "-> x = random.random()\n",
            "(Pdb) n\n",
            "> <ipython-input-63-72ab5bba0960>(5)code_debug()\n",
            "-> factorial(x)\n",
            "(Pdb) help l\n",
            "l(ist) [first [,last] | .]\n",
            "\n",
            "        List source code for the current file.  Without arguments,\n",
            "        list 11 lines around the current line or continue the previous\n",
            "        listing.  With . as argument, list 11 lines around the current\n",
            "        line.  With one argument, list 11 lines starting at that line.\n",
            "        With two arguments, list the given range; if the second\n",
            "        argument is less than the first, it is a count.\n",
            "\n",
            "        The current line in the current frame is indicated by \"->\".\n",
            "        If an exception is being debugged, the line where the\n",
            "        exception was originally raised or propagated is indicated by\n",
            "        \">>\", if it differs from the current line.\n",
            "(Pdb) l\n",
            "  1  \tdef code_debug():\n",
            "  2  \t  import pdb; pdb.set_trace()\n",
            "  3  \t  for i in range(10):\n",
            "  4  \t    x = random.random()\n",
            "  5  ->\t    factorial(x)\n",
            "[EOF]\n",
            "(Pdb) s\n",
            "--Call--\n",
            "> <ipython-input-54-c497691b691d>(1)factorial()\n",
            "-> def factorial(x):\n",
            "(Pdb) s\n",
            "> <ipython-input-54-c497691b691d>(2)factorial()\n",
            "-> if(x==0):\n",
            "(Pdb) print(x)\n",
            "0.322939522558653\n",
            "(Pdb) n\n",
            "> <ipython-input-54-c497691b691d>(4)factorial()\n",
            "-> return x * factorial(x-1)\n",
            "(Pdb) s\n",
            "--Call--\n",
            "> <ipython-input-54-c497691b691d>(1)factorial()\n",
            "-> def factorial(x):\n",
            "(Pdb) print(x)\n",
            "-0.677060477441347\n",
            "(Pdb) quit\n"
          ],
          "name": "stdout"
        },
        {
          "output_type": "error",
          "ename": "BdbQuit",
          "evalue": "ignored",
          "traceback": [
            "\u001b[0;31m---------------------------------------------------------------------------\u001b[0m",
            "\u001b[0;31mBdbQuit\u001b[0m                                   Traceback (most recent call last)",
            "\u001b[0;32m<ipython-input-66-72a8919a16fa>\u001b[0m in \u001b[0;36m<module>\u001b[0;34m()\u001b[0m\n\u001b[0;32m----> 1\u001b[0;31m \u001b[0mcode_debug\u001b[0m\u001b[0;34m(\u001b[0m\u001b[0;34m)\u001b[0m\u001b[0;34m\u001b[0m\u001b[0;34m\u001b[0m\u001b[0m\n\u001b[0m",
            "\u001b[0;32m<ipython-input-63-72ab5bba0960>\u001b[0m in \u001b[0;36mcode_debug\u001b[0;34m()\u001b[0m\n\u001b[1;32m      3\u001b[0m   \u001b[0;32mfor\u001b[0m \u001b[0mi\u001b[0m \u001b[0;32min\u001b[0m \u001b[0mrange\u001b[0m\u001b[0;34m(\u001b[0m\u001b[0;36m10\u001b[0m\u001b[0;34m)\u001b[0m\u001b[0;34m:\u001b[0m\u001b[0;34m\u001b[0m\u001b[0;34m\u001b[0m\u001b[0m\n\u001b[1;32m      4\u001b[0m     \u001b[0mx\u001b[0m \u001b[0;34m=\u001b[0m \u001b[0mrandom\u001b[0m\u001b[0;34m.\u001b[0m\u001b[0mrandom\u001b[0m\u001b[0;34m(\u001b[0m\u001b[0;34m)\u001b[0m\u001b[0;34m\u001b[0m\u001b[0;34m\u001b[0m\u001b[0m\n\u001b[0;32m----> 5\u001b[0;31m     \u001b[0mfactorial\u001b[0m\u001b[0;34m(\u001b[0m\u001b[0mx\u001b[0m\u001b[0;34m)\u001b[0m\u001b[0;34m\u001b[0m\u001b[0;34m\u001b[0m\u001b[0m\n\u001b[0m",
            "\u001b[0;32m<ipython-input-54-c497691b691d>\u001b[0m in \u001b[0;36mfactorial\u001b[0;34m(x)\u001b[0m\n\u001b[1;32m      2\u001b[0m   \u001b[0;32mif\u001b[0m\u001b[0;34m(\u001b[0m\u001b[0mx\u001b[0m\u001b[0;34m==\u001b[0m\u001b[0;36m0\u001b[0m\u001b[0;34m)\u001b[0m\u001b[0;34m:\u001b[0m\u001b[0;34m\u001b[0m\u001b[0;34m\u001b[0m\u001b[0m\n\u001b[1;32m      3\u001b[0m     \u001b[0;32mreturn\u001b[0m \u001b[0;36m1\u001b[0m\u001b[0;34m\u001b[0m\u001b[0;34m\u001b[0m\u001b[0m\n\u001b[0;32m----> 4\u001b[0;31m   \u001b[0;32mreturn\u001b[0m \u001b[0mx\u001b[0m \u001b[0;34m*\u001b[0m \u001b[0mfactorial\u001b[0m\u001b[0;34m(\u001b[0m\u001b[0mx\u001b[0m\u001b[0;34m-\u001b[0m\u001b[0;36m1\u001b[0m\u001b[0;34m)\u001b[0m\u001b[0;34m\u001b[0m\u001b[0;34m\u001b[0m\u001b[0m\n\u001b[0m",
            "\u001b[0;32m<ipython-input-54-c497691b691d>\u001b[0m in \u001b[0;36mfactorial\u001b[0;34m(x)\u001b[0m\n\u001b[0;32m----> 1\u001b[0;31m \u001b[0;32mdef\u001b[0m \u001b[0mfactorial\u001b[0m\u001b[0;34m(\u001b[0m\u001b[0mx\u001b[0m\u001b[0;34m)\u001b[0m\u001b[0;34m:\u001b[0m\u001b[0;34m\u001b[0m\u001b[0;34m\u001b[0m\u001b[0m\n\u001b[0m\u001b[1;32m      2\u001b[0m   \u001b[0;32mif\u001b[0m\u001b[0;34m(\u001b[0m\u001b[0mx\u001b[0m\u001b[0;34m==\u001b[0m\u001b[0;36m0\u001b[0m\u001b[0;34m)\u001b[0m\u001b[0;34m:\u001b[0m\u001b[0;34m\u001b[0m\u001b[0;34m\u001b[0m\u001b[0m\n\u001b[1;32m      3\u001b[0m     \u001b[0;32mreturn\u001b[0m \u001b[0;36m1\u001b[0m\u001b[0;34m\u001b[0m\u001b[0;34m\u001b[0m\u001b[0m\n\u001b[1;32m      4\u001b[0m   \u001b[0;32mreturn\u001b[0m \u001b[0mx\u001b[0m \u001b[0;34m*\u001b[0m \u001b[0mfactorial\u001b[0m\u001b[0;34m(\u001b[0m\u001b[0mx\u001b[0m\u001b[0;34m-\u001b[0m\u001b[0;36m1\u001b[0m\u001b[0;34m)\u001b[0m\u001b[0;34m\u001b[0m\u001b[0;34m\u001b[0m\u001b[0m\n",
            "\u001b[0;32m/usr/lib/python3.6/bdb.py\u001b[0m in \u001b[0;36mtrace_dispatch\u001b[0;34m(self, frame, event, arg)\u001b[0m\n\u001b[1;32m     51\u001b[0m             \u001b[0;32mreturn\u001b[0m \u001b[0mself\u001b[0m\u001b[0;34m.\u001b[0m\u001b[0mdispatch_line\u001b[0m\u001b[0;34m(\u001b[0m\u001b[0mframe\u001b[0m\u001b[0;34m)\u001b[0m\u001b[0;34m\u001b[0m\u001b[0;34m\u001b[0m\u001b[0m\n\u001b[1;32m     52\u001b[0m         \u001b[0;32mif\u001b[0m \u001b[0mevent\u001b[0m \u001b[0;34m==\u001b[0m \u001b[0;34m'call'\u001b[0m\u001b[0;34m:\u001b[0m\u001b[0;34m\u001b[0m\u001b[0;34m\u001b[0m\u001b[0m\n\u001b[0;32m---> 53\u001b[0;31m             \u001b[0;32mreturn\u001b[0m \u001b[0mself\u001b[0m\u001b[0;34m.\u001b[0m\u001b[0mdispatch_call\u001b[0m\u001b[0;34m(\u001b[0m\u001b[0mframe\u001b[0m\u001b[0;34m,\u001b[0m \u001b[0marg\u001b[0m\u001b[0;34m)\u001b[0m\u001b[0;34m\u001b[0m\u001b[0;34m\u001b[0m\u001b[0m\n\u001b[0m\u001b[1;32m     54\u001b[0m         \u001b[0;32mif\u001b[0m \u001b[0mevent\u001b[0m \u001b[0;34m==\u001b[0m \u001b[0;34m'return'\u001b[0m\u001b[0;34m:\u001b[0m\u001b[0;34m\u001b[0m\u001b[0;34m\u001b[0m\u001b[0m\n\u001b[1;32m     55\u001b[0m             \u001b[0;32mreturn\u001b[0m \u001b[0mself\u001b[0m\u001b[0;34m.\u001b[0m\u001b[0mdispatch_return\u001b[0m\u001b[0;34m(\u001b[0m\u001b[0mframe\u001b[0m\u001b[0;34m,\u001b[0m \u001b[0marg\u001b[0m\u001b[0;34m)\u001b[0m\u001b[0;34m\u001b[0m\u001b[0;34m\u001b[0m\u001b[0m\n",
            "\u001b[0;32m/usr/lib/python3.6/bdb.py\u001b[0m in \u001b[0;36mdispatch_call\u001b[0;34m(self, frame, arg)\u001b[0m\n\u001b[1;32m     84\u001b[0m             \u001b[0;32mreturn\u001b[0m \u001b[0mself\u001b[0m\u001b[0;34m.\u001b[0m\u001b[0mtrace_dispatch\u001b[0m\u001b[0;34m\u001b[0m\u001b[0;34m\u001b[0m\u001b[0m\n\u001b[1;32m     85\u001b[0m         \u001b[0mself\u001b[0m\u001b[0;34m.\u001b[0m\u001b[0muser_call\u001b[0m\u001b[0;34m(\u001b[0m\u001b[0mframe\u001b[0m\u001b[0;34m,\u001b[0m \u001b[0marg\u001b[0m\u001b[0;34m)\u001b[0m\u001b[0;34m\u001b[0m\u001b[0;34m\u001b[0m\u001b[0m\n\u001b[0;32m---> 86\u001b[0;31m         \u001b[0;32mif\u001b[0m \u001b[0mself\u001b[0m\u001b[0;34m.\u001b[0m\u001b[0mquitting\u001b[0m\u001b[0;34m:\u001b[0m \u001b[0;32mraise\u001b[0m \u001b[0mBdbQuit\u001b[0m\u001b[0;34m\u001b[0m\u001b[0;34m\u001b[0m\u001b[0m\n\u001b[0m\u001b[1;32m     87\u001b[0m         \u001b[0;32mreturn\u001b[0m \u001b[0mself\u001b[0m\u001b[0;34m.\u001b[0m\u001b[0mtrace_dispatch\u001b[0m\u001b[0;34m\u001b[0m\u001b[0;34m\u001b[0m\u001b[0m\n\u001b[1;32m     88\u001b[0m \u001b[0;34m\u001b[0m\u001b[0m\n",
            "\u001b[0;31mBdbQuit\u001b[0m: "
          ]
        }
      ]
    },
    {
      "metadata": {
        "id": "wVyGn-vCoXBy",
        "colab_type": "code",
        "colab": {}
      },
      "cell_type": "code",
      "source": [
        "def factorial_debugged(x):\n",
        "  if (not isinstance(x,int)):\n",
        "    print('Only Supports Integers')\n",
        "    return -1\n",
        "  if(x==0):\n",
        "    return 1\n",
        "  return x * factorial(x-1)"
      ],
      "execution_count": 0,
      "outputs": []
    },
    {
      "metadata": {
        "id": "gB1l397VrYz8",
        "colab_type": "code",
        "colab": {}
      },
      "cell_type": "code",
      "source": [
        "def code_debug():\n",
        "  import pdb; pdb.set_trace()\n",
        "  for i in range(10):\n",
        "    x = random.random()\n",
        "    factorial_debugged(x)"
      ],
      "execution_count": 0,
      "outputs": []
    },
    {
      "metadata": {
        "id": "wOGD7jIArm3B",
        "colab_type": "code",
        "colab": {
          "base_uri": "https://localhost:8080/",
          "height": 241
        },
        "outputId": "19defc23-aeb5-457b-ef2a-819a38666d28"
      },
      "cell_type": "code",
      "source": [
        "code_debug()"
      ],
      "execution_count": 74,
      "outputs": [
        {
          "output_type": "stream",
          "text": [
            "> <ipython-input-73-c6a3d188b938>(3)code_debug()\n",
            "-> for i in range(10):\n",
            "(Pdb) c\n",
            "Only Supports Integers\n",
            "Only Supports Integers\n",
            "Only Supports Integers\n",
            "Only Supports Integers\n",
            "Only Supports Integers\n",
            "Only Supports Integers\n",
            "Only Supports Integers\n",
            "Only Supports Integers\n",
            "Only Supports Integers\n",
            "Only Supports Integers\n"
          ],
          "name": "stdout"
        }
      ]
    },
    {
      "metadata": {
        "id": "RxZ-Z9XSse89",
        "colab_type": "code",
        "colab": {
          "base_uri": "https://localhost:8080/",
          "height": 34
        },
        "outputId": "845ac7d0-5225-425a-9046-857a7353ed20"
      },
      "cell_type": "code",
      "source": [
        "%xmode Verbose"
      ],
      "execution_count": 75,
      "outputs": [
        {
          "output_type": "stream",
          "text": [
            "Exception reporting mode: Verbose\n"
          ],
          "name": "stdout"
        }
      ]
    },
    {
      "metadata": {
        "id": "W5MLhJ5NrqUX",
        "colab_type": "code",
        "colab": {}
      },
      "cell_type": "code",
      "source": [
        "def code_debug():\n",
        "  #import pdb; pdb.set_trace()\n",
        "  \n",
        "  for i in range(10):\n",
        "    x = random.random()\n",
        "    factorial(x)"
      ],
      "execution_count": 0,
      "outputs": []
    },
    {
      "metadata": {
        "id": "ma9ogV1gsmiQ",
        "colab_type": "code",
        "colab": {
          "base_uri": "https://localhost:8080/",
          "height": 578
        },
        "outputId": "2b8a92e3-1466-4ed0-add5-0d48c54d66e2"
      },
      "cell_type": "code",
      "source": [
        "code_debug()"
      ],
      "execution_count": 77,
      "outputs": [
        {
          "output_type": "error",
          "ename": "RecursionError",
          "evalue": "ignored",
          "traceback": [
            "\u001b[0;31m---------------------------------------------------------------------------\u001b[0m",
            "\u001b[0;31mRecursionError\u001b[0m                            Traceback (most recent call last)",
            "\u001b[0;32m<ipython-input-77-72a8919a16fa>\u001b[0m in \u001b[0;36m<module>\u001b[0;34m()\u001b[0m\n\u001b[0;32m----> 1\u001b[0;31m \u001b[0mcode_debug\u001b[0m\u001b[0;34m(\u001b[0m\u001b[0;34m)\u001b[0m\u001b[0;34m\u001b[0m\u001b[0;34m\u001b[0m\u001b[0m\n\u001b[0m        \u001b[0;36mglobal\u001b[0m \u001b[0;36mcode_debug\u001b[0m \u001b[0;34m= <function code_debug at 0x7efd52b00a60>\u001b[0m\n",
            "\u001b[0;32m<ipython-input-76-fead2352b37c>\u001b[0m in \u001b[0;36mcode_debug\u001b[0;34m()\u001b[0m\n\u001b[1;32m      4\u001b[0m   \u001b[0;32mfor\u001b[0m \u001b[0mi\u001b[0m \u001b[0;32min\u001b[0m \u001b[0mrange\u001b[0m\u001b[0;34m(\u001b[0m\u001b[0;36m10\u001b[0m\u001b[0;34m)\u001b[0m\u001b[0;34m:\u001b[0m\u001b[0;34m\u001b[0m\u001b[0;34m\u001b[0m\u001b[0m\n\u001b[1;32m      5\u001b[0m     \u001b[0mx\u001b[0m \u001b[0;34m=\u001b[0m \u001b[0mrandom\u001b[0m\u001b[0;34m.\u001b[0m\u001b[0mrandom\u001b[0m\u001b[0;34m(\u001b[0m\u001b[0;34m)\u001b[0m\u001b[0;34m\u001b[0m\u001b[0;34m\u001b[0m\u001b[0m\n\u001b[0;32m----> 6\u001b[0;31m     \u001b[0mfactorial\u001b[0m\u001b[0;34m(\u001b[0m\u001b[0mx\u001b[0m\u001b[0;34m)\u001b[0m\u001b[0;34m\u001b[0m\u001b[0;34m\u001b[0m\u001b[0m\n\u001b[0m        \u001b[0;36mglobal\u001b[0m \u001b[0;36mfactorial\u001b[0m \u001b[0;34m= <function factorial at 0x7efd4dfd0400>\u001b[0m\u001b[0;34m\n        \u001b[0m\u001b[0;36mx\u001b[0m \u001b[0;34m= 0.5618060935967476\u001b[0m\n",
            "\u001b[0;32m<ipython-input-54-c497691b691d>\u001b[0m in \u001b[0;36mfactorial\u001b[0;34m(x=0.5618060935967476)\u001b[0m\n\u001b[1;32m      2\u001b[0m   \u001b[0;32mif\u001b[0m\u001b[0;34m(\u001b[0m\u001b[0mx\u001b[0m\u001b[0;34m==\u001b[0m\u001b[0;36m0\u001b[0m\u001b[0;34m)\u001b[0m\u001b[0;34m:\u001b[0m\u001b[0;34m\u001b[0m\u001b[0;34m\u001b[0m\u001b[0m\n\u001b[1;32m      3\u001b[0m     \u001b[0;32mreturn\u001b[0m \u001b[0;36m1\u001b[0m\u001b[0;34m\u001b[0m\u001b[0;34m\u001b[0m\u001b[0m\n\u001b[0;32m----> 4\u001b[0;31m   \u001b[0;32mreturn\u001b[0m \u001b[0mx\u001b[0m \u001b[0;34m*\u001b[0m \u001b[0mfactorial\u001b[0m\u001b[0;34m(\u001b[0m\u001b[0mx\u001b[0m\u001b[0;34m-\u001b[0m\u001b[0;36m1\u001b[0m\u001b[0;34m)\u001b[0m\u001b[0;34m\u001b[0m\u001b[0;34m\u001b[0m\u001b[0m\n\u001b[0m        \u001b[0;36mx\u001b[0m \u001b[0;34m= 0.5618060935967476\u001b[0m\u001b[0;34m\n        \u001b[0m\u001b[0;36mglobal\u001b[0m \u001b[0;36mfactorial\u001b[0m \u001b[0;34m= <function factorial at 0x7efd4dfd0400>\u001b[0m\n",
            "... last 1 frames repeated, from the frame below ...\n",
            "\u001b[0;32m<ipython-input-54-c497691b691d>\u001b[0m in \u001b[0;36mfactorial\u001b[0;34m(x=-0.4381939064032524)\u001b[0m\n\u001b[1;32m      2\u001b[0m   \u001b[0;32mif\u001b[0m\u001b[0;34m(\u001b[0m\u001b[0mx\u001b[0m\u001b[0;34m==\u001b[0m\u001b[0;36m0\u001b[0m\u001b[0;34m)\u001b[0m\u001b[0;34m:\u001b[0m\u001b[0;34m\u001b[0m\u001b[0;34m\u001b[0m\u001b[0m\n\u001b[1;32m      3\u001b[0m     \u001b[0;32mreturn\u001b[0m \u001b[0;36m1\u001b[0m\u001b[0;34m\u001b[0m\u001b[0;34m\u001b[0m\u001b[0m\n\u001b[0;32m----> 4\u001b[0;31m   \u001b[0;32mreturn\u001b[0m \u001b[0mx\u001b[0m \u001b[0;34m*\u001b[0m \u001b[0mfactorial\u001b[0m\u001b[0;34m(\u001b[0m\u001b[0mx\u001b[0m\u001b[0;34m-\u001b[0m\u001b[0;36m1\u001b[0m\u001b[0;34m)\u001b[0m\u001b[0;34m\u001b[0m\u001b[0;34m\u001b[0m\u001b[0m\n\u001b[0m        \u001b[0;36mx\u001b[0m \u001b[0;34m= -0.4381939064032524\u001b[0m\u001b[0;34m\n        \u001b[0m\u001b[0;36mglobal\u001b[0m \u001b[0;36mfactorial\u001b[0m \u001b[0;34m= <function factorial at 0x7efd4dfd0400>\u001b[0m\n",
            "\u001b[0;31mRecursionError\u001b[0m: maximum recursion depth exceeded in comparison"
          ]
        }
      ]
    },
    {
      "metadata": {
        "id": "6jgUQ3hbsn3o",
        "colab_type": "code",
        "colab": {}
      },
      "cell_type": "code",
      "source": [
        "def factorial_debugged(x):\n",
        "  if (not isinstance(x,int)):\n",
        "    print('Only Supports Integers')\n",
        "    return -1\n",
        "  else:\n",
        "    return x * factorial(x-1) # implement remove bug\n",
        "  if(x==0):\n",
        "    return 1\n",
        "  # return x * factorial(x-1)"
      ],
      "execution_count": 0,
      "outputs": []
    },
    {
      "metadata": {
        "id": "QHoaR-LjtpfH",
        "colab_type": "code",
        "colab": {}
      },
      "cell_type": "code",
      "source": [
        "def code_debug():  \n",
        "  for i in range(10):\n",
        "    x = random.random()\n",
        "    factorial_debugged(x)"
      ],
      "execution_count": 0,
      "outputs": []
    },
    {
      "metadata": {
        "id": "ueZIfzs0tth-",
        "colab_type": "code",
        "colab": {
          "base_uri": "https://localhost:8080/",
          "height": 189
        },
        "outputId": "1715aa40-2322-4be1-b742-a557b5dc4a59"
      },
      "cell_type": "code",
      "source": [
        "code_debug()"
      ],
      "execution_count": 81,
      "outputs": [
        {
          "output_type": "stream",
          "text": [
            "Only Supports Integers\n",
            "Only Supports Integers\n",
            "Only Supports Integers\n",
            "Only Supports Integers\n",
            "Only Supports Integers\n",
            "Only Supports Integers\n",
            "Only Supports Integers\n",
            "Only Supports Integers\n",
            "Only Supports Integers\n",
            "Only Supports Integers\n"
          ],
          "name": "stdout"
        }
      ]
    },
    {
      "metadata": {
        "id": "IUqkAUBhtxd8",
        "colab_type": "code",
        "colab": {}
      },
      "cell_type": "code",
      "source": [
        ""
      ],
      "execution_count": 0,
      "outputs": []
    }
  ]
}